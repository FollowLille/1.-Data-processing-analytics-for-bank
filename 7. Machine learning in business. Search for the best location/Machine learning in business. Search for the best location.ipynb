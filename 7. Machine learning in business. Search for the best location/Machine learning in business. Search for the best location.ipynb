{
 "cells": [
  {
   "cell_type": "markdown",
   "metadata": {},
   "source": [
    "# Описание проекта"
   ]
  },
  {
   "cell_type": "markdown",
   "metadata": {},
   "source": [
    "Допустим, вы работаете в добывающей компании «ГлавРосГосНефть». Нужно решить, где бурить новую скважину.\n",
    "\n",
    "Вам предоставлены пробы нефти в трёх регионах: в каждом 10 000 месторождений, где измерили качество нефти и объём её запасов. Постройте модель машинного обучения, которая поможет определить регион, где добыча принесёт наибольшую прибыль. Проанализируйте возможную прибыль и риски техникой *Bootstrap.*\n",
    "\n",
    "Шаги для выбора локации:\n",
    "\n",
    "- В избранном регионе ищут месторождения, для каждого определяют значения признаков;\n",
    "- Строят модель и оценивают объём запасов;\n",
    "- Выбирают месторождения с самым высокими оценками значений. Количество месторождений зависит от бюджета компании и стоимости разработки одной скважины;\n",
    "- Прибыль равна суммарной прибыли отобранных месторождений."
   ]
  },
  {
   "cell_type": "markdown",
   "metadata": {},
   "source": [
    "# План работы:\n",
    "\n",
    "1) [Изучить общую информацию.](#id_1)\n",
    "\n",
    "2) [Обучение и проверка модели.](#id_2)\n",
    "\n",
    "3) [Подготовка к расчету прибыли.](#id_3)\n",
    "\n",
    "4) [Расчет прибыли и рисков.](#id_4)\n",
    "\n",
    "5) [Общий вывод.](#id_5)"
   ]
  },
  {
   "cell_type": "markdown",
   "metadata": {},
   "source": [
    "<a id='id_1'></a>\n",
    "# 1. Загрузка и подготовка данных"
   ]
  },
  {
   "cell_type": "code",
   "execution_count": 1,
   "metadata": {},
   "outputs": [
    {
     "name": "stdout",
     "output_type": "stream",
     "text": [
      "<class 'pandas.core.frame.DataFrame'>\n",
      "RangeIndex: 100000 entries, 0 to 99999\n",
      "Data columns (total 5 columns):\n",
      "id         100000 non-null object\n",
      "f0         100000 non-null float64\n",
      "f1         100000 non-null float64\n",
      "f2         100000 non-null float64\n",
      "product    100000 non-null float64\n",
      "dtypes: float64(4), object(1)\n",
      "memory usage: 3.8+ MB\n"
     ]
    },
    {
     "data": {
      "text/html": [
       "<div>\n",
       "<style scoped>\n",
       "    .dataframe tbody tr th:only-of-type {\n",
       "        vertical-align: middle;\n",
       "    }\n",
       "\n",
       "    .dataframe tbody tr th {\n",
       "        vertical-align: top;\n",
       "    }\n",
       "\n",
       "    .dataframe thead th {\n",
       "        text-align: right;\n",
       "    }\n",
       "</style>\n",
       "<table border=\"1\" class=\"dataframe\">\n",
       "  <thead>\n",
       "    <tr style=\"text-align: right;\">\n",
       "      <th></th>\n",
       "      <th>id</th>\n",
       "      <th>f0</th>\n",
       "      <th>f1</th>\n",
       "      <th>f2</th>\n",
       "      <th>product</th>\n",
       "    </tr>\n",
       "  </thead>\n",
       "  <tbody>\n",
       "    <tr>\n",
       "      <td>0</td>\n",
       "      <td>txEyH</td>\n",
       "      <td>0.705745</td>\n",
       "      <td>-0.497823</td>\n",
       "      <td>1.221170</td>\n",
       "      <td>105.280062</td>\n",
       "    </tr>\n",
       "    <tr>\n",
       "      <td>1</td>\n",
       "      <td>2acmU</td>\n",
       "      <td>1.334711</td>\n",
       "      <td>-0.340164</td>\n",
       "      <td>4.365080</td>\n",
       "      <td>73.037750</td>\n",
       "    </tr>\n",
       "    <tr>\n",
       "      <td>2</td>\n",
       "      <td>409Wp</td>\n",
       "      <td>1.022732</td>\n",
       "      <td>0.151990</td>\n",
       "      <td>1.419926</td>\n",
       "      <td>85.265647</td>\n",
       "    </tr>\n",
       "    <tr>\n",
       "      <td>3</td>\n",
       "      <td>iJLyR</td>\n",
       "      <td>-0.032172</td>\n",
       "      <td>0.139033</td>\n",
       "      <td>2.978566</td>\n",
       "      <td>168.620776</td>\n",
       "    </tr>\n",
       "    <tr>\n",
       "      <td>4</td>\n",
       "      <td>Xdl7t</td>\n",
       "      <td>1.988431</td>\n",
       "      <td>0.155413</td>\n",
       "      <td>4.751769</td>\n",
       "      <td>154.036647</td>\n",
       "    </tr>\n",
       "  </tbody>\n",
       "</table>\n",
       "</div>"
      ],
      "text/plain": [
       "      id        f0        f1        f2     product\n",
       "0  txEyH  0.705745 -0.497823  1.221170  105.280062\n",
       "1  2acmU  1.334711 -0.340164  4.365080   73.037750\n",
       "2  409Wp  1.022732  0.151990  1.419926   85.265647\n",
       "3  iJLyR -0.032172  0.139033  2.978566  168.620776\n",
       "4  Xdl7t  1.988431  0.155413  4.751769  154.036647"
      ]
     },
     "execution_count": 1,
     "metadata": {},
     "output_type": "execute_result"
    }
   ],
   "source": [
    "# импортируем все необходимые для нас библиотеки\n",
    "import pandas as pd\n",
    "import numpy as np\n",
    "from sklearn.linear_model import LinearRegression\n",
    "from sklearn.model_selection import train_test_split\n",
    "from sklearn.preprocessing import StandardScaler\n",
    "from sklearn.metrics import mean_squared_error\n",
    "from scipy import stats as st\n",
    "data1 = pd.read_csv('/datasets/geo_data_0.csv')\n",
    "data2 = pd.read_csv('/datasets/geo_data_1.csv')\n",
    "data3 = pd.read_csv('/datasets/geo_data_2.csv')\n",
    "\n",
    "# ознакамливаемся с данными\n",
    "data1.info()\n",
    "data1.head(5)"
   ]
  },
  {
   "cell_type": "code",
   "execution_count": 2,
   "metadata": {},
   "outputs": [
    {
     "data": {
      "text/html": [
       "<div>\n",
       "<style scoped>\n",
       "    .dataframe tbody tr th:only-of-type {\n",
       "        vertical-align: middle;\n",
       "    }\n",
       "\n",
       "    .dataframe tbody tr th {\n",
       "        vertical-align: top;\n",
       "    }\n",
       "\n",
       "    .dataframe thead th {\n",
       "        text-align: right;\n",
       "    }\n",
       "</style>\n",
       "<table border=\"1\" class=\"dataframe\">\n",
       "  <thead>\n",
       "    <tr style=\"text-align: right;\">\n",
       "      <th></th>\n",
       "      <th>id</th>\n",
       "      <th>f0</th>\n",
       "      <th>f1</th>\n",
       "      <th>f2</th>\n",
       "      <th>product</th>\n",
       "    </tr>\n",
       "  </thead>\n",
       "  <tbody>\n",
       "    <tr>\n",
       "      <td>0</td>\n",
       "      <td>kBEdx</td>\n",
       "      <td>-15.001348</td>\n",
       "      <td>-8.276000</td>\n",
       "      <td>-0.005876</td>\n",
       "      <td>3.179103</td>\n",
       "    </tr>\n",
       "    <tr>\n",
       "      <td>1</td>\n",
       "      <td>62mP7</td>\n",
       "      <td>14.272088</td>\n",
       "      <td>-3.475083</td>\n",
       "      <td>0.999183</td>\n",
       "      <td>26.953261</td>\n",
       "    </tr>\n",
       "    <tr>\n",
       "      <td>2</td>\n",
       "      <td>vyE1P</td>\n",
       "      <td>6.263187</td>\n",
       "      <td>-5.948386</td>\n",
       "      <td>5.001160</td>\n",
       "      <td>134.766305</td>\n",
       "    </tr>\n",
       "    <tr>\n",
       "      <td>3</td>\n",
       "      <td>KcrkZ</td>\n",
       "      <td>-13.081196</td>\n",
       "      <td>-11.506057</td>\n",
       "      <td>4.999415</td>\n",
       "      <td>137.945408</td>\n",
       "    </tr>\n",
       "    <tr>\n",
       "      <td>4</td>\n",
       "      <td>AHL4O</td>\n",
       "      <td>12.702195</td>\n",
       "      <td>-8.147433</td>\n",
       "      <td>5.004363</td>\n",
       "      <td>134.766305</td>\n",
       "    </tr>\n",
       "  </tbody>\n",
       "</table>\n",
       "</div>"
      ],
      "text/plain": [
       "      id         f0         f1        f2     product\n",
       "0  kBEdx -15.001348  -8.276000 -0.005876    3.179103\n",
       "1  62mP7  14.272088  -3.475083  0.999183   26.953261\n",
       "2  vyE1P   6.263187  -5.948386  5.001160  134.766305\n",
       "3  KcrkZ -13.081196 -11.506057  4.999415  137.945408\n",
       "4  AHL4O  12.702195  -8.147433  5.004363  134.766305"
      ]
     },
     "execution_count": 2,
     "metadata": {},
     "output_type": "execute_result"
    }
   ],
   "source": [
    "data2.head(5)"
   ]
  },
  {
   "cell_type": "code",
   "execution_count": 3,
   "metadata": {},
   "outputs": [
    {
     "data": {
      "text/html": [
       "<div>\n",
       "<style scoped>\n",
       "    .dataframe tbody tr th:only-of-type {\n",
       "        vertical-align: middle;\n",
       "    }\n",
       "\n",
       "    .dataframe tbody tr th {\n",
       "        vertical-align: top;\n",
       "    }\n",
       "\n",
       "    .dataframe thead th {\n",
       "        text-align: right;\n",
       "    }\n",
       "</style>\n",
       "<table border=\"1\" class=\"dataframe\">\n",
       "  <thead>\n",
       "    <tr style=\"text-align: right;\">\n",
       "      <th></th>\n",
       "      <th>f0</th>\n",
       "      <th>f1</th>\n",
       "      <th>f2</th>\n",
       "      <th>product</th>\n",
       "    </tr>\n",
       "  </thead>\n",
       "  <tbody>\n",
       "    <tr>\n",
       "      <td>count</td>\n",
       "      <td>100000.000000</td>\n",
       "      <td>100000.000000</td>\n",
       "      <td>100000.000000</td>\n",
       "      <td>100000.000000</td>\n",
       "    </tr>\n",
       "    <tr>\n",
       "      <td>mean</td>\n",
       "      <td>1.141296</td>\n",
       "      <td>-4.796579</td>\n",
       "      <td>2.494541</td>\n",
       "      <td>68.825000</td>\n",
       "    </tr>\n",
       "    <tr>\n",
       "      <td>std</td>\n",
       "      <td>8.965932</td>\n",
       "      <td>5.119872</td>\n",
       "      <td>1.703572</td>\n",
       "      <td>45.944423</td>\n",
       "    </tr>\n",
       "    <tr>\n",
       "      <td>min</td>\n",
       "      <td>-31.609576</td>\n",
       "      <td>-26.358598</td>\n",
       "      <td>-0.018144</td>\n",
       "      <td>0.000000</td>\n",
       "    </tr>\n",
       "    <tr>\n",
       "      <td>25%</td>\n",
       "      <td>-6.298551</td>\n",
       "      <td>-8.267985</td>\n",
       "      <td>1.000021</td>\n",
       "      <td>26.953261</td>\n",
       "    </tr>\n",
       "    <tr>\n",
       "      <td>50%</td>\n",
       "      <td>1.153055</td>\n",
       "      <td>-4.813172</td>\n",
       "      <td>2.011479</td>\n",
       "      <td>57.085625</td>\n",
       "    </tr>\n",
       "    <tr>\n",
       "      <td>75%</td>\n",
       "      <td>8.621015</td>\n",
       "      <td>-1.332816</td>\n",
       "      <td>3.999904</td>\n",
       "      <td>107.813044</td>\n",
       "    </tr>\n",
       "    <tr>\n",
       "      <td>max</td>\n",
       "      <td>29.421755</td>\n",
       "      <td>18.734063</td>\n",
       "      <td>5.019721</td>\n",
       "      <td>137.945408</td>\n",
       "    </tr>\n",
       "  </tbody>\n",
       "</table>\n",
       "</div>"
      ],
      "text/plain": [
       "                  f0             f1             f2        product\n",
       "count  100000.000000  100000.000000  100000.000000  100000.000000\n",
       "mean        1.141296      -4.796579       2.494541      68.825000\n",
       "std         8.965932       5.119872       1.703572      45.944423\n",
       "min       -31.609576     -26.358598      -0.018144       0.000000\n",
       "25%        -6.298551      -8.267985       1.000021      26.953261\n",
       "50%         1.153055      -4.813172       2.011479      57.085625\n",
       "75%         8.621015      -1.332816       3.999904     107.813044\n",
       "max        29.421755      18.734063       5.019721     137.945408"
      ]
     },
     "execution_count": 3,
     "metadata": {},
     "output_type": "execute_result"
    }
   ],
   "source": [
    "data2.describe()"
   ]
  },
  {
   "cell_type": "code",
   "execution_count": 4,
   "metadata": {},
   "outputs": [
    {
     "name": "stdout",
     "output_type": "stream",
     "text": [
      "<class 'pandas.core.frame.DataFrame'>\n",
      "RangeIndex: 100000 entries, 0 to 99999\n",
      "Data columns (total 5 columns):\n",
      "id         100000 non-null object\n",
      "f0         100000 non-null float64\n",
      "f1         100000 non-null float64\n",
      "f2         100000 non-null float64\n",
      "product    100000 non-null float64\n",
      "dtypes: float64(4), object(1)\n",
      "memory usage: 3.8+ MB\n"
     ]
    },
    {
     "data": {
      "text/html": [
       "<div>\n",
       "<style scoped>\n",
       "    .dataframe tbody tr th:only-of-type {\n",
       "        vertical-align: middle;\n",
       "    }\n",
       "\n",
       "    .dataframe tbody tr th {\n",
       "        vertical-align: top;\n",
       "    }\n",
       "\n",
       "    .dataframe thead th {\n",
       "        text-align: right;\n",
       "    }\n",
       "</style>\n",
       "<table border=\"1\" class=\"dataframe\">\n",
       "  <thead>\n",
       "    <tr style=\"text-align: right;\">\n",
       "      <th></th>\n",
       "      <th>id</th>\n",
       "      <th>f0</th>\n",
       "      <th>f1</th>\n",
       "      <th>f2</th>\n",
       "      <th>product</th>\n",
       "    </tr>\n",
       "  </thead>\n",
       "  <tbody>\n",
       "    <tr>\n",
       "      <td>0</td>\n",
       "      <td>fwXo0</td>\n",
       "      <td>-1.146987</td>\n",
       "      <td>0.963328</td>\n",
       "      <td>-0.828965</td>\n",
       "      <td>27.758673</td>\n",
       "    </tr>\n",
       "    <tr>\n",
       "      <td>1</td>\n",
       "      <td>WJtFt</td>\n",
       "      <td>0.262778</td>\n",
       "      <td>0.269839</td>\n",
       "      <td>-2.530187</td>\n",
       "      <td>56.069697</td>\n",
       "    </tr>\n",
       "    <tr>\n",
       "      <td>2</td>\n",
       "      <td>ovLUW</td>\n",
       "      <td>0.194587</td>\n",
       "      <td>0.289035</td>\n",
       "      <td>-5.586433</td>\n",
       "      <td>62.871910</td>\n",
       "    </tr>\n",
       "    <tr>\n",
       "      <td>3</td>\n",
       "      <td>q6cA6</td>\n",
       "      <td>2.236060</td>\n",
       "      <td>-0.553760</td>\n",
       "      <td>0.930038</td>\n",
       "      <td>114.572842</td>\n",
       "    </tr>\n",
       "    <tr>\n",
       "      <td>4</td>\n",
       "      <td>WPMUX</td>\n",
       "      <td>-0.515993</td>\n",
       "      <td>1.716266</td>\n",
       "      <td>5.899011</td>\n",
       "      <td>149.600746</td>\n",
       "    </tr>\n",
       "  </tbody>\n",
       "</table>\n",
       "</div>"
      ],
      "text/plain": [
       "      id        f0        f1        f2     product\n",
       "0  fwXo0 -1.146987  0.963328 -0.828965   27.758673\n",
       "1  WJtFt  0.262778  0.269839 -2.530187   56.069697\n",
       "2  ovLUW  0.194587  0.289035 -5.586433   62.871910\n",
       "3  q6cA6  2.236060 -0.553760  0.930038  114.572842\n",
       "4  WPMUX -0.515993  1.716266  5.899011  149.600746"
      ]
     },
     "execution_count": 4,
     "metadata": {},
     "output_type": "execute_result"
    }
   ],
   "source": [
    "data3.info()\n",
    "data3.head(5)"
   ]
  },
  {
   "cell_type": "markdown",
   "metadata": {},
   "source": [
    "Теперь у нас есть 3 датафрейма, для каждого региона свой.\n",
    "Все они однотипны - имеют 100000 строк и 5 столбцов. Столбцы f0, f1, f2 - являются признаками, столбец product - целевым признаком. Признаки имеют разный мастштаб, а значит, для более корректного предсказания моделью - проведем масштабирование."
   ]
  },
  {
   "cell_type": "code",
   "execution_count": 5,
   "metadata": {},
   "outputs": [
    {
     "data": {
      "text/html": [
       "<div>\n",
       "<style scoped>\n",
       "    .dataframe tbody tr th:only-of-type {\n",
       "        vertical-align: middle;\n",
       "    }\n",
       "\n",
       "    .dataframe tbody tr th {\n",
       "        vertical-align: top;\n",
       "    }\n",
       "\n",
       "    .dataframe thead th {\n",
       "        text-align: right;\n",
       "    }\n",
       "</style>\n",
       "<table border=\"1\" class=\"dataframe\">\n",
       "  <thead>\n",
       "    <tr style=\"text-align: right;\">\n",
       "      <th></th>\n",
       "      <th>f0</th>\n",
       "      <th>f1</th>\n",
       "      <th>f2</th>\n",
       "      <th>product</th>\n",
       "    </tr>\n",
       "  </thead>\n",
       "  <tbody>\n",
       "    <tr>\n",
       "      <td>count</td>\n",
       "      <td>1.000000e+05</td>\n",
       "      <td>1.000000e+05</td>\n",
       "      <td>1.000000e+05</td>\n",
       "      <td>100000.000000</td>\n",
       "    </tr>\n",
       "    <tr>\n",
       "      <td>mean</td>\n",
       "      <td>2.287948e-17</td>\n",
       "      <td>-5.044853e-17</td>\n",
       "      <td>9.608314e-17</td>\n",
       "      <td>92.500000</td>\n",
       "    </tr>\n",
       "    <tr>\n",
       "      <td>std</td>\n",
       "      <td>1.000005e+00</td>\n",
       "      <td>1.000005e+00</td>\n",
       "      <td>1.000005e+00</td>\n",
       "      <td>44.288691</td>\n",
       "    </tr>\n",
       "    <tr>\n",
       "      <td>min</td>\n",
       "      <td>-2.189681e+00</td>\n",
       "      <td>-2.177430e+00</td>\n",
       "      <td>-4.491975e+00</td>\n",
       "      <td>0.000000</td>\n",
       "    </tr>\n",
       "    <tr>\n",
       "      <td>25%</td>\n",
       "      <td>-6.572397e-01</td>\n",
       "      <td>-8.941262e-01</td>\n",
       "      <td>-6.818784e-01</td>\n",
       "      <td>56.497507</td>\n",
       "    </tr>\n",
       "    <tr>\n",
       "      <td>50%</td>\n",
       "      <td>2.226500e-03</td>\n",
       "      <td>2.166008e-04</td>\n",
       "      <td>4.101360e-03</td>\n",
       "      <td>91.849972</td>\n",
       "    </tr>\n",
       "    <tr>\n",
       "      <td>75%</td>\n",
       "      <td>6.574259e-01</td>\n",
       "      <td>8.930937e-01</td>\n",
       "      <td>6.811217e-01</td>\n",
       "      <td>128.564089</td>\n",
       "    </tr>\n",
       "    <tr>\n",
       "      <td>max</td>\n",
       "      <td>2.135642e+00</td>\n",
       "      <td>2.168043e+00</td>\n",
       "      <td>4.156460e+00</td>\n",
       "      <td>185.364347</td>\n",
       "    </tr>\n",
       "  </tbody>\n",
       "</table>\n",
       "</div>"
      ],
      "text/plain": [
       "                 f0            f1            f2        product\n",
       "count  1.000000e+05  1.000000e+05  1.000000e+05  100000.000000\n",
       "mean   2.287948e-17 -5.044853e-17  9.608314e-17      92.500000\n",
       "std    1.000005e+00  1.000005e+00  1.000005e+00      44.288691\n",
       "min   -2.189681e+00 -2.177430e+00 -4.491975e+00       0.000000\n",
       "25%   -6.572397e-01 -8.941262e-01 -6.818784e-01      56.497507\n",
       "50%    2.226500e-03  2.166008e-04  4.101360e-03      91.849972\n",
       "75%    6.574259e-01  8.930937e-01  6.811217e-01     128.564089\n",
       "max    2.135642e+00  2.168043e+00  4.156460e+00     185.364347"
      ]
     },
     "execution_count": 5,
     "metadata": {},
     "output_type": "execute_result"
    }
   ],
   "source": [
    "# Проведем масштабирование для первого региона\n",
    "to_scaler = ['f0', 'f1', 'f2']\n",
    "scaler1 = StandardScaler()\n",
    "scaler1.fit(data1[to_scaler])\n",
    "data1[to_scaler] = scaler1.transform(data1[to_scaler])\n",
    "data1.describe()"
   ]
  },
  {
   "cell_type": "code",
   "execution_count": 6,
   "metadata": {},
   "outputs": [
    {
     "data": {
      "text/html": [
       "<div>\n",
       "<style scoped>\n",
       "    .dataframe tbody tr th:only-of-type {\n",
       "        vertical-align: middle;\n",
       "    }\n",
       "\n",
       "    .dataframe tbody tr th {\n",
       "        vertical-align: top;\n",
       "    }\n",
       "\n",
       "    .dataframe thead th {\n",
       "        text-align: right;\n",
       "    }\n",
       "</style>\n",
       "<table border=\"1\" class=\"dataframe\">\n",
       "  <thead>\n",
       "    <tr style=\"text-align: right;\">\n",
       "      <th></th>\n",
       "      <th>f0</th>\n",
       "      <th>f1</th>\n",
       "      <th>f2</th>\n",
       "      <th>product</th>\n",
       "    </tr>\n",
       "  </thead>\n",
       "  <tbody>\n",
       "    <tr>\n",
       "      <td>count</td>\n",
       "      <td>1.000000e+05</td>\n",
       "      <td>1.000000e+05</td>\n",
       "      <td>1.000000e+05</td>\n",
       "      <td>100000.000000</td>\n",
       "    </tr>\n",
       "    <tr>\n",
       "      <td>mean</td>\n",
       "      <td>-7.105427e-18</td>\n",
       "      <td>1.854517e-17</td>\n",
       "      <td>1.444533e-16</td>\n",
       "      <td>68.825000</td>\n",
       "    </tr>\n",
       "    <tr>\n",
       "      <td>std</td>\n",
       "      <td>1.000005e+00</td>\n",
       "      <td>1.000005e+00</td>\n",
       "      <td>1.000005e+00</td>\n",
       "      <td>45.944423</td>\n",
       "    </tr>\n",
       "    <tr>\n",
       "      <td>min</td>\n",
       "      <td>-3.652831e+00</td>\n",
       "      <td>-4.211458e+00</td>\n",
       "      <td>-1.474959e+00</td>\n",
       "      <td>0.000000</td>\n",
       "    </tr>\n",
       "    <tr>\n",
       "      <td>25%</td>\n",
       "      <td>-8.297949e-01</td>\n",
       "      <td>-6.780293e-01</td>\n",
       "      <td>-8.772907e-01</td>\n",
       "      <td>26.953261</td>\n",
       "    </tr>\n",
       "    <tr>\n",
       "      <td>50%</td>\n",
       "      <td>1.311571e-03</td>\n",
       "      <td>-3.240857e-03</td>\n",
       "      <td>-2.835602e-01</td>\n",
       "      <td>57.085625</td>\n",
       "    </tr>\n",
       "    <tr>\n",
       "      <td>75%</td>\n",
       "      <td>8.342420e-01</td>\n",
       "      <td>6.765366e-01</td>\n",
       "      <td>8.836555e-01</td>\n",
       "      <td>107.813044</td>\n",
       "    </tr>\n",
       "    <tr>\n",
       "      <td>max</td>\n",
       "      <td>3.154229e+00</td>\n",
       "      <td>4.595967e+00</td>\n",
       "      <td>1.482293e+00</td>\n",
       "      <td>137.945408</td>\n",
       "    </tr>\n",
       "  </tbody>\n",
       "</table>\n",
       "</div>"
      ],
      "text/plain": [
       "                 f0            f1            f2        product\n",
       "count  1.000000e+05  1.000000e+05  1.000000e+05  100000.000000\n",
       "mean  -7.105427e-18  1.854517e-17  1.444533e-16      68.825000\n",
       "std    1.000005e+00  1.000005e+00  1.000005e+00      45.944423\n",
       "min   -3.652831e+00 -4.211458e+00 -1.474959e+00       0.000000\n",
       "25%   -8.297949e-01 -6.780293e-01 -8.772907e-01      26.953261\n",
       "50%    1.311571e-03 -3.240857e-03 -2.835602e-01      57.085625\n",
       "75%    8.342420e-01  6.765366e-01  8.836555e-01     107.813044\n",
       "max    3.154229e+00  4.595967e+00  1.482293e+00     137.945408"
      ]
     },
     "execution_count": 6,
     "metadata": {},
     "output_type": "execute_result"
    }
   ],
   "source": [
    "# Аналогично для второго и третьего\n",
    "scaler2 = StandardScaler()\n",
    "scaler2.fit(data2[to_scaler])\n",
    "data2[to_scaler] = scaler2.transform(data2[to_scaler])\n",
    "data2.describe()"
   ]
  },
  {
   "cell_type": "code",
   "execution_count": 7,
   "metadata": {},
   "outputs": [
    {
     "data": {
      "text/html": [
       "<div>\n",
       "<style scoped>\n",
       "    .dataframe tbody tr th:only-of-type {\n",
       "        vertical-align: middle;\n",
       "    }\n",
       "\n",
       "    .dataframe tbody tr th {\n",
       "        vertical-align: top;\n",
       "    }\n",
       "\n",
       "    .dataframe thead th {\n",
       "        text-align: right;\n",
       "    }\n",
       "</style>\n",
       "<table border=\"1\" class=\"dataframe\">\n",
       "  <thead>\n",
       "    <tr style=\"text-align: right;\">\n",
       "      <th></th>\n",
       "      <th>f0</th>\n",
       "      <th>f1</th>\n",
       "      <th>f2</th>\n",
       "      <th>product</th>\n",
       "    </tr>\n",
       "  </thead>\n",
       "  <tbody>\n",
       "    <tr>\n",
       "      <td>count</td>\n",
       "      <td>1.000000e+05</td>\n",
       "      <td>1.000000e+05</td>\n",
       "      <td>1.000000e+05</td>\n",
       "      <td>100000.000000</td>\n",
       "    </tr>\n",
       "    <tr>\n",
       "      <td>mean</td>\n",
       "      <td>2.241762e-17</td>\n",
       "      <td>-1.435296e-17</td>\n",
       "      <td>-1.391953e-16</td>\n",
       "      <td>95.000000</td>\n",
       "    </tr>\n",
       "    <tr>\n",
       "      <td>std</td>\n",
       "      <td>1.000005e+00</td>\n",
       "      <td>1.000005e+00</td>\n",
       "      <td>1.000005e+00</td>\n",
       "      <td>44.749921</td>\n",
       "    </tr>\n",
       "    <tr>\n",
       "      <td>min</td>\n",
       "      <td>-5.058801e+00</td>\n",
       "      <td>-4.092640e+00</td>\n",
       "      <td>-4.164608e+00</td>\n",
       "      <td>0.000000</td>\n",
       "    </tr>\n",
       "    <tr>\n",
       "      <td>25%</td>\n",
       "      <td>-6.722210e-01</td>\n",
       "      <td>-6.777239e-01</td>\n",
       "      <td>-6.808172e-01</td>\n",
       "      <td>59.450441</td>\n",
       "    </tr>\n",
       "    <tr>\n",
       "      <td>50%</td>\n",
       "      <td>4.272944e-03</td>\n",
       "      <td>-4.277388e-03</td>\n",
       "      <td>-3.135732e-03</td>\n",
       "      <td>94.925613</td>\n",
       "    </tr>\n",
       "    <tr>\n",
       "      <td>75%</td>\n",
       "      <td>6.677185e-01</td>\n",
       "      <td>6.736897e-01</td>\n",
       "      <td>6.804996e-01</td>\n",
       "      <td>130.595027</td>\n",
       "    </tr>\n",
       "    <tr>\n",
       "      <td>max</td>\n",
       "      <td>4.177880e+00</td>\n",
       "      <td>4.534699e+00</td>\n",
       "      <td>4.100928e+00</td>\n",
       "      <td>190.029838</td>\n",
       "    </tr>\n",
       "  </tbody>\n",
       "</table>\n",
       "</div>"
      ],
      "text/plain": [
       "                 f0            f1            f2        product\n",
       "count  1.000000e+05  1.000000e+05  1.000000e+05  100000.000000\n",
       "mean   2.241762e-17 -1.435296e-17 -1.391953e-16      95.000000\n",
       "std    1.000005e+00  1.000005e+00  1.000005e+00      44.749921\n",
       "min   -5.058801e+00 -4.092640e+00 -4.164608e+00       0.000000\n",
       "25%   -6.722210e-01 -6.777239e-01 -6.808172e-01      59.450441\n",
       "50%    4.272944e-03 -4.277388e-03 -3.135732e-03      94.925613\n",
       "75%    6.677185e-01  6.736897e-01  6.804996e-01     130.595027\n",
       "max    4.177880e+00  4.534699e+00  4.100928e+00     190.029838"
      ]
     },
     "execution_count": 7,
     "metadata": {},
     "output_type": "execute_result"
    }
   ],
   "source": [
    "scaler3 = StandardScaler()\n",
    "scaler3.fit(data3[to_scaler])\n",
    "data3[to_scaler] = scaler3.transform(data3[to_scaler])\n",
    "data3.describe()"
   ]
  },
  {
   "cell_type": "markdown",
   "metadata": {},
   "source": [
    "## Вывод по п.1:\n",
    "Итак, данные прочитаны и масштабированы, все необходимые библиотеки импортированы, пора переходить к моделям"
   ]
  },
  {
   "cell_type": "markdown",
   "metadata": {},
   "source": [
    "<a id='id_2'></a>\n",
    "# 2. Обучение и проверка модели"
   ]
  },
  {
   "cell_type": "markdown",
   "metadata": {},
   "source": [
    "___Для удобства каждый регион имеет свой порядковый номер (1-3), соответственно, модели и переменные для каждого региона будут использоваться с тем же порядковым номером в названии.___"
   ]
  },
  {
   "cell_type": "markdown",
   "metadata": {},
   "source": [
    "## 2.1 Регион 1"
   ]
  },
  {
   "cell_type": "code",
   "execution_count": 8,
   "metadata": {},
   "outputs": [
    {
     "name": "stdout",
     "output_type": "stream",
     "text": [
      "<class 'pandas.core.frame.DataFrame'>\n",
      "Int64Index: 75000 entries, 31450 to 15725\n",
      "Data columns (total 5 columns):\n",
      "id         75000 non-null object\n",
      "f0         75000 non-null float64\n",
      "f1         75000 non-null float64\n",
      "f2         75000 non-null float64\n",
      "product    75000 non-null float64\n",
      "dtypes: float64(4), object(1)\n",
      "memory usage: 3.4+ MB\n"
     ]
    }
   ],
   "source": [
    "# Создадим обучающую и валидационные выборки с соотношением 75 к 25.\n",
    "data1_train, data1_valid = train_test_split(data1, test_size=0.25, random_state=123)\n",
    "data1_train.info()"
   ]
  },
  {
   "cell_type": "code",
   "execution_count": 9,
   "metadata": {},
   "outputs": [],
   "source": [
    "# Обучим модель на тренировочной выборке. Из условий заданий - пользуемся линейной регрессией.\n",
    "\n",
    "# Отдельно сохраним признаки и целевой признак\n",
    "features_train1 = data1_train.drop(['id', 'product'], axis=1)\n",
    "target_train1 = data1_train['product']\n",
    "features_valid1 = data1_valid.drop(['id', 'product'], axis=1)\n",
    "target_valid1 = data1_valid['product']\n",
    "\n",
    "# Создаем и обучаем модель\n",
    "model1 = LinearRegression()\n",
    "model1.fit(features_train1, target_train1) \n",
    "predict1 = model1.predict(features_valid1) "
   ]
  },
  {
   "cell_type": "code",
   "execution_count": 10,
   "metadata": {},
   "outputs": [
    {
     "data": {
      "text/plain": [
       "92.54936189116306"
      ]
     },
     "execution_count": 10,
     "metadata": {},
     "output_type": "execute_result"
    }
   ],
   "source": [
    "# Посчитаем средние размеры предсказанного сырья\n",
    "predict1.mean()"
   ]
  },
  {
   "cell_type": "code",
   "execution_count": 11,
   "metadata": {},
   "outputs": [
    {
     "data": {
      "text/plain": [
       "92.85062391123445"
      ]
     },
     "execution_count": 11,
     "metadata": {},
     "output_type": "execute_result"
    }
   ],
   "source": [
    "# Для проверки качества модели так же напечатаем средние размеры сырья по валидационной сборке\n",
    "target_valid1.mean()"
   ]
  },
  {
   "cell_type": "code",
   "execution_count": 12,
   "metadata": {},
   "outputs": [
    {
     "data": {
      "text/plain": [
       "37.64786282376176"
      ]
     },
     "execution_count": 12,
     "metadata": {},
     "output_type": "execute_result"
    }
   ],
   "source": [
    "# Средние размеры предсказанного сырья и фактического примерно равны, что говорит о качественной работе модели.\n",
    "# Так же посчитаем среднеквадратическую ошибку (RMSE) \n",
    "rmse1 = mean_squared_error(target_valid1, predict1)**0.5\n",
    "rmse1"
   ]
  },
  {
   "cell_type": "markdown",
   "metadata": {},
   "source": [
    "Среднее значение предсказанного сырья очень близко к среднему значению сырья. \n",
    "Среднеквадратическая ошибка = 37.65, а значит в среднем предсказанное количество сырья отличается от фактического практически на 40%, что достаточно много."
   ]
  },
  {
   "cell_type": "markdown",
   "metadata": {},
   "source": [
    "## 2.2 Регион 2"
   ]
  },
  {
   "cell_type": "code",
   "execution_count": 13,
   "metadata": {},
   "outputs": [],
   "source": [
    "# Тут мы делаем аналогично региону 1\n",
    "# Создадим тренировочную и валидационную выборку, отделим признаки и целевой признак\n",
    "data2_train, data2_valid = train_test_split(data2, test_size=0.25, random_state=123)\n",
    "features_train2 = data2_train.drop(['id', 'product'], axis=1)\n",
    "target_train2 = data2_train['product']\n",
    "features_valid2 = data2_valid.drop(['id', 'product'], axis=1)\n",
    "target_valid2 = data2_valid['product']"
   ]
  },
  {
   "cell_type": "code",
   "execution_count": 14,
   "metadata": {},
   "outputs": [
    {
     "data": {
      "text/plain": [
       "69.28001860653976"
      ]
     },
     "execution_count": 14,
     "metadata": {},
     "output_type": "execute_result"
    }
   ],
   "source": [
    "# Создаем модель\n",
    "model2 = LinearRegression()\n",
    "model2.fit(features_train2, target_train2) \n",
    "predict2 = model2.predict(features_valid2) \n",
    "predict2.mean()"
   ]
  },
  {
   "cell_type": "code",
   "execution_count": 15,
   "metadata": {},
   "outputs": [
    {
     "data": {
      "text/plain": [
       "69.27371236077902"
      ]
     },
     "execution_count": 15,
     "metadata": {},
     "output_type": "execute_result"
    }
   ],
   "source": [
    "target_valid2.mean()"
   ]
  },
  {
   "cell_type": "code",
   "execution_count": 16,
   "metadata": {},
   "outputs": [
    {
     "data": {
      "text/plain": [
       "0.8954139804944304"
      ]
     },
     "execution_count": 16,
     "metadata": {},
     "output_type": "execute_result"
    }
   ],
   "source": [
    "rmse2 = mean_squared_error(target_valid2, predict2)**0.5\n",
    "rmse2"
   ]
  },
  {
   "cell_type": "markdown",
   "metadata": {},
   "source": [
    "Аналогично региону 1 средние значения практически не различаются, однако среднеквадратиеская ошибка менее 1, что говорит о качестве обученной модели по региону 2."
   ]
  },
  {
   "cell_type": "markdown",
   "metadata": {},
   "source": [
    "## 2.3 Регион 3"
   ]
  },
  {
   "cell_type": "code",
   "execution_count": 17,
   "metadata": {},
   "outputs": [
    {
     "data": {
      "text/plain": [
       "95.09859933591373"
      ]
     },
     "execution_count": 17,
     "metadata": {},
     "output_type": "execute_result"
    }
   ],
   "source": [
    "# Действуем по аналогии с предыдущими пунктами\n",
    "data3_train, data3_valid = train_test_split(data3, test_size=0.25, random_state=123)\n",
    "features_train3 = data3_train.drop(['id', 'product'], axis=1)\n",
    "target_train3 = data3_train['product']\n",
    "features_valid3 = data3_valid.drop(['id', 'product'], axis=1)\n",
    "target_valid3 = data3_valid['product']\n",
    "\n",
    "model3 = LinearRegression()\n",
    "model3.fit(features_train3, target_train3) \n",
    "predict3 = model3.predict(features_valid3) \n",
    "predict3.mean()"
   ]
  },
  {
   "cell_type": "code",
   "execution_count": 18,
   "metadata": {},
   "outputs": [
    {
     "data": {
      "text/plain": [
       "94.87348818660215"
      ]
     },
     "execution_count": 18,
     "metadata": {},
     "output_type": "execute_result"
    }
   ],
   "source": [
    "target_valid3.mean()"
   ]
  },
  {
   "cell_type": "code",
   "execution_count": 19,
   "metadata": {},
   "outputs": [
    {
     "data": {
      "text/plain": [
       "40.12803006598514"
      ]
     },
     "execution_count": 19,
     "metadata": {},
     "output_type": "execute_result"
    }
   ],
   "source": [
    "rmse3 = mean_squared_error(target_valid3, predict3)**0.5\n",
    "rmse3"
   ]
  },
  {
   "cell_type": "markdown",
   "metadata": {},
   "source": [
    "Опять-таки, средние значения сырья по предсказанию и факту отличаются не сильно, но среднеквадратическая ошибка у региона 3 - самая большая (в среднем предсказанный вариант отличается от фактического на 43%). "
   ]
  },
  {
   "cell_type": "markdown",
   "metadata": {},
   "source": [
    "## Вывод по п.2:\n",
    "\n",
    "Регион 1:    \n",
    "\n",
    "    - среднее прогнозируемое значение составляет 92.55\n",
    "    - среднее значение по факту составляет 92.85\n",
    "    - среднеквадратическая ошибка 37.65\n",
    "    \n",
    "Регион 2:    \n",
    "\n",
    "    - среднее прогнозируемое значение составляет 69.28\n",
    "    - среднее значение по факту составляет 69.27\n",
    "    - среднеквадратическая ошибка 0.89\n",
    "    \n",
    "Регион 3:    \n",
    "\n",
    "    - среднее прогнозируемое значение составляет 95.1\n",
    "    - среднее значение по факту составляет 94.87\n",
    "    - среднеквадратическая ошибка 40.13\n",
    "    \n",
    "Среднее прогнозируемое значение во всех регионах очень близко к фактическому среднему значению. Но в то время как в регионе 1 и регионе 3 значение составило более 90, в регионе 2 - 69, что значимо меньше других.\n",
    "\n",
    "По среднеквадратической ошибке: в регионе 1 и регионе 3 её значение составило близко к 40, в то время как в регионе 2 менее 1, что говорит и минимальных расхождениях при прогнозе в регионе 2."
   ]
  },
  {
   "cell_type": "markdown",
   "metadata": {},
   "source": [
    "<a id='id_3'></a>\n",
    "# 3. Подготовка к расчёту прибыли"
   ]
  },
  {
   "cell_type": "markdown",
   "metadata": {},
   "source": [
    "Как нам уже известно из условий - всего исследуются 500 точек, из которых будут использоваться всего 200.\n",
    "Бюджет на разработку скважин 10 млрд рублей. \n",
    "Доход с одной скважины - 450 т.р. за одну единицу. Сохраним эти данные в переменных"
   ]
  },
  {
   "cell_type": "code",
   "execution_count": 20,
   "metadata": {},
   "outputs": [
    {
     "data": {
      "text/plain": [
       "50000.0"
      ]
     },
     "execution_count": 20,
     "metadata": {},
     "output_type": "execute_result"
    }
   ],
   "source": [
    "# Для удобства будет считать все цифры в тысячах рублей\n",
    "budget = 10000000\n",
    "price = 450\n",
    "well = 200\n",
    "# Посчитаем сколько бюджета выделяется на одну скважину\n",
    "budget_to_well = budget/well\n",
    "budget_to_well"
   ]
  },
  {
   "cell_type": "code",
   "execution_count": 21,
   "metadata": {},
   "outputs": [
    {
     "data": {
      "text/plain": [
       "111.11111111111111"
      ]
     },
     "execution_count": 21,
     "metadata": {},
     "output_type": "execute_result"
    }
   ],
   "source": [
    "# Теперь посчитаем минимальное количество сырья в скважине, чтобы не допустить убытков\n",
    "mean_revenue = budget_to_well/price\n",
    "mean_revenue"
   ]
  },
  {
   "cell_type": "code",
   "execution_count": 22,
   "metadata": {},
   "outputs": [
    {
     "data": {
      "text/plain": [
       "92.50000000000001"
      ]
     },
     "execution_count": 22,
     "metadata": {},
     "output_type": "execute_result"
    }
   ],
   "source": [
    "# Посчитаем средние количества объемов сырья в каждом из регионов\n",
    "data1['product'].mean()"
   ]
  },
  {
   "cell_type": "code",
   "execution_count": 23,
   "metadata": {},
   "outputs": [
    {
     "data": {
      "text/plain": [
       "68.82500000000002"
      ]
     },
     "execution_count": 23,
     "metadata": {},
     "output_type": "execute_result"
    }
   ],
   "source": [
    "data2['product'].mean()"
   ]
  },
  {
   "cell_type": "code",
   "execution_count": 24,
   "metadata": {},
   "outputs": [
    {
     "data": {
      "text/plain": [
       "95.00000000000004"
      ]
     },
     "execution_count": 24,
     "metadata": {},
     "output_type": "execute_result"
    }
   ],
   "source": [
    "data3['product'].mean()"
   ]
  },
  {
   "cell_type": "markdown",
   "metadata": {},
   "source": [
    "### Вывод по пункту 3\n",
    "\n",
    "В среднем на одну скважину выделяется 50000 т.р.\n",
    "\n",
    "Минимальное количество сырья для безубыточности 111.11 тысяч баррелей.\n",
    "\n",
    "В среднем, в регионах у нас 92.5, 68.82, 95 тысяч баррелей сырья. Регион 1 и регион 3 имеют высокие значения, в то время как регион 2 имеет значение значимо меньше остальных. Но, с учетом того, что у нас будут использоваться всего 200 скважин, в то время как в регионе исследовалось 100000 точек - сбрасывать со счетов нельзя ни одну из скважин."
   ]
  },
  {
   "cell_type": "markdown",
   "metadata": {},
   "source": [
    "<a id='id_4'></a>\n",
    "# 4. Расчёт прибыли и рисков "
   ]
  },
  {
   "cell_type": "code",
   "execution_count": 25,
   "metadata": {},
   "outputs": [],
   "source": [
    "# Напишем функцию для расчета прибыли по предсказаниям модели и скважинам\n",
    "def revenue(target, predict, count):\n",
    "    sum_product = 0\n",
    "    # Отсортируем предсказания по максимальным значениям\n",
    "    predict_sort = predict.sort_values(ascending=False) \n",
    "    # Отсортируем скважины, убрав непопвашие в список (count)\n",
    "    target_sort = target[predict_sort.index][:count]\n",
    "    # Сложим получившиеся результаты\n",
    "    for i in target_sort:\n",
    "        sum_product += i  \n",
    "    # Посчитаем выручку\n",
    "    return 450 * sum_product"
   ]
  },
  {
   "cell_type": "code",
   "execution_count": 26,
   "metadata": {},
   "outputs": [],
   "source": [
    "# У предсказаний (predict) индексы от 0 до 24999, в то время как у целевых показателей на валидацонной выборке индексы находятся\n",
    "# в диапозоне от 0 до 99999. Для того, чтобы в последствии не возникало ошибок - обнулим индексы у валидационной выборки по\n",
    "# целевым показателям\n",
    "target_valid1 = target_valid1.reset_index(drop = True)\n",
    "target_valid2 = target_valid2.reset_index(drop = True)\n",
    "target_valid3 = target_valid3.reset_index(drop = True)\n",
    "\n",
    "# Так же переведем предсказания в формат датафрейма, чтобы потом можно было их сортировать\n",
    "predict1 = pd.Series(predict1)\n",
    "predict2 = pd.Series(predict2)\n",
    "predict3 = pd.Series(predict3)"
   ]
  },
  {
   "cell_type": "markdown",
   "metadata": {},
   "source": [
    "## 4.1 Регион 1"
   ]
  },
  {
   "cell_type": "code",
   "execution_count": 27,
   "metadata": {},
   "outputs": [
    {
     "data": {
      "text/plain": [
       "10505264.703706196"
      ]
     },
     "execution_count": 27,
     "metadata": {},
     "output_type": "execute_result"
    }
   ],
   "source": [
    "# Используем технику Bootstrap с 1000 выборок\n",
    "values1 = []\n",
    "\n",
    "state = np.random.RandomState(12345)\n",
    "\n",
    "for i in range(1000):\n",
    "    target_subsample1 = target_valid1.sample(500, random_state=state, replace=True)\n",
    "    predict_subsample1 = predict1[target_subsample1.index]\n",
    "    values1.append(revenue(target_subsample1, predict_subsample1, 200))\n",
    "    \n",
    "values1 = pd.Series(values1)\n",
    "\n",
    "# Посчитаем среднее значение прибыли\n",
    "mean1 = values1.mean()\n",
    "mean1"
   ]
  },
  {
   "cell_type": "code",
   "execution_count": 28,
   "metadata": {},
   "outputs": [
    {
     "data": {
      "text/plain": [
       "(10488019.000641398, 10522510.406770993)"
      ]
     },
     "execution_count": 28,
     "metadata": {},
     "output_type": "execute_result"
    }
   ],
   "source": [
    "# Посчитаем 95% доверительный интервал\n",
    "interval1 = st.t.interval(0.95, len(values1)-1, values1.mean(), values1.sem())\n",
    "interval1"
   ]
  },
  {
   "cell_type": "code",
   "execution_count": 29,
   "metadata": {},
   "outputs": [
    {
     "data": {
      "text/plain": [
       "26"
      ]
     },
     "execution_count": 29,
     "metadata": {},
     "output_type": "execute_result"
    }
   ],
   "source": [
    "# Посчитаем общее количество результатов менее 10000000 (убыточные результаты)\n",
    "unprofitable1 = values1[values1 < budget]\n",
    "unprofitable1.count()"
   ]
  },
  {
   "cell_type": "markdown",
   "metadata": {},
   "source": [
    "### Вывод по региону 1:\n",
    "\n",
    "Среднее значение прибыли составляет 10505264.70.\n",
    "\n",
    "Доверительный интервал составляет 10488019 - 10522510.41\n",
    "\n",
    "Из 1000 вариантов 26 убыточных, а значит риск убытков равен 2,6%"
   ]
  },
  {
   "cell_type": "markdown",
   "metadata": {},
   "source": [
    "## 4.2 Регион 2"
   ]
  },
  {
   "cell_type": "code",
   "execution_count": 30,
   "metadata": {},
   "outputs": [
    {
     "data": {
      "text/plain": [
       "10534110.250377888"
      ]
     },
     "execution_count": 30,
     "metadata": {},
     "output_type": "execute_result"
    }
   ],
   "source": [
    "# Проводим аналогичные рассчеты для региона 2\n",
    "# Используем технику Bootstrap с 1000 выборок\n",
    "values2 = []\n",
    "\n",
    "for i in range(1000):\n",
    "    target_subsample2 = target_valid2.sample(500, random_state=state, replace=True)\n",
    "    predict_subsample2 = predict2[target_subsample2.index]\n",
    "    values2.append(revenue(target_subsample2, predict_subsample2, 200))\n",
    "    \n",
    "values2 = pd.Series(values2)\n",
    "\n",
    "# Посчитаем среднее значение прибыли\n",
    "mean2 = values2.mean()\n",
    "mean2"
   ]
  },
  {
   "cell_type": "code",
   "execution_count": 31,
   "metadata": {},
   "outputs": [
    {
     "data": {
      "text/plain": [
       "(10521143.856958617, 10547076.64379716)"
      ]
     },
     "execution_count": 31,
     "metadata": {},
     "output_type": "execute_result"
    }
   ],
   "source": [
    "# Посчитаем 95% доверительный интервал\n",
    "interval2 = st.t.interval(0.95, len(values2)-1, values2.mean(), values2.sem())\n",
    "interval2"
   ]
  },
  {
   "cell_type": "code",
   "execution_count": 32,
   "metadata": {},
   "outputs": [
    {
     "data": {
      "text/plain": [
       "2"
      ]
     },
     "execution_count": 32,
     "metadata": {},
     "output_type": "execute_result"
    }
   ],
   "source": [
    "# Посчитаем общее количество результатов менее 10000000 (убыточные результаты)\n",
    "unprofitable2 = values2[values2 < budget]\n",
    "unprofitable2.count()"
   ]
  },
  {
   "cell_type": "markdown",
   "metadata": {},
   "source": [
    "## Вывод по региону 2:\n",
    "\n",
    "Среднее значение прибыли составляет 10534110.36.\n",
    "\n",
    "Доверительный интервал составляет 10521143.86 - 10547076.64\n",
    "\n",
    "Из 1000 вариантов 2 убыточных, а значит риск убытков равен 0,2%"
   ]
  },
  {
   "cell_type": "markdown",
   "metadata": {},
   "source": [
    "## 4.3 Регион 3"
   ]
  },
  {
   "cell_type": "code",
   "execution_count": 33,
   "metadata": {},
   "outputs": [
    {
     "data": {
      "text/plain": [
       "10370652.012026329"
      ]
     },
     "execution_count": 33,
     "metadata": {},
     "output_type": "execute_result"
    }
   ],
   "source": [
    "# Проводим аналогичные рассчеты для региона 3\n",
    "# Используем технику Bootstrap с 1000 выборок\n",
    "values3 = []\n",
    "\n",
    "for i in range(1000):\n",
    "    target_subsample3 = target_valid3.sample(500, random_state=state, replace=True)\n",
    "    predict_subsample3 = predict3[target_subsample3.index]\n",
    "    values3.append(revenue(target_subsample3, predict_subsample3, 200))\n",
    "    \n",
    "values3 = pd.Series(values3)\n",
    "\n",
    "# Посчитаем среднее значение прибыли\n",
    "mean3 = values3.mean()\n",
    "mean3"
   ]
  },
  {
   "cell_type": "code",
   "execution_count": 34,
   "metadata": {},
   "outputs": [
    {
     "data": {
      "text/plain": [
       "(10353220.36433051, 10388083.659722148)"
      ]
     },
     "execution_count": 34,
     "metadata": {},
     "output_type": "execute_result"
    }
   ],
   "source": [
    "# Посчитаем 95% доверительный интервал\n",
    "interval3 = st.t.interval(0.95, len(values3)-1, values3.mean(), values3.sem())\n",
    "interval3"
   ]
  },
  {
   "cell_type": "code",
   "execution_count": 35,
   "metadata": {},
   "outputs": [
    {
     "data": {
      "text/plain": [
       "100"
      ]
     },
     "execution_count": 35,
     "metadata": {},
     "output_type": "execute_result"
    }
   ],
   "source": [
    "# Посчитаем общее количество результатов менее 10000000 (убыточные результаты)\n",
    "unprofitable3 = values3[values3 < budget]\n",
    "unprofitable3.count()"
   ]
  },
  {
   "cell_type": "markdown",
   "metadata": {},
   "source": [
    "## Вывод по региону 3:\n",
    "\n",
    "Среднее значение прибыли составляет 10372491.56\n",
    "\n",
    "Доверительный интервал составляет 10355102.25 - 10389880.88\n",
    "\n",
    "Из 1000 вариантов 99 убыточных, а значит риск убытков практически равен 10%."
   ]
  },
  {
   "cell_type": "markdown",
   "metadata": {},
   "source": [
    "<a id='id_5'></a>\n",
    "# 5. Общий вывод:\n",
    "\n",
    "По условиям задачи нужно найти регион с вероятностью убытков меньше 2.5%. Из всех регионов нам подходит номер 2, в котором риск убытков составляет 0.2%. Следует отметить, что регион 1 максимально близок к показателю (риск убытков 2.6%). Но средняя выручка в регионе 2 больше чем в регионе 1, а значит и по этому параметру регион 2 нам подходит больше. Регион 3 проигрывает как по средней выручке, так и по риску убытков (около 10%, очень высокий показатель). \n",
    "\n",
    "___На основании вышеперечисленного, рекомендуется бурить новую скважину в регионе номер 2.___"
   ]
  },
  {
   "cell_type": "markdown",
   "metadata": {},
   "source": [
    "## Исправления"
   ]
  },
  {
   "cell_type": "code",
   "execution_count": 77,
   "metadata": {},
   "outputs": [
    {
     "data": {
      "text/plain": [
       "505264.70370619517"
      ]
     },
     "execution_count": 77,
     "metadata": {},
     "output_type": "execute_result"
    }
   ],
   "source": [
    "# РЕГИОН 1\n",
    "# Создадим такую функцию, которая одновременно будет и считать общую выручку, и создавать списки со скважинами, которые приносят\n",
    "# прибыль и которые работают в убыток, для этого нам понадобятся 2 новых списка\n",
    "# для каждого региона создадим свою функцию со своими номерами переменных\n",
    "profit_values1 = []\n",
    "unprofit_values1 = []\n",
    "prof_values1 = []\n",
    "unprof_values1 = []\n",
    "\n",
    "def revenue1(target, predict, count):\n",
    "    sum_product = 0\n",
    "    predict_sort = predict.sort_values(ascending=False) \n",
    "    target_sort = target[predict_sort.index][:count]\n",
    "    for i in target_sort:\n",
    "        i = i*price - budget_to_well\n",
    "        sum_product += i\n",
    "        if i < 0:\n",
    "            unprof_values1.append(i)\n",
    "        else:\n",
    "            prof_values1.append(i)\n",
    "    if sum_product < 0:\n",
    "        unprofit_values1.append(i)\n",
    "    else:\n",
    "        profit_values1.append(i)\n",
    "    \n",
    "    return sum_product\n",
    "\n",
    "# Произведем все необходимые расчеты\n",
    "\n",
    "values1 = []\n",
    "\n",
    "state = np.random.RandomState(12345)\n",
    "\n",
    "for i in range(1000):\n",
    "    target_subsample1 = target_valid1.sample(500, random_state=state, replace=True)\n",
    "    predict_subsample1 = predict1[target_subsample1.index]\n",
    "    values1.append(revenue1(target_subsample1, predict_subsample1, 200))\n",
    "    \n",
    "values1 = pd.Series(values1)\n",
    "\n",
    "# Посчитаем среднее значение прибыли\n",
    "mean1 = values1.mean()\n",
    "mean1"
   ]
  },
  {
   "cell_type": "code",
   "execution_count": 74,
   "metadata": {},
   "outputs": [
    {
     "data": {
      "text/plain": [
       "26"
      ]
     },
     "execution_count": 74,
     "metadata": {},
     "output_type": "execute_result"
    }
   ],
   "source": [
    "# Посчитаем, сколько точек с отрицательной выручкой\n",
    "unprofit_values1 = pd.Series(unprofit_values1)\n",
    "unprofit_values1.count()"
   ]
  },
  {
   "cell_type": "code",
   "execution_count": 75,
   "metadata": {},
   "outputs": [
    {
     "data": {
      "text/plain": [
       "974"
      ]
     },
     "execution_count": 75,
     "metadata": {},
     "output_type": "execute_result"
    }
   ],
   "source": [
    "# А теперь посчитаем положительную выручку\n",
    "profit_values1 = pd.Series(profit_values1)\n",
    "profit_values1.count()"
   ]
  },
  {
   "cell_type": "code",
   "execution_count": 76,
   "metadata": {},
   "outputs": [
    {
     "data": {
      "text/plain": [
       "(-1086.050099346823, 1062107.2493602617)"
      ]
     },
     "execution_count": 76,
     "metadata": {},
     "output_type": "execute_result"
    }
   ],
   "source": [
    "confidence_interval = (values1.quantile(0.025), values1.quantile(0.975))\n",
    "confidence_interval"
   ]
  },
  {
   "cell_type": "code",
   "execution_count": 78,
   "metadata": {},
   "outputs": [
    {
     "data": {
      "text/plain": [
       "118357"
      ]
     },
     "execution_count": 78,
     "metadata": {},
     "output_type": "execute_result"
    }
   ],
   "source": [
    "# Посчитаем сколько скважин было с положительной выручкой\n",
    "prof_values1 = pd.Series(prof_values1)\n",
    "prof_values1.count()"
   ]
  },
  {
   "cell_type": "code",
   "execution_count": 79,
   "metadata": {},
   "outputs": [
    {
     "data": {
      "text/plain": [
       "81643"
      ]
     },
     "execution_count": 79,
     "metadata": {},
     "output_type": "execute_result"
    }
   ],
   "source": [
    "# Посчитаем сколько скважин было с отрицательной выручкой\n",
    "unprof_values1 = pd.Series(unprof_values1)\n",
    "unprof_values1.count()"
   ]
  },
  {
   "cell_type": "code",
   "execution_count": 92,
   "metadata": {},
   "outputs": [
    {
     "data": {
      "text/plain": [
       "525000.1518155917"
      ]
     },
     "execution_count": 92,
     "metadata": {},
     "output_type": "execute_result"
    }
   ],
   "source": [
    "# Регион 2\n",
    "profit_values2 = []\n",
    "unprofit_values2 = []\n",
    "prof_values2 = []\n",
    "unprof_values2 = []\n",
    "\n",
    "def revenue2(target, predict, count):\n",
    "    sum_product = 0\n",
    "    predict_sort = predict.sort_values(ascending=False) \n",
    "    target_sort = target[predict_sort.index][:count]\n",
    "    for i in target_sort:\n",
    "        i = i*price - budget_to_well\n",
    "        sum_product += i\n",
    "        if i < 0:\n",
    "            unprof_values2.append(i)\n",
    "        else:\n",
    "            prof_values2.append(i)\n",
    "    if sum_product < 0:\n",
    "        unprofit_values2.append(i)\n",
    "    else:\n",
    "        profit_values2.append(i)\n",
    "    \n",
    "    return sum_product\n",
    "\n",
    "# Произведем все необходимые расчеты\n",
    "\n",
    "values2 = []\n",
    "\n",
    "for i in range(1000):\n",
    "    target_subsample2 = target_valid2.sample(500, random_state=state, replace=True)\n",
    "    predict_subsample2 = predict2[target_subsample2.index]\n",
    "    values2.append(revenue2(target_subsample2, predict_subsample2, 200))\n",
    "    \n",
    "values2 = pd.Series(values2)\n",
    "\n",
    "# Посчитаем среднее значение прибыли\n",
    "mean2 = values2.mean()\n",
    "mean2"
   ]
  },
  {
   "cell_type": "code",
   "execution_count": 93,
   "metadata": {},
   "outputs": [
    {
     "data": {
      "text/plain": [
       "9"
      ]
     },
     "execution_count": 93,
     "metadata": {},
     "output_type": "execute_result"
    }
   ],
   "source": [
    "# Посчитаем, сколько точек с отрицательной выручкой\n",
    "unprofit_values2 = pd.Series(unprofit_values2)\n",
    "unprofit_values2.count()"
   ]
  },
  {
   "cell_type": "code",
   "execution_count": 94,
   "metadata": {},
   "outputs": [
    {
     "data": {
      "text/plain": [
       "991"
      ]
     },
     "execution_count": 94,
     "metadata": {},
     "output_type": "execute_result"
    }
   ],
   "source": [
    "# А теперь посчитаем положительную выручку\n",
    "profit_values2 = pd.Series(profit_values2)\n",
    "profit_values2.count()"
   ]
  },
  {
   "cell_type": "code",
   "execution_count": 95,
   "metadata": {},
   "outputs": [
    {
     "data": {
      "text/plain": [
       "(88797.38692418336, 964959.7866292426)"
      ]
     },
     "execution_count": 95,
     "metadata": {},
     "output_type": "execute_result"
    }
   ],
   "source": [
    "confidence_interval2 = (values2.quantile(0.025), values2.quantile(0.975))\n",
    "confidence_interval2"
   ]
  },
  {
   "cell_type": "code",
   "execution_count": 96,
   "metadata": {},
   "outputs": [
    {
     "data": {
      "text/plain": [
       "85499"
      ]
     },
     "execution_count": 96,
     "metadata": {},
     "output_type": "execute_result"
    }
   ],
   "source": [
    "prof_values2 = pd.Series(prof_values2)\n",
    "prof_values2.count()"
   ]
  },
  {
   "cell_type": "code",
   "execution_count": 97,
   "metadata": {},
   "outputs": [
    {
     "data": {
      "text/plain": [
       "114501"
      ]
     },
     "execution_count": 97,
     "metadata": {},
     "output_type": "execute_result"
    }
   ],
   "source": [
    "unprof_values2 = pd.Series(unprof_values2)\n",
    "unprof_values2.count()"
   ]
  },
  {
   "cell_type": "code",
   "execution_count": 98,
   "metadata": {},
   "outputs": [
    {
     "data": {
      "text/plain": [
       "378354.41642309586"
      ]
     },
     "execution_count": 98,
     "metadata": {},
     "output_type": "execute_result"
    }
   ],
   "source": [
    "# Регион 3\n",
    "profit_values3 = []\n",
    "unprofit_values3 = []\n",
    "unprof_values3 = []\n",
    "prof_values3 = []\n",
    "def revenue3(target, predict, count):\n",
    "    sum_product = 0\n",
    "    predict_sort = predict.sort_values(ascending=False) \n",
    "    target_sort = target[predict_sort.index][:count]\n",
    "    for i in target_sort:\n",
    "        i = i*price - budget_to_well\n",
    "        sum_product += i\n",
    "        if i < 0:\n",
    "            unprof_values3.append(i)\n",
    "        else:\n",
    "            prof_values3.append(i)\n",
    "    if sum_product < 0:\n",
    "        unprofit_values3.append(i)\n",
    "    else:\n",
    "        profit_values3.append(i)\n",
    "    return sum_product\n",
    "\n",
    "values3 = []\n",
    "\n",
    "for i in range(1000):\n",
    "    target_subsample3 = target_valid3.sample(500, random_state=state, replace=True)\n",
    "    predict_subsample3 = predict3[target_subsample3.index]\n",
    "    values3.append(revenue3(target_subsample3, predict_subsample3, 200))\n",
    "    \n",
    "values3 = pd.Series(values3)\n",
    "\n",
    "# Посчитаем среднее значение прибыли\n",
    "mean3 = values3.mean()\n",
    "mean3"
   ]
  },
  {
   "cell_type": "code",
   "execution_count": 99,
   "metadata": {},
   "outputs": [
    {
     "data": {
      "text/plain": [
       "87"
      ]
     },
     "execution_count": 99,
     "metadata": {},
     "output_type": "execute_result"
    }
   ],
   "source": [
    "# Посчитаем, сколько точек с отрицательной выручкой\n",
    "unprofit_values3 = pd.Series(unprofit_values3)\n",
    "unprofit_values3.count()"
   ]
  },
  {
   "cell_type": "code",
   "execution_count": 100,
   "metadata": {},
   "outputs": [
    {
     "data": {
      "text/plain": [
       "913"
      ]
     },
     "execution_count": 100,
     "metadata": {},
     "output_type": "execute_result"
    }
   ],
   "source": [
    "# А теперь посчитаем положительную выручку\n",
    "profit_values3 = pd.Series(profit_values3)\n",
    "profit_values3.count()"
   ]
  },
  {
   "cell_type": "code",
   "execution_count": 101,
   "metadata": {},
   "outputs": [
    {
     "data": {
      "text/plain": [
       "115092"
      ]
     },
     "execution_count": 101,
     "metadata": {},
     "output_type": "execute_result"
    }
   ],
   "source": [
    "prof_values3 = pd.Series(prof_values3)\n",
    "prof_values3.count()"
   ]
  },
  {
   "cell_type": "code",
   "execution_count": 91,
   "metadata": {},
   "outputs": [
    {
     "data": {
      "text/plain": [
       "84811"
      ]
     },
     "execution_count": 91,
     "metadata": {},
     "output_type": "execute_result"
    }
   ],
   "source": [
    "unprof_values3 = pd.Series(unprof_values3)\n",
    "unprof_values3.count()"
   ]
  },
  {
   "cell_type": "code",
   "execution_count": 72,
   "metadata": {},
   "outputs": [
    {
     "data": {
      "text/plain": [
       "(-189180.98095071723, 900759.9747676783)"
      ]
     },
     "execution_count": 72,
     "metadata": {},
     "output_type": "execute_result"
    }
   ],
   "source": [
    "confidence_interval3 = (values3.quantile(0.025), values3.quantile(0.975))\n",
    "confidence_interval3"
   ]
  },
  {
   "cell_type": "markdown",
   "metadata": {},
   "source": [
    "На самом деле - общий вывод не поменялся, все так же рекомендуется использовать регион 2, т.к. он имеет наименее выроятные убытки и наиболее высокую среднюю прибыль."
   ]
  }
 ],
 "metadata": {
  "kernelspec": {
   "display_name": "Python 3",
   "language": "python",
   "name": "python3"
  },
  "language_info": {
   "codemirror_mode": {
    "name": "ipython",
    "version": 3
   },
   "file_extension": ".py",
   "mimetype": "text/x-python",
   "name": "python",
   "nbconvert_exporter": "python",
   "pygments_lexer": "ipython3",
   "version": "3.7.8"
  },
  "toc": {
   "base_numbering": 1,
   "nav_menu": {},
   "number_sections": true,
   "sideBar": true,
   "skip_h1_title": true,
   "title_cell": "Table of Contents",
   "title_sidebar": "Contents",
   "toc_cell": false,
   "toc_position": {},
   "toc_section_display": true,
   "toc_window_display": false
  }
 },
 "nbformat": 4,
 "nbformat_minor": 2
}