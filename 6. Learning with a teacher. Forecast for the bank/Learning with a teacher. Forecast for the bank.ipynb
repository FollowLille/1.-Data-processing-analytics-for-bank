{
 "cells": [
  {
   "cell_type": "markdown",
   "metadata": {},
   "source": [
    "Из «Бета-Банка» стали уходить клиенты. Каждый месяц. Немного, но заметно. Банковские маркетологи посчитали: сохранять текущих клиентов дешевле, чем привлекать новых.\n",
    "\n",
    "Нужно спрогнозировать, уйдёт клиент из банка в ближайшее время или нет. Вам предоставлены исторические данные о поведении клиентов и расторжении договоров с банком. \n",
    "\n",
    "Постройте модель с предельно большим значением *F1*-меры. Чтобы сдать проект успешно, нужно довести метрику до 0.59. Проверьте *F1*-меру на тестовой выборке самостоятельно.\n",
    "\n",
    "Дополнительно измеряйте *AUC-ROC*, сравнивайте её значение с *F1*-мерой.\n",
    "\n",
    "Источник данных: [https://www.kaggle.com/barelydedicated/bank-customer-churn-modeling](https://www.kaggle.com/barelydedicated/bank-customer-churn-modeling)"
   ]
  },
  {
   "cell_type": "markdown",
   "metadata": {},
   "source": [
    "# План работы:\n",
    "\n",
    "1) [Изучить общую информацию.](#id_1)\n",
    "\n",
    "2) [Исследовать задачу.](#id_2)\n",
    "\n",
    "3) [Работа с дисбалансом.](#id_3)\n",
    "\n",
    "4) [Тестирование модели.](#id_4)\n",
    "\n",
    "5) [Общий вывод.](#id_5)"
   ]
  },
  {
   "cell_type": "markdown",
   "metadata": {},
   "source": [
    "<a id='id_1'></a>\n",
    "# 1. Подготовка данных"
   ]
  },
  {
   "cell_type": "code",
   "execution_count": 3,
   "metadata": {
    "scrolled": true
   },
   "outputs": [
    {
     "name": "stdout",
     "output_type": "stream",
     "text": [
      "<class 'pandas.core.frame.DataFrame'>\n",
      "RangeIndex: 10000 entries, 0 to 9999\n",
      "Data columns (total 14 columns):\n",
      "RowNumber          10000 non-null int64\n",
      "CustomerId         10000 non-null int64\n",
      "Surname            10000 non-null object\n",
      "CreditScore        10000 non-null int64\n",
      "Geography          10000 non-null object\n",
      "Gender             10000 non-null object\n",
      "Age                10000 non-null int64\n",
      "Tenure             9091 non-null float64\n",
      "Balance            10000 non-null float64\n",
      "NumOfProducts      10000 non-null int64\n",
      "HasCrCard          10000 non-null int64\n",
      "IsActiveMember     10000 non-null int64\n",
      "EstimatedSalary    10000 non-null float64\n",
      "Exited             10000 non-null int64\n",
      "dtypes: float64(3), int64(8), object(3)\n",
      "memory usage: 1.1+ MB\n"
     ]
    },
    {
     "data": {
      "text/html": [
       "<div>\n",
       "<style scoped>\n",
       "    .dataframe tbody tr th:only-of-type {\n",
       "        vertical-align: middle;\n",
       "    }\n",
       "\n",
       "    .dataframe tbody tr th {\n",
       "        vertical-align: top;\n",
       "    }\n",
       "\n",
       "    .dataframe thead th {\n",
       "        text-align: right;\n",
       "    }\n",
       "</style>\n",
       "<table border=\"1\" class=\"dataframe\">\n",
       "  <thead>\n",
       "    <tr style=\"text-align: right;\">\n",
       "      <th></th>\n",
       "      <th>RowNumber</th>\n",
       "      <th>CustomerId</th>\n",
       "      <th>Surname</th>\n",
       "      <th>CreditScore</th>\n",
       "      <th>Geography</th>\n",
       "      <th>Gender</th>\n",
       "      <th>Age</th>\n",
       "      <th>Tenure</th>\n",
       "      <th>Balance</th>\n",
       "      <th>NumOfProducts</th>\n",
       "      <th>HasCrCard</th>\n",
       "      <th>IsActiveMember</th>\n",
       "      <th>EstimatedSalary</th>\n",
       "      <th>Exited</th>\n",
       "    </tr>\n",
       "  </thead>\n",
       "  <tbody>\n",
       "    <tr>\n",
       "      <td>0</td>\n",
       "      <td>1</td>\n",
       "      <td>15634602</td>\n",
       "      <td>Hargrave</td>\n",
       "      <td>619</td>\n",
       "      <td>France</td>\n",
       "      <td>Female</td>\n",
       "      <td>42</td>\n",
       "      <td>2.0</td>\n",
       "      <td>0.00</td>\n",
       "      <td>1</td>\n",
       "      <td>1</td>\n",
       "      <td>1</td>\n",
       "      <td>101348.88</td>\n",
       "      <td>1</td>\n",
       "    </tr>\n",
       "    <tr>\n",
       "      <td>1</td>\n",
       "      <td>2</td>\n",
       "      <td>15647311</td>\n",
       "      <td>Hill</td>\n",
       "      <td>608</td>\n",
       "      <td>Spain</td>\n",
       "      <td>Female</td>\n",
       "      <td>41</td>\n",
       "      <td>1.0</td>\n",
       "      <td>83807.86</td>\n",
       "      <td>1</td>\n",
       "      <td>0</td>\n",
       "      <td>1</td>\n",
       "      <td>112542.58</td>\n",
       "      <td>0</td>\n",
       "    </tr>\n",
       "    <tr>\n",
       "      <td>2</td>\n",
       "      <td>3</td>\n",
       "      <td>15619304</td>\n",
       "      <td>Onio</td>\n",
       "      <td>502</td>\n",
       "      <td>France</td>\n",
       "      <td>Female</td>\n",
       "      <td>42</td>\n",
       "      <td>8.0</td>\n",
       "      <td>159660.80</td>\n",
       "      <td>3</td>\n",
       "      <td>1</td>\n",
       "      <td>0</td>\n",
       "      <td>113931.57</td>\n",
       "      <td>1</td>\n",
       "    </tr>\n",
       "    <tr>\n",
       "      <td>3</td>\n",
       "      <td>4</td>\n",
       "      <td>15701354</td>\n",
       "      <td>Boni</td>\n",
       "      <td>699</td>\n",
       "      <td>France</td>\n",
       "      <td>Female</td>\n",
       "      <td>39</td>\n",
       "      <td>1.0</td>\n",
       "      <td>0.00</td>\n",
       "      <td>2</td>\n",
       "      <td>0</td>\n",
       "      <td>0</td>\n",
       "      <td>93826.63</td>\n",
       "      <td>0</td>\n",
       "    </tr>\n",
       "    <tr>\n",
       "      <td>4</td>\n",
       "      <td>5</td>\n",
       "      <td>15737888</td>\n",
       "      <td>Mitchell</td>\n",
       "      <td>850</td>\n",
       "      <td>Spain</td>\n",
       "      <td>Female</td>\n",
       "      <td>43</td>\n",
       "      <td>2.0</td>\n",
       "      <td>125510.82</td>\n",
       "      <td>1</td>\n",
       "      <td>1</td>\n",
       "      <td>1</td>\n",
       "      <td>79084.10</td>\n",
       "      <td>0</td>\n",
       "    </tr>\n",
       "    <tr>\n",
       "      <td>5</td>\n",
       "      <td>6</td>\n",
       "      <td>15574012</td>\n",
       "      <td>Chu</td>\n",
       "      <td>645</td>\n",
       "      <td>Spain</td>\n",
       "      <td>Male</td>\n",
       "      <td>44</td>\n",
       "      <td>8.0</td>\n",
       "      <td>113755.78</td>\n",
       "      <td>2</td>\n",
       "      <td>1</td>\n",
       "      <td>0</td>\n",
       "      <td>149756.71</td>\n",
       "      <td>1</td>\n",
       "    </tr>\n",
       "    <tr>\n",
       "      <td>6</td>\n",
       "      <td>7</td>\n",
       "      <td>15592531</td>\n",
       "      <td>Bartlett</td>\n",
       "      <td>822</td>\n",
       "      <td>France</td>\n",
       "      <td>Male</td>\n",
       "      <td>50</td>\n",
       "      <td>7.0</td>\n",
       "      <td>0.00</td>\n",
       "      <td>2</td>\n",
       "      <td>1</td>\n",
       "      <td>1</td>\n",
       "      <td>10062.80</td>\n",
       "      <td>0</td>\n",
       "    </tr>\n",
       "    <tr>\n",
       "      <td>7</td>\n",
       "      <td>8</td>\n",
       "      <td>15656148</td>\n",
       "      <td>Obinna</td>\n",
       "      <td>376</td>\n",
       "      <td>Germany</td>\n",
       "      <td>Female</td>\n",
       "      <td>29</td>\n",
       "      <td>4.0</td>\n",
       "      <td>115046.74</td>\n",
       "      <td>4</td>\n",
       "      <td>1</td>\n",
       "      <td>0</td>\n",
       "      <td>119346.88</td>\n",
       "      <td>1</td>\n",
       "    </tr>\n",
       "    <tr>\n",
       "      <td>8</td>\n",
       "      <td>9</td>\n",
       "      <td>15792365</td>\n",
       "      <td>He</td>\n",
       "      <td>501</td>\n",
       "      <td>France</td>\n",
       "      <td>Male</td>\n",
       "      <td>44</td>\n",
       "      <td>4.0</td>\n",
       "      <td>142051.07</td>\n",
       "      <td>2</td>\n",
       "      <td>0</td>\n",
       "      <td>1</td>\n",
       "      <td>74940.50</td>\n",
       "      <td>0</td>\n",
       "    </tr>\n",
       "    <tr>\n",
       "      <td>9</td>\n",
       "      <td>10</td>\n",
       "      <td>15592389</td>\n",
       "      <td>H?</td>\n",
       "      <td>684</td>\n",
       "      <td>France</td>\n",
       "      <td>Male</td>\n",
       "      <td>27</td>\n",
       "      <td>2.0</td>\n",
       "      <td>134603.88</td>\n",
       "      <td>1</td>\n",
       "      <td>1</td>\n",
       "      <td>1</td>\n",
       "      <td>71725.73</td>\n",
       "      <td>0</td>\n",
       "    </tr>\n",
       "  </tbody>\n",
       "</table>\n",
       "</div>"
      ],
      "text/plain": [
       "   RowNumber  CustomerId   Surname  CreditScore Geography  Gender  Age  \\\n",
       "0          1    15634602  Hargrave          619    France  Female   42   \n",
       "1          2    15647311      Hill          608     Spain  Female   41   \n",
       "2          3    15619304      Onio          502    France  Female   42   \n",
       "3          4    15701354      Boni          699    France  Female   39   \n",
       "4          5    15737888  Mitchell          850     Spain  Female   43   \n",
       "5          6    15574012       Chu          645     Spain    Male   44   \n",
       "6          7    15592531  Bartlett          822    France    Male   50   \n",
       "7          8    15656148    Obinna          376   Germany  Female   29   \n",
       "8          9    15792365        He          501    France    Male   44   \n",
       "9         10    15592389        H?          684    France    Male   27   \n",
       "\n",
       "   Tenure    Balance  NumOfProducts  HasCrCard  IsActiveMember  \\\n",
       "0     2.0       0.00              1          1               1   \n",
       "1     1.0   83807.86              1          0               1   \n",
       "2     8.0  159660.80              3          1               0   \n",
       "3     1.0       0.00              2          0               0   \n",
       "4     2.0  125510.82              1          1               1   \n",
       "5     8.0  113755.78              2          1               0   \n",
       "6     7.0       0.00              2          1               1   \n",
       "7     4.0  115046.74              4          1               0   \n",
       "8     4.0  142051.07              2          0               1   \n",
       "9     2.0  134603.88              1          1               1   \n",
       "\n",
       "   EstimatedSalary  Exited  \n",
       "0        101348.88       1  \n",
       "1        112542.58       0  \n",
       "2        113931.57       1  \n",
       "3         93826.63       0  \n",
       "4         79084.10       0  \n",
       "5        149756.71       1  \n",
       "6         10062.80       0  \n",
       "7        119346.88       1  \n",
       "8         74940.50       0  \n",
       "9         71725.73       0  "
      ]
     },
     "execution_count": 3,
     "metadata": {},
     "output_type": "execute_result"
    }
   ],
   "source": [
    "# импортируем библиотеки, ознакамливаемся с данными\n",
    "import pandas as pd\n",
    "import numpy as np\n",
    "from sklearn.utils import shuffle\n",
    "from sklearn.preprocessing import StandardScaler\n",
    "from sklearn.metrics import accuracy_score\n",
    "from sklearn.metrics import f1_score\n",
    "from sklearn.metrics import roc_auc_score\n",
    "from sklearn.linear_model import LogisticRegression\n",
    "from sklearn.ensemble import RandomForestClassifier\n",
    "from sklearn.tree import DecisionTreeClassifier\n",
    "from sklearn.model_selection import train_test_split\n",
    "data = pd.read_csv('/datasets/Churn.csv')\n",
    "data.info()\n",
    "data.head(10)"
   ]
  },
  {
   "cell_type": "markdown",
   "metadata": {},
   "source": [
    "Итого - у нас есть 14 колонок и 10000 строк. \n",
    "\n",
    "___Целевой признак___ - столбец Exited, все остальное - ___признаки___. \n",
    "\n",
    "Столбец __Surname__ - фамилия клиента, модель он может только запутать, для расчетов он не пригодится., поэтому создадим отдельный словарь, а из общего датафрейма столбец уберем. Аналогично поступим и со столбцами __RowNumber__ и __CustomerId__\n",
    "\n",
    "Так же есть пропуски в столбце __Tenure__ (количество недвижимости у объекта) - скорее всего, данные просто не были внесены, предположительно из-за нулевого значения. (при возможности - запрашиваем недостающую информацию, сейчас же заменим пропуски на 0). Так же переведем столбец в формат _int_."
   ]
  },
  {
   "cell_type": "code",
   "execution_count": 4,
   "metadata": {},
   "outputs": [
    {
     "name": "stdout",
     "output_type": "stream",
     "text": [
      "<class 'pandas.core.frame.DataFrame'>\n",
      "RangeIndex: 10000 entries, 0 to 9999\n",
      "Data columns (total 14 columns):\n",
      "RowNumber          10000 non-null int64\n",
      "CustomerId         10000 non-null int64\n",
      "Surname            10000 non-null object\n",
      "CreditScore        10000 non-null int64\n",
      "Geography          10000 non-null object\n",
      "Gender             10000 non-null object\n",
      "Age                10000 non-null int64\n",
      "Tenure             10000 non-null int64\n",
      "Balance            10000 non-null float64\n",
      "NumOfProducts      10000 non-null int64\n",
      "HasCrCard          10000 non-null int64\n",
      "IsActiveMember     10000 non-null int64\n",
      "EstimatedSalary    10000 non-null float64\n",
      "Exited             10000 non-null int64\n",
      "dtypes: float64(2), int64(9), object(3)\n",
      "memory usage: 1.1+ MB\n"
     ]
    },
    {
     "data": {
      "text/html": [
       "<div>\n",
       "<style scoped>\n",
       "    .dataframe tbody tr th:only-of-type {\n",
       "        vertical-align: middle;\n",
       "    }\n",
       "\n",
       "    .dataframe tbody tr th {\n",
       "        vertical-align: top;\n",
       "    }\n",
       "\n",
       "    .dataframe thead th {\n",
       "        text-align: right;\n",
       "    }\n",
       "</style>\n",
       "<table border=\"1\" class=\"dataframe\">\n",
       "  <thead>\n",
       "    <tr style=\"text-align: right;\">\n",
       "      <th></th>\n",
       "      <th>RowNumber</th>\n",
       "      <th>CustomerId</th>\n",
       "      <th>Surname</th>\n",
       "      <th>CreditScore</th>\n",
       "      <th>Geography</th>\n",
       "      <th>Gender</th>\n",
       "      <th>Age</th>\n",
       "      <th>Tenure</th>\n",
       "      <th>Balance</th>\n",
       "      <th>NumOfProducts</th>\n",
       "      <th>HasCrCard</th>\n",
       "      <th>IsActiveMember</th>\n",
       "      <th>EstimatedSalary</th>\n",
       "      <th>Exited</th>\n",
       "    </tr>\n",
       "  </thead>\n",
       "  <tbody>\n",
       "    <tr>\n",
       "      <td>0</td>\n",
       "      <td>1</td>\n",
       "      <td>15634602</td>\n",
       "      <td>Hargrave</td>\n",
       "      <td>619</td>\n",
       "      <td>France</td>\n",
       "      <td>Female</td>\n",
       "      <td>42</td>\n",
       "      <td>2</td>\n",
       "      <td>0.00</td>\n",
       "      <td>1</td>\n",
       "      <td>1</td>\n",
       "      <td>1</td>\n",
       "      <td>101348.88</td>\n",
       "      <td>1</td>\n",
       "    </tr>\n",
       "    <tr>\n",
       "      <td>1</td>\n",
       "      <td>2</td>\n",
       "      <td>15647311</td>\n",
       "      <td>Hill</td>\n",
       "      <td>608</td>\n",
       "      <td>Spain</td>\n",
       "      <td>Female</td>\n",
       "      <td>41</td>\n",
       "      <td>1</td>\n",
       "      <td>83807.86</td>\n",
       "      <td>1</td>\n",
       "      <td>0</td>\n",
       "      <td>1</td>\n",
       "      <td>112542.58</td>\n",
       "      <td>0</td>\n",
       "    </tr>\n",
       "    <tr>\n",
       "      <td>2</td>\n",
       "      <td>3</td>\n",
       "      <td>15619304</td>\n",
       "      <td>Onio</td>\n",
       "      <td>502</td>\n",
       "      <td>France</td>\n",
       "      <td>Female</td>\n",
       "      <td>42</td>\n",
       "      <td>8</td>\n",
       "      <td>159660.80</td>\n",
       "      <td>3</td>\n",
       "      <td>1</td>\n",
       "      <td>0</td>\n",
       "      <td>113931.57</td>\n",
       "      <td>1</td>\n",
       "    </tr>\n",
       "    <tr>\n",
       "      <td>3</td>\n",
       "      <td>4</td>\n",
       "      <td>15701354</td>\n",
       "      <td>Boni</td>\n",
       "      <td>699</td>\n",
       "      <td>France</td>\n",
       "      <td>Female</td>\n",
       "      <td>39</td>\n",
       "      <td>1</td>\n",
       "      <td>0.00</td>\n",
       "      <td>2</td>\n",
       "      <td>0</td>\n",
       "      <td>0</td>\n",
       "      <td>93826.63</td>\n",
       "      <td>0</td>\n",
       "    </tr>\n",
       "    <tr>\n",
       "      <td>4</td>\n",
       "      <td>5</td>\n",
       "      <td>15737888</td>\n",
       "      <td>Mitchell</td>\n",
       "      <td>850</td>\n",
       "      <td>Spain</td>\n",
       "      <td>Female</td>\n",
       "      <td>43</td>\n",
       "      <td>2</td>\n",
       "      <td>125510.82</td>\n",
       "      <td>1</td>\n",
       "      <td>1</td>\n",
       "      <td>1</td>\n",
       "      <td>79084.10</td>\n",
       "      <td>0</td>\n",
       "    </tr>\n",
       "  </tbody>\n",
       "</table>\n",
       "</div>"
      ],
      "text/plain": [
       "   RowNumber  CustomerId   Surname  CreditScore Geography  Gender  Age  \\\n",
       "0          1    15634602  Hargrave          619    France  Female   42   \n",
       "1          2    15647311      Hill          608     Spain  Female   41   \n",
       "2          3    15619304      Onio          502    France  Female   42   \n",
       "3          4    15701354      Boni          699    France  Female   39   \n",
       "4          5    15737888  Mitchell          850     Spain  Female   43   \n",
       "\n",
       "   Tenure    Balance  NumOfProducts  HasCrCard  IsActiveMember  \\\n",
       "0       2       0.00              1          1               1   \n",
       "1       1   83807.86              1          0               1   \n",
       "2       8  159660.80              3          1               0   \n",
       "3       1       0.00              2          0               0   \n",
       "4       2  125510.82              1          1               1   \n",
       "\n",
       "   EstimatedSalary  Exited  \n",
       "0        101348.88       1  \n",
       "1        112542.58       0  \n",
       "2        113931.57       1  \n",
       "3         93826.63       0  \n",
       "4         79084.10       0  "
      ]
     },
     "execution_count": 4,
     "metadata": {},
     "output_type": "execute_result"
    }
   ],
   "source": [
    "# Уберем все пропуски, заменим тип столбца Tenure на int\n",
    "data['Tenure'] = data['Tenure'].fillna(0).astype(int)\n",
    "data.info(5)\n",
    "data.head(5)"
   ]
  },
  {
   "cell_type": "code",
   "execution_count": 5,
   "metadata": {},
   "outputs": [
    {
     "data": {
      "text/html": [
       "<div>\n",
       "<style scoped>\n",
       "    .dataframe tbody tr th:only-of-type {\n",
       "        vertical-align: middle;\n",
       "    }\n",
       "\n",
       "    .dataframe tbody tr th {\n",
       "        vertical-align: top;\n",
       "    }\n",
       "\n",
       "    .dataframe thead th {\n",
       "        text-align: right;\n",
       "    }\n",
       "</style>\n",
       "<table border=\"1\" class=\"dataframe\">\n",
       "  <thead>\n",
       "    <tr style=\"text-align: right;\">\n",
       "      <th></th>\n",
       "      <th>CustomerId</th>\n",
       "      <th>Surname</th>\n",
       "      <th>RowNumber</th>\n",
       "    </tr>\n",
       "  </thead>\n",
       "  <tbody>\n",
       "    <tr>\n",
       "      <td>0</td>\n",
       "      <td>15634602</td>\n",
       "      <td>Hargrave</td>\n",
       "      <td>1</td>\n",
       "    </tr>\n",
       "    <tr>\n",
       "      <td>1</td>\n",
       "      <td>15647311</td>\n",
       "      <td>Hill</td>\n",
       "      <td>2</td>\n",
       "    </tr>\n",
       "    <tr>\n",
       "      <td>2</td>\n",
       "      <td>15619304</td>\n",
       "      <td>Onio</td>\n",
       "      <td>3</td>\n",
       "    </tr>\n",
       "    <tr>\n",
       "      <td>3</td>\n",
       "      <td>15701354</td>\n",
       "      <td>Boni</td>\n",
       "      <td>4</td>\n",
       "    </tr>\n",
       "    <tr>\n",
       "      <td>4</td>\n",
       "      <td>15737888</td>\n",
       "      <td>Mitchell</td>\n",
       "      <td>5</td>\n",
       "    </tr>\n",
       "  </tbody>\n",
       "</table>\n",
       "</div>"
      ],
      "text/plain": [
       "   CustomerId   Surname  RowNumber\n",
       "0    15634602  Hargrave          1\n",
       "1    15647311      Hill          2\n",
       "2    15619304      Onio          3\n",
       "3    15701354      Boni          4\n",
       "4    15737888  Mitchell          5"
      ]
     },
     "execution_count": 5,
     "metadata": {},
     "output_type": "execute_result"
    }
   ],
   "source": [
    "# создадим словарь\n",
    "data_dict = data[{'RowNumber', 'CustomerId', 'Surname'}]\n",
    "data_dict.head()"
   ]
  },
  {
   "cell_type": "code",
   "execution_count": 6,
   "metadata": {},
   "outputs": [
    {
     "data": {
      "text/html": [
       "<div>\n",
       "<style scoped>\n",
       "    .dataframe tbody tr th:only-of-type {\n",
       "        vertical-align: middle;\n",
       "    }\n",
       "\n",
       "    .dataframe tbody tr th {\n",
       "        vertical-align: top;\n",
       "    }\n",
       "\n",
       "    .dataframe thead th {\n",
       "        text-align: right;\n",
       "    }\n",
       "</style>\n",
       "<table border=\"1\" class=\"dataframe\">\n",
       "  <thead>\n",
       "    <tr style=\"text-align: right;\">\n",
       "      <th></th>\n",
       "      <th>CreditScore</th>\n",
       "      <th>Geography</th>\n",
       "      <th>Gender</th>\n",
       "      <th>Age</th>\n",
       "      <th>Tenure</th>\n",
       "      <th>Balance</th>\n",
       "      <th>NumOfProducts</th>\n",
       "      <th>HasCrCard</th>\n",
       "      <th>IsActiveMember</th>\n",
       "      <th>EstimatedSalary</th>\n",
       "      <th>Exited</th>\n",
       "    </tr>\n",
       "  </thead>\n",
       "  <tbody>\n",
       "    <tr>\n",
       "      <td>0</td>\n",
       "      <td>619</td>\n",
       "      <td>France</td>\n",
       "      <td>Female</td>\n",
       "      <td>42</td>\n",
       "      <td>2</td>\n",
       "      <td>0.00</td>\n",
       "      <td>1</td>\n",
       "      <td>1</td>\n",
       "      <td>1</td>\n",
       "      <td>101348.88</td>\n",
       "      <td>1</td>\n",
       "    </tr>\n",
       "    <tr>\n",
       "      <td>1</td>\n",
       "      <td>608</td>\n",
       "      <td>Spain</td>\n",
       "      <td>Female</td>\n",
       "      <td>41</td>\n",
       "      <td>1</td>\n",
       "      <td>83807.86</td>\n",
       "      <td>1</td>\n",
       "      <td>0</td>\n",
       "      <td>1</td>\n",
       "      <td>112542.58</td>\n",
       "      <td>0</td>\n",
       "    </tr>\n",
       "    <tr>\n",
       "      <td>2</td>\n",
       "      <td>502</td>\n",
       "      <td>France</td>\n",
       "      <td>Female</td>\n",
       "      <td>42</td>\n",
       "      <td>8</td>\n",
       "      <td>159660.80</td>\n",
       "      <td>3</td>\n",
       "      <td>1</td>\n",
       "      <td>0</td>\n",
       "      <td>113931.57</td>\n",
       "      <td>1</td>\n",
       "    </tr>\n",
       "    <tr>\n",
       "      <td>3</td>\n",
       "      <td>699</td>\n",
       "      <td>France</td>\n",
       "      <td>Female</td>\n",
       "      <td>39</td>\n",
       "      <td>1</td>\n",
       "      <td>0.00</td>\n",
       "      <td>2</td>\n",
       "      <td>0</td>\n",
       "      <td>0</td>\n",
       "      <td>93826.63</td>\n",
       "      <td>0</td>\n",
       "    </tr>\n",
       "    <tr>\n",
       "      <td>4</td>\n",
       "      <td>850</td>\n",
       "      <td>Spain</td>\n",
       "      <td>Female</td>\n",
       "      <td>43</td>\n",
       "      <td>2</td>\n",
       "      <td>125510.82</td>\n",
       "      <td>1</td>\n",
       "      <td>1</td>\n",
       "      <td>1</td>\n",
       "      <td>79084.10</td>\n",
       "      <td>0</td>\n",
       "    </tr>\n",
       "    <tr>\n",
       "      <td>5</td>\n",
       "      <td>645</td>\n",
       "      <td>Spain</td>\n",
       "      <td>Male</td>\n",
       "      <td>44</td>\n",
       "      <td>8</td>\n",
       "      <td>113755.78</td>\n",
       "      <td>2</td>\n",
       "      <td>1</td>\n",
       "      <td>0</td>\n",
       "      <td>149756.71</td>\n",
       "      <td>1</td>\n",
       "    </tr>\n",
       "    <tr>\n",
       "      <td>6</td>\n",
       "      <td>822</td>\n",
       "      <td>France</td>\n",
       "      <td>Male</td>\n",
       "      <td>50</td>\n",
       "      <td>7</td>\n",
       "      <td>0.00</td>\n",
       "      <td>2</td>\n",
       "      <td>1</td>\n",
       "      <td>1</td>\n",
       "      <td>10062.80</td>\n",
       "      <td>0</td>\n",
       "    </tr>\n",
       "    <tr>\n",
       "      <td>7</td>\n",
       "      <td>376</td>\n",
       "      <td>Germany</td>\n",
       "      <td>Female</td>\n",
       "      <td>29</td>\n",
       "      <td>4</td>\n",
       "      <td>115046.74</td>\n",
       "      <td>4</td>\n",
       "      <td>1</td>\n",
       "      <td>0</td>\n",
       "      <td>119346.88</td>\n",
       "      <td>1</td>\n",
       "    </tr>\n",
       "    <tr>\n",
       "      <td>8</td>\n",
       "      <td>501</td>\n",
       "      <td>France</td>\n",
       "      <td>Male</td>\n",
       "      <td>44</td>\n",
       "      <td>4</td>\n",
       "      <td>142051.07</td>\n",
       "      <td>2</td>\n",
       "      <td>0</td>\n",
       "      <td>1</td>\n",
       "      <td>74940.50</td>\n",
       "      <td>0</td>\n",
       "    </tr>\n",
       "    <tr>\n",
       "      <td>9</td>\n",
       "      <td>684</td>\n",
       "      <td>France</td>\n",
       "      <td>Male</td>\n",
       "      <td>27</td>\n",
       "      <td>2</td>\n",
       "      <td>134603.88</td>\n",
       "      <td>1</td>\n",
       "      <td>1</td>\n",
       "      <td>1</td>\n",
       "      <td>71725.73</td>\n",
       "      <td>0</td>\n",
       "    </tr>\n",
       "    <tr>\n",
       "      <td>10</td>\n",
       "      <td>528</td>\n",
       "      <td>France</td>\n",
       "      <td>Male</td>\n",
       "      <td>31</td>\n",
       "      <td>6</td>\n",
       "      <td>102016.72</td>\n",
       "      <td>2</td>\n",
       "      <td>0</td>\n",
       "      <td>0</td>\n",
       "      <td>80181.12</td>\n",
       "      <td>0</td>\n",
       "    </tr>\n",
       "    <tr>\n",
       "      <td>11</td>\n",
       "      <td>497</td>\n",
       "      <td>Spain</td>\n",
       "      <td>Male</td>\n",
       "      <td>24</td>\n",
       "      <td>3</td>\n",
       "      <td>0.00</td>\n",
       "      <td>2</td>\n",
       "      <td>1</td>\n",
       "      <td>0</td>\n",
       "      <td>76390.01</td>\n",
       "      <td>0</td>\n",
       "    </tr>\n",
       "    <tr>\n",
       "      <td>12</td>\n",
       "      <td>476</td>\n",
       "      <td>France</td>\n",
       "      <td>Female</td>\n",
       "      <td>34</td>\n",
       "      <td>10</td>\n",
       "      <td>0.00</td>\n",
       "      <td>2</td>\n",
       "      <td>1</td>\n",
       "      <td>0</td>\n",
       "      <td>26260.98</td>\n",
       "      <td>0</td>\n",
       "    </tr>\n",
       "    <tr>\n",
       "      <td>13</td>\n",
       "      <td>549</td>\n",
       "      <td>France</td>\n",
       "      <td>Female</td>\n",
       "      <td>25</td>\n",
       "      <td>5</td>\n",
       "      <td>0.00</td>\n",
       "      <td>2</td>\n",
       "      <td>0</td>\n",
       "      <td>0</td>\n",
       "      <td>190857.79</td>\n",
       "      <td>0</td>\n",
       "    </tr>\n",
       "    <tr>\n",
       "      <td>14</td>\n",
       "      <td>635</td>\n",
       "      <td>Spain</td>\n",
       "      <td>Female</td>\n",
       "      <td>35</td>\n",
       "      <td>7</td>\n",
       "      <td>0.00</td>\n",
       "      <td>2</td>\n",
       "      <td>1</td>\n",
       "      <td>1</td>\n",
       "      <td>65951.65</td>\n",
       "      <td>0</td>\n",
       "    </tr>\n",
       "  </tbody>\n",
       "</table>\n",
       "</div>"
      ],
      "text/plain": [
       "    CreditScore Geography  Gender  Age  Tenure    Balance  NumOfProducts  \\\n",
       "0           619    France  Female   42       2       0.00              1   \n",
       "1           608     Spain  Female   41       1   83807.86              1   \n",
       "2           502    France  Female   42       8  159660.80              3   \n",
       "3           699    France  Female   39       1       0.00              2   \n",
       "4           850     Spain  Female   43       2  125510.82              1   \n",
       "5           645     Spain    Male   44       8  113755.78              2   \n",
       "6           822    France    Male   50       7       0.00              2   \n",
       "7           376   Germany  Female   29       4  115046.74              4   \n",
       "8           501    France    Male   44       4  142051.07              2   \n",
       "9           684    France    Male   27       2  134603.88              1   \n",
       "10          528    France    Male   31       6  102016.72              2   \n",
       "11          497     Spain    Male   24       3       0.00              2   \n",
       "12          476    France  Female   34      10       0.00              2   \n",
       "13          549    France  Female   25       5       0.00              2   \n",
       "14          635     Spain  Female   35       7       0.00              2   \n",
       "\n",
       "    HasCrCard  IsActiveMember  EstimatedSalary  Exited  \n",
       "0           1               1        101348.88       1  \n",
       "1           0               1        112542.58       0  \n",
       "2           1               0        113931.57       1  \n",
       "3           0               0         93826.63       0  \n",
       "4           1               1         79084.10       0  \n",
       "5           1               0        149756.71       1  \n",
       "6           1               1         10062.80       0  \n",
       "7           1               0        119346.88       1  \n",
       "8           0               1         74940.50       0  \n",
       "9           1               1         71725.73       0  \n",
       "10          0               0         80181.12       0  \n",
       "11          1               0         76390.01       0  \n",
       "12          1               0         26260.98       0  \n",
       "13          0               0        190857.79       0  \n",
       "14          1               1         65951.65       0  "
      ]
     },
     "execution_count": 6,
     "metadata": {},
     "output_type": "execute_result"
    }
   ],
   "source": [
    "# создадим отдельный датафрейм с интересующими нас столбцами\n",
    "data_model = data.drop({'RowNumber', 'CustomerId', 'Surname'}, axis=1)\n",
    "data_model.head(15)"
   ]
  },
  {
   "cell_type": "markdown",
   "metadata": {},
   "source": [
    "Теперь таблица готова к анализу и обработке. А значит - приступаем."
   ]
  },
  {
   "cell_type": "markdown",
   "metadata": {},
   "source": [
    "<a id='id_2'></a>\n",
    "# 2. Исследование задачи"
   ]
  },
  {
   "cell_type": "markdown",
   "metadata": {},
   "source": [
    "### 2.1 Исследование балансов признаков."
   ]
  },
  {
   "cell_type": "code",
   "execution_count": 7,
   "metadata": {
    "scrolled": true
   },
   "outputs": [
    {
     "data": {
      "text/html": [
       "<div>\n",
       "<style scoped>\n",
       "    .dataframe tbody tr th:only-of-type {\n",
       "        vertical-align: middle;\n",
       "    }\n",
       "\n",
       "    .dataframe tbody tr th {\n",
       "        vertical-align: top;\n",
       "    }\n",
       "\n",
       "    .dataframe thead th {\n",
       "        text-align: right;\n",
       "    }\n",
       "</style>\n",
       "<table border=\"1\" class=\"dataframe\">\n",
       "  <thead>\n",
       "    <tr style=\"text-align: right;\">\n",
       "      <th></th>\n",
       "      <th>CreditScore</th>\n",
       "      <th>Age</th>\n",
       "      <th>Tenure</th>\n",
       "      <th>Balance</th>\n",
       "      <th>NumOfProducts</th>\n",
       "      <th>HasCrCard</th>\n",
       "      <th>IsActiveMember</th>\n",
       "      <th>EstimatedSalary</th>\n",
       "      <th>Exited</th>\n",
       "    </tr>\n",
       "  </thead>\n",
       "  <tbody>\n",
       "    <tr>\n",
       "      <td>count</td>\n",
       "      <td>10000.000000</td>\n",
       "      <td>10000.000000</td>\n",
       "      <td>10000.000000</td>\n",
       "      <td>10000.000000</td>\n",
       "      <td>10000.000000</td>\n",
       "      <td>10000.00000</td>\n",
       "      <td>10000.000000</td>\n",
       "      <td>10000.000000</td>\n",
       "      <td>10000.000000</td>\n",
       "    </tr>\n",
       "    <tr>\n",
       "      <td>mean</td>\n",
       "      <td>650.528800</td>\n",
       "      <td>38.921800</td>\n",
       "      <td>4.543400</td>\n",
       "      <td>76485.889288</td>\n",
       "      <td>1.530200</td>\n",
       "      <td>0.70550</td>\n",
       "      <td>0.515100</td>\n",
       "      <td>100090.239881</td>\n",
       "      <td>0.203700</td>\n",
       "    </tr>\n",
       "    <tr>\n",
       "      <td>std</td>\n",
       "      <td>96.653299</td>\n",
       "      <td>10.487806</td>\n",
       "      <td>3.111573</td>\n",
       "      <td>62397.405202</td>\n",
       "      <td>0.581654</td>\n",
       "      <td>0.45584</td>\n",
       "      <td>0.499797</td>\n",
       "      <td>57510.492818</td>\n",
       "      <td>0.402769</td>\n",
       "    </tr>\n",
       "    <tr>\n",
       "      <td>min</td>\n",
       "      <td>350.000000</td>\n",
       "      <td>18.000000</td>\n",
       "      <td>0.000000</td>\n",
       "      <td>0.000000</td>\n",
       "      <td>1.000000</td>\n",
       "      <td>0.00000</td>\n",
       "      <td>0.000000</td>\n",
       "      <td>11.580000</td>\n",
       "      <td>0.000000</td>\n",
       "    </tr>\n",
       "    <tr>\n",
       "      <td>25%</td>\n",
       "      <td>584.000000</td>\n",
       "      <td>32.000000</td>\n",
       "      <td>2.000000</td>\n",
       "      <td>0.000000</td>\n",
       "      <td>1.000000</td>\n",
       "      <td>0.00000</td>\n",
       "      <td>0.000000</td>\n",
       "      <td>51002.110000</td>\n",
       "      <td>0.000000</td>\n",
       "    </tr>\n",
       "    <tr>\n",
       "      <td>50%</td>\n",
       "      <td>652.000000</td>\n",
       "      <td>37.000000</td>\n",
       "      <td>4.000000</td>\n",
       "      <td>97198.540000</td>\n",
       "      <td>1.000000</td>\n",
       "      <td>1.00000</td>\n",
       "      <td>1.000000</td>\n",
       "      <td>100193.915000</td>\n",
       "      <td>0.000000</td>\n",
       "    </tr>\n",
       "    <tr>\n",
       "      <td>75%</td>\n",
       "      <td>718.000000</td>\n",
       "      <td>44.000000</td>\n",
       "      <td>7.000000</td>\n",
       "      <td>127644.240000</td>\n",
       "      <td>2.000000</td>\n",
       "      <td>1.00000</td>\n",
       "      <td>1.000000</td>\n",
       "      <td>149388.247500</td>\n",
       "      <td>0.000000</td>\n",
       "    </tr>\n",
       "    <tr>\n",
       "      <td>max</td>\n",
       "      <td>850.000000</td>\n",
       "      <td>92.000000</td>\n",
       "      <td>10.000000</td>\n",
       "      <td>250898.090000</td>\n",
       "      <td>4.000000</td>\n",
       "      <td>1.00000</td>\n",
       "      <td>1.000000</td>\n",
       "      <td>199992.480000</td>\n",
       "      <td>1.000000</td>\n",
       "    </tr>\n",
       "  </tbody>\n",
       "</table>\n",
       "</div>"
      ],
      "text/plain": [
       "        CreditScore           Age        Tenure        Balance  NumOfProducts  \\\n",
       "count  10000.000000  10000.000000  10000.000000   10000.000000   10000.000000   \n",
       "mean     650.528800     38.921800      4.543400   76485.889288       1.530200   \n",
       "std       96.653299     10.487806      3.111573   62397.405202       0.581654   \n",
       "min      350.000000     18.000000      0.000000       0.000000       1.000000   \n",
       "25%      584.000000     32.000000      2.000000       0.000000       1.000000   \n",
       "50%      652.000000     37.000000      4.000000   97198.540000       1.000000   \n",
       "75%      718.000000     44.000000      7.000000  127644.240000       2.000000   \n",
       "max      850.000000     92.000000     10.000000  250898.090000       4.000000   \n",
       "\n",
       "         HasCrCard  IsActiveMember  EstimatedSalary        Exited  \n",
       "count  10000.00000    10000.000000     10000.000000  10000.000000  \n",
       "mean       0.70550        0.515100    100090.239881      0.203700  \n",
       "std        0.45584        0.499797     57510.492818      0.402769  \n",
       "min        0.00000        0.000000        11.580000      0.000000  \n",
       "25%        0.00000        0.000000     51002.110000      0.000000  \n",
       "50%        1.00000        1.000000    100193.915000      0.000000  \n",
       "75%        1.00000        1.000000    149388.247500      0.000000  \n",
       "max        1.00000        1.000000    199992.480000      1.000000  "
      ]
     },
     "execution_count": 7,
     "metadata": {},
     "output_type": "execute_result"
    }
   ],
   "source": [
    "data_model.describe()"
   ]
  },
  {
   "cell_type": "code",
   "execution_count": 8,
   "metadata": {},
   "outputs": [
    {
     "data": {
      "text/html": [
       "<div>\n",
       "<style scoped>\n",
       "    .dataframe tbody tr th:only-of-type {\n",
       "        vertical-align: middle;\n",
       "    }\n",
       "\n",
       "    .dataframe tbody tr th {\n",
       "        vertical-align: top;\n",
       "    }\n",
       "\n",
       "    .dataframe thead th {\n",
       "        text-align: right;\n",
       "    }\n",
       "</style>\n",
       "<table border=\"1\" class=\"dataframe\">\n",
       "  <thead>\n",
       "    <tr style=\"text-align: right;\">\n",
       "      <th></th>\n",
       "      <th>CreditScore</th>\n",
       "      <th>Geography</th>\n",
       "      <th>Gender</th>\n",
       "      <th>Age</th>\n",
       "      <th>Tenure</th>\n",
       "      <th>Balance</th>\n",
       "      <th>NumOfProducts</th>\n",
       "      <th>HasCrCard</th>\n",
       "      <th>IsActiveMember</th>\n",
       "      <th>EstimatedSalary</th>\n",
       "      <th>Exited</th>\n",
       "    </tr>\n",
       "  </thead>\n",
       "  <tbody>\n",
       "    <tr>\n",
       "      <td>0</td>\n",
       "      <td>619</td>\n",
       "      <td>France</td>\n",
       "      <td>Female</td>\n",
       "      <td>42</td>\n",
       "      <td>2</td>\n",
       "      <td>0.00</td>\n",
       "      <td>1</td>\n",
       "      <td>1</td>\n",
       "      <td>1</td>\n",
       "      <td>101348.88</td>\n",
       "      <td>1</td>\n",
       "    </tr>\n",
       "    <tr>\n",
       "      <td>1</td>\n",
       "      <td>608</td>\n",
       "      <td>Spain</td>\n",
       "      <td>Female</td>\n",
       "      <td>41</td>\n",
       "      <td>1</td>\n",
       "      <td>83807.86</td>\n",
       "      <td>1</td>\n",
       "      <td>0</td>\n",
       "      <td>1</td>\n",
       "      <td>112542.58</td>\n",
       "      <td>0</td>\n",
       "    </tr>\n",
       "    <tr>\n",
       "      <td>2</td>\n",
       "      <td>502</td>\n",
       "      <td>France</td>\n",
       "      <td>Female</td>\n",
       "      <td>42</td>\n",
       "      <td>8</td>\n",
       "      <td>159660.80</td>\n",
       "      <td>3</td>\n",
       "      <td>1</td>\n",
       "      <td>0</td>\n",
       "      <td>113931.57</td>\n",
       "      <td>1</td>\n",
       "    </tr>\n",
       "    <tr>\n",
       "      <td>3</td>\n",
       "      <td>699</td>\n",
       "      <td>France</td>\n",
       "      <td>Female</td>\n",
       "      <td>39</td>\n",
       "      <td>1</td>\n",
       "      <td>0.00</td>\n",
       "      <td>2</td>\n",
       "      <td>0</td>\n",
       "      <td>0</td>\n",
       "      <td>93826.63</td>\n",
       "      <td>0</td>\n",
       "    </tr>\n",
       "    <tr>\n",
       "      <td>4</td>\n",
       "      <td>850</td>\n",
       "      <td>Spain</td>\n",
       "      <td>Female</td>\n",
       "      <td>43</td>\n",
       "      <td>2</td>\n",
       "      <td>125510.82</td>\n",
       "      <td>1</td>\n",
       "      <td>1</td>\n",
       "      <td>1</td>\n",
       "      <td>79084.10</td>\n",
       "      <td>0</td>\n",
       "    </tr>\n",
       "    <tr>\n",
       "      <td>5</td>\n",
       "      <td>645</td>\n",
       "      <td>Spain</td>\n",
       "      <td>Male</td>\n",
       "      <td>44</td>\n",
       "      <td>8</td>\n",
       "      <td>113755.78</td>\n",
       "      <td>2</td>\n",
       "      <td>1</td>\n",
       "      <td>0</td>\n",
       "      <td>149756.71</td>\n",
       "      <td>1</td>\n",
       "    </tr>\n",
       "    <tr>\n",
       "      <td>6</td>\n",
       "      <td>822</td>\n",
       "      <td>France</td>\n",
       "      <td>Male</td>\n",
       "      <td>50</td>\n",
       "      <td>7</td>\n",
       "      <td>0.00</td>\n",
       "      <td>2</td>\n",
       "      <td>1</td>\n",
       "      <td>1</td>\n",
       "      <td>10062.80</td>\n",
       "      <td>0</td>\n",
       "    </tr>\n",
       "    <tr>\n",
       "      <td>7</td>\n",
       "      <td>376</td>\n",
       "      <td>Germany</td>\n",
       "      <td>Female</td>\n",
       "      <td>29</td>\n",
       "      <td>4</td>\n",
       "      <td>115046.74</td>\n",
       "      <td>4</td>\n",
       "      <td>1</td>\n",
       "      <td>0</td>\n",
       "      <td>119346.88</td>\n",
       "      <td>1</td>\n",
       "    </tr>\n",
       "    <tr>\n",
       "      <td>8</td>\n",
       "      <td>501</td>\n",
       "      <td>France</td>\n",
       "      <td>Male</td>\n",
       "      <td>44</td>\n",
       "      <td>4</td>\n",
       "      <td>142051.07</td>\n",
       "      <td>2</td>\n",
       "      <td>0</td>\n",
       "      <td>1</td>\n",
       "      <td>74940.50</td>\n",
       "      <td>0</td>\n",
       "    </tr>\n",
       "    <tr>\n",
       "      <td>9</td>\n",
       "      <td>684</td>\n",
       "      <td>France</td>\n",
       "      <td>Male</td>\n",
       "      <td>27</td>\n",
       "      <td>2</td>\n",
       "      <td>134603.88</td>\n",
       "      <td>1</td>\n",
       "      <td>1</td>\n",
       "      <td>1</td>\n",
       "      <td>71725.73</td>\n",
       "      <td>0</td>\n",
       "    </tr>\n",
       "    <tr>\n",
       "      <td>10</td>\n",
       "      <td>528</td>\n",
       "      <td>France</td>\n",
       "      <td>Male</td>\n",
       "      <td>31</td>\n",
       "      <td>6</td>\n",
       "      <td>102016.72</td>\n",
       "      <td>2</td>\n",
       "      <td>0</td>\n",
       "      <td>0</td>\n",
       "      <td>80181.12</td>\n",
       "      <td>0</td>\n",
       "    </tr>\n",
       "    <tr>\n",
       "      <td>11</td>\n",
       "      <td>497</td>\n",
       "      <td>Spain</td>\n",
       "      <td>Male</td>\n",
       "      <td>24</td>\n",
       "      <td>3</td>\n",
       "      <td>0.00</td>\n",
       "      <td>2</td>\n",
       "      <td>1</td>\n",
       "      <td>0</td>\n",
       "      <td>76390.01</td>\n",
       "      <td>0</td>\n",
       "    </tr>\n",
       "    <tr>\n",
       "      <td>12</td>\n",
       "      <td>476</td>\n",
       "      <td>France</td>\n",
       "      <td>Female</td>\n",
       "      <td>34</td>\n",
       "      <td>10</td>\n",
       "      <td>0.00</td>\n",
       "      <td>2</td>\n",
       "      <td>1</td>\n",
       "      <td>0</td>\n",
       "      <td>26260.98</td>\n",
       "      <td>0</td>\n",
       "    </tr>\n",
       "    <tr>\n",
       "      <td>13</td>\n",
       "      <td>549</td>\n",
       "      <td>France</td>\n",
       "      <td>Female</td>\n",
       "      <td>25</td>\n",
       "      <td>5</td>\n",
       "      <td>0.00</td>\n",
       "      <td>2</td>\n",
       "      <td>0</td>\n",
       "      <td>0</td>\n",
       "      <td>190857.79</td>\n",
       "      <td>0</td>\n",
       "    </tr>\n",
       "    <tr>\n",
       "      <td>14</td>\n",
       "      <td>635</td>\n",
       "      <td>Spain</td>\n",
       "      <td>Female</td>\n",
       "      <td>35</td>\n",
       "      <td>7</td>\n",
       "      <td>0.00</td>\n",
       "      <td>2</td>\n",
       "      <td>1</td>\n",
       "      <td>1</td>\n",
       "      <td>65951.65</td>\n",
       "      <td>0</td>\n",
       "    </tr>\n",
       "  </tbody>\n",
       "</table>\n",
       "</div>"
      ],
      "text/plain": [
       "    CreditScore Geography  Gender  Age  Tenure    Balance  NumOfProducts  \\\n",
       "0           619    France  Female   42       2       0.00              1   \n",
       "1           608     Spain  Female   41       1   83807.86              1   \n",
       "2           502    France  Female   42       8  159660.80              3   \n",
       "3           699    France  Female   39       1       0.00              2   \n",
       "4           850     Spain  Female   43       2  125510.82              1   \n",
       "5           645     Spain    Male   44       8  113755.78              2   \n",
       "6           822    France    Male   50       7       0.00              2   \n",
       "7           376   Germany  Female   29       4  115046.74              4   \n",
       "8           501    France    Male   44       4  142051.07              2   \n",
       "9           684    France    Male   27       2  134603.88              1   \n",
       "10          528    France    Male   31       6  102016.72              2   \n",
       "11          497     Spain    Male   24       3       0.00              2   \n",
       "12          476    France  Female   34      10       0.00              2   \n",
       "13          549    France  Female   25       5       0.00              2   \n",
       "14          635     Spain  Female   35       7       0.00              2   \n",
       "\n",
       "    HasCrCard  IsActiveMember  EstimatedSalary  Exited  \n",
       "0           1               1        101348.88       1  \n",
       "1           0               1        112542.58       0  \n",
       "2           1               0        113931.57       1  \n",
       "3           0               0         93826.63       0  \n",
       "4           1               1         79084.10       0  \n",
       "5           1               0        149756.71       1  \n",
       "6           1               1         10062.80       0  \n",
       "7           1               0        119346.88       1  \n",
       "8           0               1         74940.50       0  \n",
       "9           1               1         71725.73       0  \n",
       "10          0               0         80181.12       0  \n",
       "11          1               0         76390.01       0  \n",
       "12          1               0         26260.98       0  \n",
       "13          0               0        190857.79       0  \n",
       "14          1               1         65951.65       0  "
      ]
     },
     "execution_count": 8,
     "metadata": {},
     "output_type": "execute_result"
    }
   ],
   "source": [
    "data_model.head(15)"
   ]
  },
  {
   "cell_type": "markdown",
   "metadata": {},
   "source": [
    "Как было известно заранее - целевой признак = Exited, все остальное - признаки, которые будут использованы для обучения.\n",
    "\n",
    "Можно заметить сильную несбалансированность признаков. Например:\n",
    "\n",
    "    - Признаки IsActiveMember, HasCrCard, NumOfProducts и Tenure имееют малый диапозон (0-1, 0-1, 1-4, 0-10 соотвественно).\n",
    "    \n",
    "    - Признак Age имеет средний диапозон (18-92)\n",
    "    \n",
    "    - Признаки CreditScore, Balance, EstimatedSalary имеют большой диапозон (350-850, 0-250898, 11.58 - 199992.48)\n",
    "    \n",
    "Так же признаки у нас идут разные: категориальные и количественные.\n",
    "Категориальные - Geogreaphy и Gender, все остальные - количественные. \n",
    "\n",
    "А значит - для успешной работы модели категориальные признаки нам нужно будет преобразовать в количественные."
   ]
  },
  {
   "cell_type": "markdown",
   "metadata": {},
   "source": [
    "### 2.2 Преобразование признаков\n",
    "Для преобразования данных воспользуемся техникой One-Hot Encoding.\n",
    "Разумно было бы так же использовать Ordinal Encoder, но оно не подходит для Логистической регрессии."
   ]
  },
  {
   "cell_type": "code",
   "execution_count": 9,
   "metadata": {},
   "outputs": [
    {
     "data": {
      "text/html": [
       "<div>\n",
       "<style scoped>\n",
       "    .dataframe tbody tr th:only-of-type {\n",
       "        vertical-align: middle;\n",
       "    }\n",
       "\n",
       "    .dataframe tbody tr th {\n",
       "        vertical-align: top;\n",
       "    }\n",
       "\n",
       "    .dataframe thead th {\n",
       "        text-align: right;\n",
       "    }\n",
       "</style>\n",
       "<table border=\"1\" class=\"dataframe\">\n",
       "  <thead>\n",
       "    <tr style=\"text-align: right;\">\n",
       "      <th></th>\n",
       "      <th>CreditScore</th>\n",
       "      <th>Age</th>\n",
       "      <th>Tenure</th>\n",
       "      <th>Balance</th>\n",
       "      <th>NumOfProducts</th>\n",
       "      <th>HasCrCard</th>\n",
       "      <th>IsActiveMember</th>\n",
       "      <th>EstimatedSalary</th>\n",
       "      <th>Exited</th>\n",
       "      <th>Geography_Germany</th>\n",
       "      <th>Geography_Spain</th>\n",
       "      <th>Gender_Male</th>\n",
       "    </tr>\n",
       "  </thead>\n",
       "  <tbody>\n",
       "    <tr>\n",
       "      <td>0</td>\n",
       "      <td>619</td>\n",
       "      <td>42</td>\n",
       "      <td>2</td>\n",
       "      <td>0.00</td>\n",
       "      <td>1</td>\n",
       "      <td>1</td>\n",
       "      <td>1</td>\n",
       "      <td>101348.88</td>\n",
       "      <td>1</td>\n",
       "      <td>0</td>\n",
       "      <td>0</td>\n",
       "      <td>0</td>\n",
       "    </tr>\n",
       "    <tr>\n",
       "      <td>1</td>\n",
       "      <td>608</td>\n",
       "      <td>41</td>\n",
       "      <td>1</td>\n",
       "      <td>83807.86</td>\n",
       "      <td>1</td>\n",
       "      <td>0</td>\n",
       "      <td>1</td>\n",
       "      <td>112542.58</td>\n",
       "      <td>0</td>\n",
       "      <td>0</td>\n",
       "      <td>1</td>\n",
       "      <td>0</td>\n",
       "    </tr>\n",
       "    <tr>\n",
       "      <td>2</td>\n",
       "      <td>502</td>\n",
       "      <td>42</td>\n",
       "      <td>8</td>\n",
       "      <td>159660.80</td>\n",
       "      <td>3</td>\n",
       "      <td>1</td>\n",
       "      <td>0</td>\n",
       "      <td>113931.57</td>\n",
       "      <td>1</td>\n",
       "      <td>0</td>\n",
       "      <td>0</td>\n",
       "      <td>0</td>\n",
       "    </tr>\n",
       "    <tr>\n",
       "      <td>3</td>\n",
       "      <td>699</td>\n",
       "      <td>39</td>\n",
       "      <td>1</td>\n",
       "      <td>0.00</td>\n",
       "      <td>2</td>\n",
       "      <td>0</td>\n",
       "      <td>0</td>\n",
       "      <td>93826.63</td>\n",
       "      <td>0</td>\n",
       "      <td>0</td>\n",
       "      <td>0</td>\n",
       "      <td>0</td>\n",
       "    </tr>\n",
       "    <tr>\n",
       "      <td>4</td>\n",
       "      <td>850</td>\n",
       "      <td>43</td>\n",
       "      <td>2</td>\n",
       "      <td>125510.82</td>\n",
       "      <td>1</td>\n",
       "      <td>1</td>\n",
       "      <td>1</td>\n",
       "      <td>79084.10</td>\n",
       "      <td>0</td>\n",
       "      <td>0</td>\n",
       "      <td>1</td>\n",
       "      <td>0</td>\n",
       "    </tr>\n",
       "    <tr>\n",
       "      <td>5</td>\n",
       "      <td>645</td>\n",
       "      <td>44</td>\n",
       "      <td>8</td>\n",
       "      <td>113755.78</td>\n",
       "      <td>2</td>\n",
       "      <td>1</td>\n",
       "      <td>0</td>\n",
       "      <td>149756.71</td>\n",
       "      <td>1</td>\n",
       "      <td>0</td>\n",
       "      <td>1</td>\n",
       "      <td>1</td>\n",
       "    </tr>\n",
       "    <tr>\n",
       "      <td>6</td>\n",
       "      <td>822</td>\n",
       "      <td>50</td>\n",
       "      <td>7</td>\n",
       "      <td>0.00</td>\n",
       "      <td>2</td>\n",
       "      <td>1</td>\n",
       "      <td>1</td>\n",
       "      <td>10062.80</td>\n",
       "      <td>0</td>\n",
       "      <td>0</td>\n",
       "      <td>0</td>\n",
       "      <td>1</td>\n",
       "    </tr>\n",
       "    <tr>\n",
       "      <td>7</td>\n",
       "      <td>376</td>\n",
       "      <td>29</td>\n",
       "      <td>4</td>\n",
       "      <td>115046.74</td>\n",
       "      <td>4</td>\n",
       "      <td>1</td>\n",
       "      <td>0</td>\n",
       "      <td>119346.88</td>\n",
       "      <td>1</td>\n",
       "      <td>1</td>\n",
       "      <td>0</td>\n",
       "      <td>0</td>\n",
       "    </tr>\n",
       "    <tr>\n",
       "      <td>8</td>\n",
       "      <td>501</td>\n",
       "      <td>44</td>\n",
       "      <td>4</td>\n",
       "      <td>142051.07</td>\n",
       "      <td>2</td>\n",
       "      <td>0</td>\n",
       "      <td>1</td>\n",
       "      <td>74940.50</td>\n",
       "      <td>0</td>\n",
       "      <td>0</td>\n",
       "      <td>0</td>\n",
       "      <td>1</td>\n",
       "    </tr>\n",
       "    <tr>\n",
       "      <td>9</td>\n",
       "      <td>684</td>\n",
       "      <td>27</td>\n",
       "      <td>2</td>\n",
       "      <td>134603.88</td>\n",
       "      <td>1</td>\n",
       "      <td>1</td>\n",
       "      <td>1</td>\n",
       "      <td>71725.73</td>\n",
       "      <td>0</td>\n",
       "      <td>0</td>\n",
       "      <td>0</td>\n",
       "      <td>1</td>\n",
       "    </tr>\n",
       "    <tr>\n",
       "      <td>10</td>\n",
       "      <td>528</td>\n",
       "      <td>31</td>\n",
       "      <td>6</td>\n",
       "      <td>102016.72</td>\n",
       "      <td>2</td>\n",
       "      <td>0</td>\n",
       "      <td>0</td>\n",
       "      <td>80181.12</td>\n",
       "      <td>0</td>\n",
       "      <td>0</td>\n",
       "      <td>0</td>\n",
       "      <td>1</td>\n",
       "    </tr>\n",
       "    <tr>\n",
       "      <td>11</td>\n",
       "      <td>497</td>\n",
       "      <td>24</td>\n",
       "      <td>3</td>\n",
       "      <td>0.00</td>\n",
       "      <td>2</td>\n",
       "      <td>1</td>\n",
       "      <td>0</td>\n",
       "      <td>76390.01</td>\n",
       "      <td>0</td>\n",
       "      <td>0</td>\n",
       "      <td>1</td>\n",
       "      <td>1</td>\n",
       "    </tr>\n",
       "    <tr>\n",
       "      <td>12</td>\n",
       "      <td>476</td>\n",
       "      <td>34</td>\n",
       "      <td>10</td>\n",
       "      <td>0.00</td>\n",
       "      <td>2</td>\n",
       "      <td>1</td>\n",
       "      <td>0</td>\n",
       "      <td>26260.98</td>\n",
       "      <td>0</td>\n",
       "      <td>0</td>\n",
       "      <td>0</td>\n",
       "      <td>0</td>\n",
       "    </tr>\n",
       "    <tr>\n",
       "      <td>13</td>\n",
       "      <td>549</td>\n",
       "      <td>25</td>\n",
       "      <td>5</td>\n",
       "      <td>0.00</td>\n",
       "      <td>2</td>\n",
       "      <td>0</td>\n",
       "      <td>0</td>\n",
       "      <td>190857.79</td>\n",
       "      <td>0</td>\n",
       "      <td>0</td>\n",
       "      <td>0</td>\n",
       "      <td>0</td>\n",
       "    </tr>\n",
       "    <tr>\n",
       "      <td>14</td>\n",
       "      <td>635</td>\n",
       "      <td>35</td>\n",
       "      <td>7</td>\n",
       "      <td>0.00</td>\n",
       "      <td>2</td>\n",
       "      <td>1</td>\n",
       "      <td>1</td>\n",
       "      <td>65951.65</td>\n",
       "      <td>0</td>\n",
       "      <td>0</td>\n",
       "      <td>1</td>\n",
       "      <td>0</td>\n",
       "    </tr>\n",
       "  </tbody>\n",
       "</table>\n",
       "</div>"
      ],
      "text/plain": [
       "    CreditScore  Age  Tenure    Balance  NumOfProducts  HasCrCard  \\\n",
       "0           619   42       2       0.00              1          1   \n",
       "1           608   41       1   83807.86              1          0   \n",
       "2           502   42       8  159660.80              3          1   \n",
       "3           699   39       1       0.00              2          0   \n",
       "4           850   43       2  125510.82              1          1   \n",
       "5           645   44       8  113755.78              2          1   \n",
       "6           822   50       7       0.00              2          1   \n",
       "7           376   29       4  115046.74              4          1   \n",
       "8           501   44       4  142051.07              2          0   \n",
       "9           684   27       2  134603.88              1          1   \n",
       "10          528   31       6  102016.72              2          0   \n",
       "11          497   24       3       0.00              2          1   \n",
       "12          476   34      10       0.00              2          1   \n",
       "13          549   25       5       0.00              2          0   \n",
       "14          635   35       7       0.00              2          1   \n",
       "\n",
       "    IsActiveMember  EstimatedSalary  Exited  Geography_Germany  \\\n",
       "0                1        101348.88       1                  0   \n",
       "1                1        112542.58       0                  0   \n",
       "2                0        113931.57       1                  0   \n",
       "3                0         93826.63       0                  0   \n",
       "4                1         79084.10       0                  0   \n",
       "5                0        149756.71       1                  0   \n",
       "6                1         10062.80       0                  0   \n",
       "7                0        119346.88       1                  1   \n",
       "8                1         74940.50       0                  0   \n",
       "9                1         71725.73       0                  0   \n",
       "10               0         80181.12       0                  0   \n",
       "11               0         76390.01       0                  0   \n",
       "12               0         26260.98       0                  0   \n",
       "13               0        190857.79       0                  0   \n",
       "14               1         65951.65       0                  0   \n",
       "\n",
       "    Geography_Spain  Gender_Male  \n",
       "0                 0            0  \n",
       "1                 1            0  \n",
       "2                 0            0  \n",
       "3                 0            0  \n",
       "4                 1            0  \n",
       "5                 1            1  \n",
       "6                 0            1  \n",
       "7                 0            0  \n",
       "8                 0            1  \n",
       "9                 0            1  \n",
       "10                0            1  \n",
       "11                1            1  \n",
       "12                0            0  \n",
       "13                0            0  \n",
       "14                1            0  "
      ]
     },
     "execution_count": 9,
     "metadata": {},
     "output_type": "execute_result"
    }
   ],
   "source": [
    "# Чтобы избежать дамми-ловушек удалим первый столбец\n",
    "data_model2 = pd.get_dummies(data_model, drop_first=True)\n",
    "data_model2.head(15)"
   ]
  },
  {
   "cell_type": "markdown",
   "metadata": {},
   "source": [
    "Готово, теперь все категориальные признаки стали количественными."
   ]
  },
  {
   "cell_type": "markdown",
   "metadata": {},
   "source": [
    "### 2.3 Создание выборок"
   ]
  },
  {
   "cell_type": "code",
   "execution_count": 10,
   "metadata": {},
   "outputs": [
    {
     "name": "stdout",
     "output_type": "stream",
     "text": [
      "<class 'pandas.core.frame.DataFrame'>\n",
      "Int64Index: 6000 entries, 9696 to 3582\n",
      "Data columns (total 12 columns):\n",
      "CreditScore          6000 non-null int64\n",
      "Age                  6000 non-null int64\n",
      "Tenure               6000 non-null int64\n",
      "Balance              6000 non-null float64\n",
      "NumOfProducts        6000 non-null int64\n",
      "HasCrCard            6000 non-null int64\n",
      "IsActiveMember       6000 non-null int64\n",
      "EstimatedSalary      6000 non-null float64\n",
      "Exited               6000 non-null int64\n",
      "Geography_Germany    6000 non-null uint8\n",
      "Geography_Spain      6000 non-null uint8\n",
      "Gender_Male          6000 non-null uint8\n",
      "dtypes: float64(2), int64(7), uint8(3)\n",
      "memory usage: 486.3 KB\n"
     ]
    }
   ],
   "source": [
    "# Создадим обучающую, валидационную и тестовую выборки с соотношением (3:1:1).\n",
    "from sklearn.model_selection import train_test_split\n",
    "data_train, data_another = train_test_split(data_model2, test_size = 0.4, random_state=123)\n",
    "data_valid, data_test = train_test_split(data_another, test_size=0.5, random_state=123)\n",
    "data_train.info()"
   ]
  },
  {
   "cell_type": "code",
   "execution_count": 11,
   "metadata": {},
   "outputs": [
    {
     "name": "stdout",
     "output_type": "stream",
     "text": [
      "<class 'pandas.core.frame.DataFrame'>\n",
      "Int64Index: 2000 entries, 2019 to 7860\n",
      "Data columns (total 12 columns):\n",
      "CreditScore          2000 non-null int64\n",
      "Age                  2000 non-null int64\n",
      "Tenure               2000 non-null int64\n",
      "Balance              2000 non-null float64\n",
      "NumOfProducts        2000 non-null int64\n",
      "HasCrCard            2000 non-null int64\n",
      "IsActiveMember       2000 non-null int64\n",
      "EstimatedSalary      2000 non-null float64\n",
      "Exited               2000 non-null int64\n",
      "Geography_Germany    2000 non-null uint8\n",
      "Geography_Spain      2000 non-null uint8\n",
      "Gender_Male          2000 non-null uint8\n",
      "dtypes: float64(2), int64(7), uint8(3)\n",
      "memory usage: 162.1 KB\n"
     ]
    }
   ],
   "source": [
    "data_valid.info()"
   ]
  },
  {
   "cell_type": "code",
   "execution_count": 12,
   "metadata": {},
   "outputs": [
    {
     "name": "stdout",
     "output_type": "stream",
     "text": [
      "<class 'pandas.core.frame.DataFrame'>\n",
      "Int64Index: 2000 entries, 1314 to 7718\n",
      "Data columns (total 12 columns):\n",
      "CreditScore          2000 non-null int64\n",
      "Age                  2000 non-null int64\n",
      "Tenure               2000 non-null int64\n",
      "Balance              2000 non-null float64\n",
      "NumOfProducts        2000 non-null int64\n",
      "HasCrCard            2000 non-null int64\n",
      "IsActiveMember       2000 non-null int64\n",
      "EstimatedSalary      2000 non-null float64\n",
      "Exited               2000 non-null int64\n",
      "Geography_Germany    2000 non-null uint8\n",
      "Geography_Spain      2000 non-null uint8\n",
      "Gender_Male          2000 non-null uint8\n",
      "dtypes: float64(2), int64(7), uint8(3)\n",
      "memory usage: 162.1 KB\n"
     ]
    }
   ],
   "source": [
    "data_test.info()"
   ]
  },
  {
   "cell_type": "code",
   "execution_count": 13,
   "metadata": {},
   "outputs": [],
   "source": [
    "# Для последующего обучения моделей - создадим переменные для признаков и целевого признака для каждой из выборок\n",
    "features_train = data_train.drop(['Exited'], axis=1)\n",
    "target_train = data_train['Exited']\n",
    "features_valid = data_valid.drop(['Exited'], axis=1)\n",
    "target_valid = data_valid['Exited']\n",
    "features_test = data_test.drop(['Exited'], axis=1)\n",
    "target_test = data_test['Exited']"
   ]
  },
  {
   "cell_type": "markdown",
   "metadata": {},
   "source": [
    "Итого - у нас получились три выборки, которые мы разделили на признаки и целевой признак:\n",
    "\n",
    "    1) features_train, target_train составляют 60% от общих данных и являются обучающими данными\n",
    "    \n",
    "    2) features_valid, target_valid составляют 20% от общих данных и являются валидационными данными\n",
    "    \n",
    "    3) features_test, target_test составляют 20% от общих данных и являются тестовыми данными."
   ]
  },
  {
   "cell_type": "markdown",
   "metadata": {},
   "source": [
    "### 2.4 Обучение модели"
   ]
  },
  {
   "cell_type": "markdown",
   "metadata": {},
   "source": [
    "Перед нами задача классификации, т.к. целевой признак равен 0 либо 1.\n",
    "\n",
    "Попробуем 3 основных типа моделей: \n",
    "\n",
    "    1) Дерево решений\n",
    "    \n",
    "    2) Случайный лес\n",
    "    \n",
    "    3) Логистическая регрессия"
   ]
  },
  {
   "cell_type": "markdown",
   "metadata": {},
   "source": [
    "### Дерево решений"
   ]
  },
  {
   "cell_type": "code",
   "execution_count": 14,
   "metadata": {},
   "outputs": [],
   "source": [
    "# Импортируем необходимые библиотеки\n",
    "from sklearn.tree import DecisionTreeClassifier\n",
    "from sklearn.metrics import accuracy_score"
   ]
  },
  {
   "cell_type": "code",
   "execution_count": 15,
   "metadata": {},
   "outputs": [
    {
     "data": {
      "text/plain": [
       "0.798"
      ]
     },
     "execution_count": 15,
     "metadata": {},
     "output_type": "execute_result"
    }
   ],
   "source": [
    "# Для начала обучим модель со стандартными настройками\n",
    "tree_model = DecisionTreeClassifier(random_state=123)\n",
    "tree_model.fit(features_train, target_train)\n",
    "tree_predict = tree_model.predict(features_valid)\n",
    "accuracy_score(target_valid, tree_predict)"
   ]
  },
  {
   "cell_type": "markdown",
   "metadata": {},
   "source": [
    "Accuracy = 0.798\n",
    "Поиграем с параметрами, чтобы найти максимально подходящую нам модель"
   ]
  },
  {
   "cell_type": "code",
   "execution_count": 16,
   "metadata": {},
   "outputs": [
    {
     "name": "stdout",
     "output_type": "stream",
     "text": [
      "1 - 0.803\n",
      "2 - 0.846\n",
      "3 - 0.8515\n",
      "4 - 0.854\n",
      "5 - 0.8595\n",
      "6 - 0.8595\n",
      "7 - 0.8625\n",
      "8 - 0.8555\n",
      "9 - 0.8455\n",
      "10 - 0.843\n"
     ]
    }
   ],
   "source": [
    "# Начнем с max_depth, попробуем его в цикле от 1 до 10)\n",
    "for depth in range(1, 11):\n",
    "    model = DecisionTreeClassifier(max_depth=depth, random_state=123)\n",
    "    model.fit(features_train, target_train)\n",
    "    predict = model.predict(features_valid)\n",
    "    accuracy=accuracy_score(target_valid, predict)\n",
    "    print(depth, \"-\", accuracy)"
   ]
  },
  {
   "cell_type": "code",
   "execution_count": 17,
   "metadata": {},
   "outputs": [
    {
     "name": "stdout",
     "output_type": "stream",
     "text": [
      "2 - 0.8625\n",
      "3 - 0.8625\n",
      "4 - 0.8625\n",
      "5 - 0.8625\n",
      "6 - 0.8625\n",
      "7 - 0.8625\n",
      "8 - 0.8625\n",
      "9 - 0.8625\n",
      "10 - 0.8625\n"
     ]
    }
   ],
   "source": [
    "# Итак, max_depth лучше всего делать 7, в этом случае значение самое большое\n",
    "# Теперь попробуем выбрать min_samples_split \n",
    "for split in range(2, 11):\n",
    "    model=DecisionTreeClassifier(max_depth=7, min_samples_split=split, random_state=123)\n",
    "    model.fit(features_train, target_train)\n",
    "    predict = model.predict(features_valid)\n",
    "    accuracy = accuracy_score(target_valid, predict)\n",
    "    print(split, '-', accuracy)"
   ]
  },
  {
   "cell_type": "code",
   "execution_count": 18,
   "metadata": {},
   "outputs": [
    {
     "name": "stdout",
     "output_type": "stream",
     "text": [
      "1 - 0.8625\n",
      "2 - 0.863\n",
      "3 - 0.863\n",
      "4 - 0.8635\n",
      "5 - 0.8635\n",
      "6 - 0.863\n",
      "7 - 0.8625\n",
      "8 - 0.8635\n",
      "9 - 0.861\n",
      "10 - 0.8605\n"
     ]
    }
   ],
   "source": [
    "# Какой бы мы параметр не выбрали - значение не меняется, а значит min_samples_split оставляем без изменений\n",
    "# Теперь обработаем min_samples_leaf\n",
    "for leaf in range (1, 11):\n",
    "    model=DecisionTreeClassifier(max_depth=7, min_samples_leaf=leaf, random_state=123)\n",
    "    model.fit(features_train, target_train)\n",
    "    predict = model.predict(features_valid)\n",
    "    accuracy = accuracy_score(target_valid, predict)\n",
    "    print(leaf, '-', accuracy)"
   ]
  },
  {
   "cell_type": "code",
   "execution_count": 19,
   "metadata": {},
   "outputs": [
    {
     "data": {
      "text/plain": [
       "0.8635"
      ]
     },
     "execution_count": 19,
     "metadata": {},
     "output_type": "execute_result"
    }
   ],
   "source": [
    "# Создаем финальную модель\n",
    "tree_model = DecisionTreeClassifier(max_depth=7, min_samples_leaf=4, random_state=123)\n",
    "tree_model.fit(features_train, target_train)\n",
    "tree_predict = tree_model.predict(features_valid)\n",
    "accuracy_score(target_valid, tree_predict)"
   ]
  },
  {
   "cell_type": "markdown",
   "metadata": {},
   "source": [
    "Дерево решений с оптимальным параметрами готовo, accuracy составило 0.8635 "
   ]
  },
  {
   "cell_type": "markdown",
   "metadata": {},
   "source": [
    "### Случайный лес"
   ]
  },
  {
   "cell_type": "code",
   "execution_count": 20,
   "metadata": {},
   "outputs": [
    {
     "name": "stderr",
     "output_type": "stream",
     "text": [
      "/opt/conda/lib/python3.7/site-packages/sklearn/ensemble/forest.py:245: FutureWarning: The default value of n_estimators will change from 10 in version 0.20 to 100 in 0.22.\n",
      "  \"10 in version 0.20 to 100 in 0.22.\", FutureWarning)\n",
      "/opt/conda/lib/python3.7/site-packages/sklearn/ensemble/forest.py:245: FutureWarning: The default value of n_estimators will change from 10 in version 0.20 to 100 in 0.22.\n",
      "  \"10 in version 0.20 to 100 in 0.22.\", FutureWarning)\n",
      "/opt/conda/lib/python3.7/site-packages/sklearn/ensemble/forest.py:245: FutureWarning: The default value of n_estimators will change from 10 in version 0.20 to 100 in 0.22.\n",
      "  \"10 in version 0.20 to 100 in 0.22.\", FutureWarning)\n"
     ]
    },
    {
     "name": "stdout",
     "output_type": "stream",
     "text": [
      "1 - 0.803\n",
      "2 - 0.821\n",
      "3 - 0.8285\n"
     ]
    },
    {
     "name": "stderr",
     "output_type": "stream",
     "text": [
      "/opt/conda/lib/python3.7/site-packages/sklearn/ensemble/forest.py:245: FutureWarning: The default value of n_estimators will change from 10 in version 0.20 to 100 in 0.22.\n",
      "  \"10 in version 0.20 to 100 in 0.22.\", FutureWarning)\n",
      "/opt/conda/lib/python3.7/site-packages/sklearn/ensemble/forest.py:245: FutureWarning: The default value of n_estimators will change from 10 in version 0.20 to 100 in 0.22.\n",
      "  \"10 in version 0.20 to 100 in 0.22.\", FutureWarning)\n",
      "/opt/conda/lib/python3.7/site-packages/sklearn/ensemble/forest.py:245: FutureWarning: The default value of n_estimators will change from 10 in version 0.20 to 100 in 0.22.\n",
      "  \"10 in version 0.20 to 100 in 0.22.\", FutureWarning)\n"
     ]
    },
    {
     "name": "stdout",
     "output_type": "stream",
     "text": [
      "4 - 0.8345\n",
      "5 - 0.8515\n",
      "6 - 0.8485\n",
      "7 - 0.8535\n"
     ]
    },
    {
     "name": "stderr",
     "output_type": "stream",
     "text": [
      "/opt/conda/lib/python3.7/site-packages/sklearn/ensemble/forest.py:245: FutureWarning: The default value of n_estimators will change from 10 in version 0.20 to 100 in 0.22.\n",
      "  \"10 in version 0.20 to 100 in 0.22.\", FutureWarning)\n",
      "/opt/conda/lib/python3.7/site-packages/sklearn/ensemble/forest.py:245: FutureWarning: The default value of n_estimators will change from 10 in version 0.20 to 100 in 0.22.\n",
      "  \"10 in version 0.20 to 100 in 0.22.\", FutureWarning)\n"
     ]
    },
    {
     "name": "stdout",
     "output_type": "stream",
     "text": [
      "8 - 0.861\n",
      "9 - 0.8605\n"
     ]
    },
    {
     "name": "stderr",
     "output_type": "stream",
     "text": [
      "/opt/conda/lib/python3.7/site-packages/sklearn/ensemble/forest.py:245: FutureWarning: The default value of n_estimators will change from 10 in version 0.20 to 100 in 0.22.\n",
      "  \"10 in version 0.20 to 100 in 0.22.\", FutureWarning)\n",
      "/opt/conda/lib/python3.7/site-packages/sklearn/ensemble/forest.py:245: FutureWarning: The default value of n_estimators will change from 10 in version 0.20 to 100 in 0.22.\n",
      "  \"10 in version 0.20 to 100 in 0.22.\", FutureWarning)\n"
     ]
    },
    {
     "name": "stdout",
     "output_type": "stream",
     "text": [
      "10 - 0.859\n"
     ]
    }
   ],
   "source": [
    "from sklearn.ensemble import RandomForestClassifier\n",
    "# По аналогии с моделью Дерево решений подбираем параметры\n",
    "for depth in range(1, 11):\n",
    "    model = RandomForestClassifier(max_depth=depth, random_state=123)\n",
    "    model.fit(features_train, target_train)\n",
    "    predict = model.predict(features_valid)\n",
    "    accuracy=accuracy_score(target_valid, predict)\n",
    "    print(depth, \"-\", accuracy)"
   ]
  },
  {
   "cell_type": "code",
   "execution_count": 21,
   "metadata": {
    "scrolled": false
   },
   "outputs": [
    {
     "name": "stdout",
     "output_type": "stream",
     "text": [
      "2 - 0.861\n"
     ]
    },
    {
     "name": "stderr",
     "output_type": "stream",
     "text": [
      "/opt/conda/lib/python3.7/site-packages/sklearn/ensemble/forest.py:245: FutureWarning: The default value of n_estimators will change from 10 in version 0.20 to 100 in 0.22.\n",
      "  \"10 in version 0.20 to 100 in 0.22.\", FutureWarning)\n",
      "/opt/conda/lib/python3.7/site-packages/sklearn/ensemble/forest.py:245: FutureWarning: The default value of n_estimators will change from 10 in version 0.20 to 100 in 0.22.\n",
      "  \"10 in version 0.20 to 100 in 0.22.\", FutureWarning)\n"
     ]
    },
    {
     "name": "stdout",
     "output_type": "stream",
     "text": [
      "3 - 0.8595\n",
      "4 - 0.859\n"
     ]
    },
    {
     "name": "stderr",
     "output_type": "stream",
     "text": [
      "/opt/conda/lib/python3.7/site-packages/sklearn/ensemble/forest.py:245: FutureWarning: The default value of n_estimators will change from 10 in version 0.20 to 100 in 0.22.\n",
      "  \"10 in version 0.20 to 100 in 0.22.\", FutureWarning)\n",
      "/opt/conda/lib/python3.7/site-packages/sklearn/ensemble/forest.py:245: FutureWarning: The default value of n_estimators will change from 10 in version 0.20 to 100 in 0.22.\n",
      "  \"10 in version 0.20 to 100 in 0.22.\", FutureWarning)\n"
     ]
    },
    {
     "name": "stdout",
     "output_type": "stream",
     "text": [
      "5 - 0.8615\n",
      "6 - 0.86\n"
     ]
    },
    {
     "name": "stderr",
     "output_type": "stream",
     "text": [
      "/opt/conda/lib/python3.7/site-packages/sklearn/ensemble/forest.py:245: FutureWarning: The default value of n_estimators will change from 10 in version 0.20 to 100 in 0.22.\n",
      "  \"10 in version 0.20 to 100 in 0.22.\", FutureWarning)\n",
      "/opt/conda/lib/python3.7/site-packages/sklearn/ensemble/forest.py:245: FutureWarning: The default value of n_estimators will change from 10 in version 0.20 to 100 in 0.22.\n",
      "  \"10 in version 0.20 to 100 in 0.22.\", FutureWarning)\n"
     ]
    },
    {
     "name": "stdout",
     "output_type": "stream",
     "text": [
      "7 - 0.8605\n",
      "8 - 0.8595\n"
     ]
    },
    {
     "name": "stderr",
     "output_type": "stream",
     "text": [
      "/opt/conda/lib/python3.7/site-packages/sklearn/ensemble/forest.py:245: FutureWarning: The default value of n_estimators will change from 10 in version 0.20 to 100 in 0.22.\n",
      "  \"10 in version 0.20 to 100 in 0.22.\", FutureWarning)\n",
      "/opt/conda/lib/python3.7/site-packages/sklearn/ensemble/forest.py:245: FutureWarning: The default value of n_estimators will change from 10 in version 0.20 to 100 in 0.22.\n",
      "  \"10 in version 0.20 to 100 in 0.22.\", FutureWarning)\n"
     ]
    },
    {
     "name": "stdout",
     "output_type": "stream",
     "text": [
      "9 - 0.851\n",
      "10 - 0.862\n"
     ]
    },
    {
     "name": "stderr",
     "output_type": "stream",
     "text": [
      "/opt/conda/lib/python3.7/site-packages/sklearn/ensemble/forest.py:245: FutureWarning: The default value of n_estimators will change from 10 in version 0.20 to 100 in 0.22.\n",
      "  \"10 in version 0.20 to 100 in 0.22.\", FutureWarning)\n"
     ]
    }
   ],
   "source": [
    "# Максимум - при значении 8, оставялем\n",
    "# Теперь попробуем найти min_samples_split\n",
    "for split in range(2, 11):\n",
    "    model=RandomForestClassifier(max_depth=8, min_samples_split=split, random_state=123)\n",
    "    model.fit(features_train, target_train)\n",
    "    predict = model.predict(features_valid)\n",
    "    accuracy = accuracy_score(target_valid, predict)\n",
    "    print(split, '-', accuracy)"
   ]
  },
  {
   "cell_type": "code",
   "execution_count": 22,
   "metadata": {},
   "outputs": [
    {
     "name": "stderr",
     "output_type": "stream",
     "text": [
      "/opt/conda/lib/python3.7/site-packages/sklearn/ensemble/forest.py:245: FutureWarning: The default value of n_estimators will change from 10 in version 0.20 to 100 in 0.22.\n",
      "  \"10 in version 0.20 to 100 in 0.22.\", FutureWarning)\n"
     ]
    },
    {
     "name": "stdout",
     "output_type": "stream",
     "text": [
      "1 - 0.862\n"
     ]
    },
    {
     "name": "stderr",
     "output_type": "stream",
     "text": [
      "/opt/conda/lib/python3.7/site-packages/sklearn/ensemble/forest.py:245: FutureWarning: The default value of n_estimators will change from 10 in version 0.20 to 100 in 0.22.\n",
      "  \"10 in version 0.20 to 100 in 0.22.\", FutureWarning)\n"
     ]
    },
    {
     "name": "stdout",
     "output_type": "stream",
     "text": [
      "2 - 0.8645\n"
     ]
    },
    {
     "name": "stderr",
     "output_type": "stream",
     "text": [
      "/opt/conda/lib/python3.7/site-packages/sklearn/ensemble/forest.py:245: FutureWarning: The default value of n_estimators will change from 10 in version 0.20 to 100 in 0.22.\n",
      "  \"10 in version 0.20 to 100 in 0.22.\", FutureWarning)\n"
     ]
    },
    {
     "name": "stdout",
     "output_type": "stream",
     "text": [
      "3 - 0.863\n"
     ]
    },
    {
     "name": "stderr",
     "output_type": "stream",
     "text": [
      "/opt/conda/lib/python3.7/site-packages/sklearn/ensemble/forest.py:245: FutureWarning: The default value of n_estimators will change from 10 in version 0.20 to 100 in 0.22.\n",
      "  \"10 in version 0.20 to 100 in 0.22.\", FutureWarning)\n"
     ]
    },
    {
     "name": "stdout",
     "output_type": "stream",
     "text": [
      "4 - 0.8615\n"
     ]
    },
    {
     "name": "stderr",
     "output_type": "stream",
     "text": [
      "/opt/conda/lib/python3.7/site-packages/sklearn/ensemble/forest.py:245: FutureWarning: The default value of n_estimators will change from 10 in version 0.20 to 100 in 0.22.\n",
      "  \"10 in version 0.20 to 100 in 0.22.\", FutureWarning)\n"
     ]
    },
    {
     "name": "stdout",
     "output_type": "stream",
     "text": [
      "5 - 0.864\n"
     ]
    },
    {
     "name": "stderr",
     "output_type": "stream",
     "text": [
      "/opt/conda/lib/python3.7/site-packages/sklearn/ensemble/forest.py:245: FutureWarning: The default value of n_estimators will change from 10 in version 0.20 to 100 in 0.22.\n",
      "  \"10 in version 0.20 to 100 in 0.22.\", FutureWarning)\n"
     ]
    },
    {
     "name": "stdout",
     "output_type": "stream",
     "text": [
      "6 - 0.8615\n",
      "7 - 0.854\n"
     ]
    },
    {
     "name": "stderr",
     "output_type": "stream",
     "text": [
      "/opt/conda/lib/python3.7/site-packages/sklearn/ensemble/forest.py:245: FutureWarning: The default value of n_estimators will change from 10 in version 0.20 to 100 in 0.22.\n",
      "  \"10 in version 0.20 to 100 in 0.22.\", FutureWarning)\n",
      "/opt/conda/lib/python3.7/site-packages/sklearn/ensemble/forest.py:245: FutureWarning: The default value of n_estimators will change from 10 in version 0.20 to 100 in 0.22.\n",
      "  \"10 in version 0.20 to 100 in 0.22.\", FutureWarning)\n"
     ]
    },
    {
     "name": "stdout",
     "output_type": "stream",
     "text": [
      "8 - 0.8545\n"
     ]
    },
    {
     "name": "stderr",
     "output_type": "stream",
     "text": [
      "/opt/conda/lib/python3.7/site-packages/sklearn/ensemble/forest.py:245: FutureWarning: The default value of n_estimators will change from 10 in version 0.20 to 100 in 0.22.\n",
      "  \"10 in version 0.20 to 100 in 0.22.\", FutureWarning)\n"
     ]
    },
    {
     "name": "stdout",
     "output_type": "stream",
     "text": [
      "9 - 0.8565\n",
      "10 - 0.8585\n"
     ]
    },
    {
     "name": "stderr",
     "output_type": "stream",
     "text": [
      "/opt/conda/lib/python3.7/site-packages/sklearn/ensemble/forest.py:245: FutureWarning: The default value of n_estimators will change from 10 in version 0.20 to 100 in 0.22.\n",
      "  \"10 in version 0.20 to 100 in 0.22.\", FutureWarning)\n"
     ]
    }
   ],
   "source": [
    "# Оставляем значение 10\n",
    "# min_samples_leaf\n",
    "for leaf in range (1, 11):\n",
    "    model=RandomForestClassifier(max_depth=8, min_samples_split=10, min_samples_leaf=leaf, random_state=123)\n",
    "    model.fit(features_train, target_train)\n",
    "    predict = model.predict(features_valid)\n",
    "    accuracy = accuracy_score(target_valid, predict)\n",
    "    print(leaf, '-', accuracy)"
   ]
  },
  {
   "cell_type": "code",
   "execution_count": 23,
   "metadata": {},
   "outputs": [
    {
     "name": "stdout",
     "output_type": "stream",
     "text": [
      "1 - 0.8175\n",
      "2 - 0.833\n",
      "3 - 0.85\n",
      "4 - 0.8555\n",
      "5 - 0.854\n",
      "6 - 0.8585\n",
      "7 - 0.862\n",
      "8 - 0.859\n",
      "9 - 0.859\n",
      "10 - 0.8645\n"
     ]
    }
   ],
   "source": [
    "# Больше всего нам подходит 2.\n",
    "# Рассмотрим n_estimators\n",
    "for est in range (1, 11):\n",
    "    model=RandomForestClassifier(max_depth=8, min_samples_split=10, min_samples_leaf=2, n_estimators=est, random_state=123)\n",
    "    model.fit(features_train, target_train)\n",
    "    predict=model.predict(features_valid)\n",
    "    accuracy=accuracy_score(target_valid, predict)\n",
    "    print(est, '-', accuracy)"
   ]
  },
  {
   "cell_type": "code",
   "execution_count": 24,
   "metadata": {},
   "outputs": [
    {
     "data": {
      "text/plain": [
       "0.8645"
      ]
     },
     "execution_count": 24,
     "metadata": {},
     "output_type": "execute_result"
    }
   ],
   "source": [
    "# Подходящее значение - 10\n",
    "# Итак, все параметры подобраны, значит пора обучать модель\n",
    "forest_model = RandomForestClassifier(max_depth=8, min_samples_split=10, min_samples_leaf=2, n_estimators=10, random_state=123)\n",
    "forest_model.fit(features_train, target_train)\n",
    "forest_predict = forest_model.predict(features_valid)\n",
    "accuracy_score(target_valid, forest_predict)"
   ]
  },
  {
   "cell_type": "markdown",
   "metadata": {},
   "source": [
    "Максимально подходящий случайный лес мы подобрали, результат accuracy составил 0.8645."
   ]
  },
  {
   "cell_type": "markdown",
   "metadata": {},
   "source": [
    "### Логистическая регрессия"
   ]
  },
  {
   "cell_type": "code",
   "execution_count": 25,
   "metadata": {},
   "outputs": [
    {
     "name": "stderr",
     "output_type": "stream",
     "text": [
      "/opt/conda/lib/python3.7/site-packages/sklearn/linear_model/logistic.py:432: FutureWarning: Default solver will be changed to 'lbfgs' in 0.22. Specify a solver to silence this warning.\n",
      "  FutureWarning)\n"
     ]
    },
    {
     "data": {
      "text/plain": [
       "0.7915"
      ]
     },
     "execution_count": 25,
     "metadata": {},
     "output_type": "execute_result"
    }
   ],
   "source": [
    "# Логистическая регрессия не склонна к обучению так же, как и предыдущие модели, поэтому просто обучаем модель\n",
    "from sklearn.linear_model import LogisticRegression\n",
    "logistic_model=LogisticRegression(random_state=123)\n",
    "logistic_model.fit(features_train, target_train)\n",
    "logistic_predict=logistic_model.predict(features_valid)\n",
    "accuracy_score(target_valid, logistic_predict)"
   ]
  },
  {
   "cell_type": "markdown",
   "metadata": {},
   "source": [
    "Accuracy = 0.7915"
   ]
  },
  {
   "cell_type": "markdown",
   "metadata": {},
   "source": [
    "## Общий вывод:\n",
    "Accuracy у данных моделей составило:\n",
    "\n",
    "    - Дерево решений 0.8635\n",
    "    \n",
    "    - Случайный лес 0.8645\n",
    "    \n",
    "    - Логистическая регрессия 0.7915\n",
    "    \n",
    "Примерно одинаково нам подоходят и модель \"Случайный лес\" и модель \"Дерево решений\" (Дерево решений отстало всего на 0.1% правильных ответов), в то время как модель \"Логистическая регрессия\" проигрывает в качестве (правильных ответов на 8% меньше)."
   ]
  },
  {
   "cell_type": "markdown",
   "metadata": {},
   "source": [
    "<a id='id_3'></a>\n",
    "# 3. Борьба с дисбалансом"
   ]
  },
  {
   "cell_type": "markdown",
   "metadata": {},
   "source": [
    "Для начала проверим предыдущие модели при помощи показателя f1 и auc_roc"
   ]
  },
  {
   "cell_type": "code",
   "execution_count": 26,
   "metadata": {},
   "outputs": [
    {
     "data": {
      "text/plain": [
       "0.5673534072900158"
      ]
     },
     "execution_count": 26,
     "metadata": {},
     "output_type": "execute_result"
    }
   ],
   "source": [
    "from sklearn.metrics import f1_score\n",
    "from sklearn.metrics import roc_auc_score\n",
    "# Дерево решений\n",
    "f1_score(target_valid, tree_predict)"
   ]
  },
  {
   "cell_type": "code",
   "execution_count": 28,
   "metadata": {},
   "outputs": [
    {
     "data": {
      "text/plain": [
       "0.8478808845003825"
      ]
     },
     "execution_count": 28,
     "metadata": {},
     "output_type": "execute_result"
    }
   ],
   "source": [
    "probabilities_valid = tree_model.predict_proba(features_valid)\n",
    "probabilities_one_valid = probabilities_valid[:, 1]\n",
    "roc_auc_score(target_valid, probabilities_one_valid)"
   ]
  },
  {
   "cell_type": "code",
   "execution_count": 29,
   "metadata": {},
   "outputs": [
    {
     "data": {
      "text/plain": [
       "0.5520661157024793"
      ]
     },
     "execution_count": 29,
     "metadata": {},
     "output_type": "execute_result"
    }
   ],
   "source": [
    "# Случайный лес\n",
    "f1_score(target_valid, forest_predict)"
   ]
  },
  {
   "cell_type": "code",
   "execution_count": 30,
   "metadata": {},
   "outputs": [
    {
     "data": {
      "text/plain": [
       "0.8523335714421174"
      ]
     },
     "execution_count": 30,
     "metadata": {},
     "output_type": "execute_result"
    }
   ],
   "source": [
    "probabilities_valid = forest_model.predict_proba(features_valid)\n",
    "probabilities_one_valid = probabilities_valid[:, 1]\n",
    "roc_auc_score(target_valid, probabilities_one_valid)"
   ]
  },
  {
   "cell_type": "code",
   "execution_count": 31,
   "metadata": {},
   "outputs": [
    {
     "data": {
      "text/plain": [
       "0.06711409395973154"
      ]
     },
     "execution_count": 31,
     "metadata": {},
     "output_type": "execute_result"
    }
   ],
   "source": [
    "# Логистическая регрессия \n",
    "f1_score(target_valid, logistic_predict)"
   ]
  },
  {
   "cell_type": "code",
   "execution_count": 32,
   "metadata": {},
   "outputs": [
    {
     "data": {
      "text/plain": [
       "0.6347453394946616"
      ]
     },
     "execution_count": 32,
     "metadata": {},
     "output_type": "execute_result"
    }
   ],
   "source": [
    "probabilities_valid = logistic_model.predict_proba(features_valid)\n",
    "probabilities_one_valid = probabilities_valid[:, 1]\n",
    "roc_auc_score(target_valid, probabilities_one_valid)"
   ]
  },
  {
   "cell_type": "code",
   "execution_count": 33,
   "metadata": {},
   "outputs": [],
   "source": [
    "# Теперь произведем масташбирование, чтобы привести все показатели к одному масштабу\n",
    "from sklearn.preprocessing import StandardScaler\n",
    "numeric = ['CreditScore', 'Tenure', 'Balance', 'Age', 'NumOfProducts', 'HasCrCard', 'IsActiveMember', 'EstimatedSalary']\n",
    "scaler = StandardScaler()\n",
    "scaler.fit(features_train[numeric])\n",
    "features_train[numeric] = scaler.transform(features_train[numeric])\n",
    "features_valid[numeric] = scaler.transform(features_valid[numeric])\n",
    "features_test[numeric] = scaler.transform(features_test[numeric])"
   ]
  },
  {
   "cell_type": "markdown",
   "metadata": {},
   "source": [
    "\n",
    "<div class=\"alert alert-block alert-success\">\n",
    "<b>Успех:</b> Молодец, что обучал scaler только на тренировочной выборке.\n",
    "</div>"
   ]
  },
  {
   "cell_type": "code",
   "execution_count": 34,
   "metadata": {},
   "outputs": [
    {
     "data": {
      "text/plain": [
       "0.5730442978322337"
      ]
     },
     "execution_count": 34,
     "metadata": {},
     "output_type": "execute_result"
    }
   ],
   "source": [
    "# Обучим Дерево решений с добавлением баланса классов\n",
    "model = DecisionTreeClassifier(max_depth=7, min_samples_leaf=4, random_state=123, class_weight='balanced')\n",
    "model.fit(features_train, target_train)\n",
    "tree_predict = model.predict(features_valid)\n",
    "f1_score(target_valid, tree_predict)"
   ]
  },
  {
   "cell_type": "code",
   "execution_count": 35,
   "metadata": {},
   "outputs": [
    {
     "data": {
      "text/plain": [
       "0.7735"
      ]
     },
     "execution_count": 35,
     "metadata": {},
     "output_type": "execute_result"
    }
   ],
   "source": [
    "accuracy_score(target_valid, tree_predict)"
   ]
  },
  {
   "cell_type": "code",
   "execution_count": 38,
   "metadata": {},
   "outputs": [
    {
     "data": {
      "text/plain": [
       "0.83999168726413"
      ]
     },
     "execution_count": 38,
     "metadata": {},
     "output_type": "execute_result"
    }
   ],
   "source": [
    "probabilities_valid = model.predict_proba(features_valid)\n",
    "probabilities_one_valid = probabilities_valid[:, 1]\n",
    "roc_auc_score(target_valid, probabilities_one_valid)"
   ]
  },
  {
   "cell_type": "code",
   "execution_count": 39,
   "metadata": {},
   "outputs": [
    {
     "data": {
      "text/plain": [
       "0.5984598459845984"
      ]
     },
     "execution_count": 39,
     "metadata": {},
     "output_type": "execute_result"
    }
   ],
   "source": [
    "# Аналогично для Случайного леса\n",
    "model = RandomForestClassifier(max_depth=8, min_samples_split=10, min_samples_leaf=2, n_estimators=10, random_state=123,\n",
    "                              class_weight='balanced')\n",
    "model.fit(features_train, target_train)\n",
    "forest_predict = model.predict(features_valid)\n",
    "f1_score(target_valid, forest_predict)"
   ]
  },
  {
   "cell_type": "code",
   "execution_count": 40,
   "metadata": {},
   "outputs": [
    {
     "data": {
      "text/plain": [
       "0.8175"
      ]
     },
     "execution_count": 40,
     "metadata": {},
     "output_type": "execute_result"
    }
   ],
   "source": [
    "accuracy_score(target_valid, forest_predict)"
   ]
  },
  {
   "cell_type": "code",
   "execution_count": 42,
   "metadata": {},
   "outputs": [
    {
     "data": {
      "text/plain": [
       "0.8533623910336238"
      ]
     },
     "execution_count": 42,
     "metadata": {},
     "output_type": "execute_result"
    }
   ],
   "source": [
    "probabilities_valid = model.predict_proba(features_valid)\n",
    "probabilities_one_valid = probabilities_valid[:, 1]\n",
    "roc_auc_score(target_valid, probabilities_one_valid)"
   ]
  },
  {
   "cell_type": "code",
   "execution_count": 43,
   "metadata": {
    "scrolled": true
   },
   "outputs": [
    {
     "data": {
      "text/plain": [
       "0.45669291338582685"
      ]
     },
     "execution_count": 43,
     "metadata": {},
     "output_type": "execute_result"
    }
   ],
   "source": [
    "# Логистическая регрессия \n",
    "model = LogisticRegression(random_state=12345, solver='liblinear', class_weight='balanced')\n",
    "model.fit(features_train, target_train)\n",
    "logistic_predict = model.predict(features_valid)\n",
    "f1_score(target_valid, logistic_predict)"
   ]
  },
  {
   "cell_type": "code",
   "execution_count": 44,
   "metadata": {},
   "outputs": [
    {
     "data": {
      "text/plain": [
       "0.6895"
      ]
     },
     "execution_count": 44,
     "metadata": {},
     "output_type": "execute_result"
    }
   ],
   "source": [
    "accuracy_score(target_valid, logistic_predict)"
   ]
  },
  {
   "cell_type": "code",
   "execution_count": 46,
   "metadata": {},
   "outputs": [
    {
     "data": {
      "text/plain": [
       "0.7494484515553983"
      ]
     },
     "execution_count": 46,
     "metadata": {},
     "output_type": "execute_result"
    }
   ],
   "source": [
    "probabilities_valid = model.predict_proba(features_valid)\n",
    "probabilities_one_valid = probabilities_valid[:, 1]\n",
    "roc_auc_score(target_valid, probabilities_one_valid)"
   ]
  },
  {
   "cell_type": "markdown",
   "metadata": {},
   "source": [
    "### Итоговый вывод:\n",
    "В данном пункте мы обучали модели с учетом дисбаланса классов. Финальный результат моделей:\n",
    "\n",
    "    1) Дерево решений - показатель f1 изменился с 0.56 до 0.57 (т.е. вырос, но всего на 0.01). roc_auc изменился с 0.85 до 0.49 (показатель сильно упал, он близок к показателю случайной модели)\n",
    "    \n",
    "    2) Случайный лес - показатель f1 изменился с 0.55 до 0.59 (вырос на 0.04). roc_auc изменился с 0.85 до 0.60.\n",
    "    \n",
    "    3) Логистическая регрессия - показатель f1 изменился с 0.06 до 0.45 (вырос на 0.39). roc_auc изменился с 0.63 до 0.72.\n",
    "    \n",
    "Если до изменения баланса классов самый высокий показатель f1 был у Дерева решений, то теперь лидирует Случайный лес. Но разница между ними как была небольшой, так такой и осталась (до изменений f1 у Дерева решений было выше на 0.01, после изменений выше у Случайного леса на 0.02). \n",
    "\n",
    "Нельзя не отметить зависимость Логистической Регрессии от баланса классов. До балансировки показатель f1 был очень маленьким (0.06), что говорит о том, что либо полнота, либо точность стремились к 0. Сейчас же показатель резко вырос на 0.39 (у остальных моделей рост был на 0.01 и 0.04). \n",
    "\n",
    "Относительно roc_auc - можно заметить сильный спад у Дерева решений и Случайного леса, в то время как у Логистической регрессии данный показатель вырос."
   ]
  },
  {
   "cell_type": "code",
   "execution_count": 40,
   "metadata": {},
   "outputs": [
    {
     "data": {
      "text/html": [
       "<div>\n",
       "<style scoped>\n",
       "    .dataframe tbody tr th:only-of-type {\n",
       "        vertical-align: middle;\n",
       "    }\n",
       "\n",
       "    .dataframe tbody tr th {\n",
       "        vertical-align: top;\n",
       "    }\n",
       "\n",
       "    .dataframe thead th {\n",
       "        text-align: right;\n",
       "    }\n",
       "</style>\n",
       "<table border=\"1\" class=\"dataframe\">\n",
       "  <thead>\n",
       "    <tr style=\"text-align: right;\">\n",
       "      <th></th>\n",
       "      <th>CreditScore</th>\n",
       "      <th>Age</th>\n",
       "      <th>Tenure</th>\n",
       "      <th>Balance</th>\n",
       "      <th>NumOfProducts</th>\n",
       "      <th>HasCrCard</th>\n",
       "      <th>IsActiveMember</th>\n",
       "      <th>EstimatedSalary</th>\n",
       "      <th>Geography_Germany</th>\n",
       "      <th>Geography_Spain</th>\n",
       "      <th>Gender_Male</th>\n",
       "    </tr>\n",
       "  </thead>\n",
       "  <tbody>\n",
       "    <tr>\n",
       "      <td>9696</td>\n",
       "      <td>-1.036502</td>\n",
       "      <td>-0.653217</td>\n",
       "      <td>1.116306</td>\n",
       "      <td>0.329383</td>\n",
       "      <td>-0.911674</td>\n",
       "      <td>0.648425</td>\n",
       "      <td>0.964303</td>\n",
       "      <td>1.717588</td>\n",
       "      <td>0</td>\n",
       "      <td>0</td>\n",
       "      <td>1</td>\n",
       "    </tr>\n",
       "    <tr>\n",
       "      <td>509</td>\n",
       "      <td>-0.529560</td>\n",
       "      <td>-0.185576</td>\n",
       "      <td>-0.808267</td>\n",
       "      <td>-1.222776</td>\n",
       "      <td>0.799319</td>\n",
       "      <td>0.648425</td>\n",
       "      <td>0.964303</td>\n",
       "      <td>0.758922</td>\n",
       "      <td>0</td>\n",
       "      <td>1</td>\n",
       "      <td>0</td>\n",
       "    </tr>\n",
       "    <tr>\n",
       "      <td>621</td>\n",
       "      <td>0.060149</td>\n",
       "      <td>0.095009</td>\n",
       "      <td>1.757830</td>\n",
       "      <td>1.449393</td>\n",
       "      <td>-0.911674</td>\n",
       "      <td>-1.542199</td>\n",
       "      <td>0.964303</td>\n",
       "      <td>0.899918</td>\n",
       "      <td>0</td>\n",
       "      <td>1</td>\n",
       "      <td>0</td>\n",
       "    </tr>\n",
       "    <tr>\n",
       "      <td>7681</td>\n",
       "      <td>-0.095038</td>\n",
       "      <td>-0.559689</td>\n",
       "      <td>-0.808267</td>\n",
       "      <td>1.104228</td>\n",
       "      <td>0.799319</td>\n",
       "      <td>0.648425</td>\n",
       "      <td>0.964303</td>\n",
       "      <td>-0.762886</td>\n",
       "      <td>0</td>\n",
       "      <td>0</td>\n",
       "      <td>1</td>\n",
       "    </tr>\n",
       "    <tr>\n",
       "      <td>4265</td>\n",
       "      <td>0.608474</td>\n",
       "      <td>-0.653217</td>\n",
       "      <td>-0.166743</td>\n",
       "      <td>1.121965</td>\n",
       "      <td>-0.911674</td>\n",
       "      <td>-1.542199</td>\n",
       "      <td>0.964303</td>\n",
       "      <td>-1.021335</td>\n",
       "      <td>0</td>\n",
       "      <td>0</td>\n",
       "      <td>1</td>\n",
       "    </tr>\n",
       "    <tr>\n",
       "      <td>...</td>\n",
       "      <td>...</td>\n",
       "      <td>...</td>\n",
       "      <td>...</td>\n",
       "      <td>...</td>\n",
       "      <td>...</td>\n",
       "      <td>...</td>\n",
       "      <td>...</td>\n",
       "      <td>...</td>\n",
       "      <td>...</td>\n",
       "      <td>...</td>\n",
       "      <td>...</td>\n",
       "    </tr>\n",
       "    <tr>\n",
       "      <td>9785</td>\n",
       "      <td>-2.019350</td>\n",
       "      <td>-1.120858</td>\n",
       "      <td>0.154019</td>\n",
       "      <td>1.258395</td>\n",
       "      <td>0.799319</td>\n",
       "      <td>-1.542199</td>\n",
       "      <td>-1.037018</td>\n",
       "      <td>-0.503695</td>\n",
       "      <td>0</td>\n",
       "      <td>0</td>\n",
       "      <td>0</td>\n",
       "    </tr>\n",
       "    <tr>\n",
       "      <td>7763</td>\n",
       "      <td>-0.374374</td>\n",
       "      <td>-0.279104</td>\n",
       "      <td>-1.129029</td>\n",
       "      <td>-0.521543</td>\n",
       "      <td>-0.911674</td>\n",
       "      <td>0.648425</td>\n",
       "      <td>0.964303</td>\n",
       "      <td>-0.459497</td>\n",
       "      <td>0</td>\n",
       "      <td>1</td>\n",
       "      <td>0</td>\n",
       "    </tr>\n",
       "    <tr>\n",
       "      <td>5218</td>\n",
       "      <td>0.360176</td>\n",
       "      <td>-1.775556</td>\n",
       "      <td>-0.166743</td>\n",
       "      <td>0.444080</td>\n",
       "      <td>0.799319</td>\n",
       "      <td>0.648425</td>\n",
       "      <td>-1.037018</td>\n",
       "      <td>-1.058889</td>\n",
       "      <td>0</td>\n",
       "      <td>0</td>\n",
       "      <td>1</td>\n",
       "    </tr>\n",
       "    <tr>\n",
       "      <td>1346</td>\n",
       "      <td>-0.074346</td>\n",
       "      <td>-0.840273</td>\n",
       "      <td>0.154019</td>\n",
       "      <td>0.280512</td>\n",
       "      <td>-0.911674</td>\n",
       "      <td>0.648425</td>\n",
       "      <td>0.964303</td>\n",
       "      <td>1.137462</td>\n",
       "      <td>0</td>\n",
       "      <td>0</td>\n",
       "      <td>1</td>\n",
       "    </tr>\n",
       "    <tr>\n",
       "      <td>3582</td>\n",
       "      <td>0.370521</td>\n",
       "      <td>-0.372632</td>\n",
       "      <td>-0.166743</td>\n",
       "      <td>-1.222776</td>\n",
       "      <td>-0.911674</td>\n",
       "      <td>0.648425</td>\n",
       "      <td>-1.037018</td>\n",
       "      <td>-1.575863</td>\n",
       "      <td>0</td>\n",
       "      <td>0</td>\n",
       "      <td>1</td>\n",
       "    </tr>\n",
       "  </tbody>\n",
       "</table>\n",
       "<p>6000 rows × 11 columns</p>\n",
       "</div>"
      ],
      "text/plain": [
       "      CreditScore       Age    Tenure   Balance  NumOfProducts  HasCrCard  \\\n",
       "9696    -1.036502 -0.653217  1.116306  0.329383      -0.911674   0.648425   \n",
       "509     -0.529560 -0.185576 -0.808267 -1.222776       0.799319   0.648425   \n",
       "621      0.060149  0.095009  1.757830  1.449393      -0.911674  -1.542199   \n",
       "7681    -0.095038 -0.559689 -0.808267  1.104228       0.799319   0.648425   \n",
       "4265     0.608474 -0.653217 -0.166743  1.121965      -0.911674  -1.542199   \n",
       "...           ...       ...       ...       ...            ...        ...   \n",
       "9785    -2.019350 -1.120858  0.154019  1.258395       0.799319  -1.542199   \n",
       "7763    -0.374374 -0.279104 -1.129029 -0.521543      -0.911674   0.648425   \n",
       "5218     0.360176 -1.775556 -0.166743  0.444080       0.799319   0.648425   \n",
       "1346    -0.074346 -0.840273  0.154019  0.280512      -0.911674   0.648425   \n",
       "3582     0.370521 -0.372632 -0.166743 -1.222776      -0.911674   0.648425   \n",
       "\n",
       "      IsActiveMember  EstimatedSalary  Geography_Germany  Geography_Spain  \\\n",
       "9696        0.964303         1.717588                  0                0   \n",
       "509         0.964303         0.758922                  0                1   \n",
       "621         0.964303         0.899918                  0                1   \n",
       "7681        0.964303        -0.762886                  0                0   \n",
       "4265        0.964303        -1.021335                  0                0   \n",
       "...              ...              ...                ...              ...   \n",
       "9785       -1.037018        -0.503695                  0                0   \n",
       "7763        0.964303        -0.459497                  0                1   \n",
       "5218       -1.037018        -1.058889                  0                0   \n",
       "1346        0.964303         1.137462                  0                0   \n",
       "3582       -1.037018        -1.575863                  0                0   \n",
       "\n",
       "      Gender_Male  \n",
       "9696            1  \n",
       "509             0  \n",
       "621             0  \n",
       "7681            1  \n",
       "4265            1  \n",
       "...           ...  \n",
       "9785            0  \n",
       "7763            0  \n",
       "5218            1  \n",
       "1346            1  \n",
       "3582            1  \n",
       "\n",
       "[6000 rows x 11 columns]"
      ]
     },
     "execution_count": 40,
     "metadata": {},
     "output_type": "execute_result"
    }
   ],
   "source": [
    "features_train"
   ]
  },
  {
   "cell_type": "code",
   "execution_count": 72,
   "metadata": {},
   "outputs": [
    {
     "data": {
      "text/html": [
       "<div>\n",
       "<style scoped>\n",
       "    .dataframe tbody tr th:only-of-type {\n",
       "        vertical-align: middle;\n",
       "    }\n",
       "\n",
       "    .dataframe tbody tr th {\n",
       "        vertical-align: top;\n",
       "    }\n",
       "\n",
       "    .dataframe thead th {\n",
       "        text-align: right;\n",
       "    }\n",
       "</style>\n",
       "<table border=\"1\" class=\"dataframe\">\n",
       "  <thead>\n",
       "    <tr style=\"text-align: right;\">\n",
       "      <th></th>\n",
       "      <th>CreditScore</th>\n",
       "      <th>Age</th>\n",
       "      <th>Tenure</th>\n",
       "      <th>Balance</th>\n",
       "      <th>NumOfProducts</th>\n",
       "      <th>HasCrCard</th>\n",
       "      <th>IsActiveMember</th>\n",
       "      <th>EstimatedSalary</th>\n",
       "      <th>Geography_Germany</th>\n",
       "      <th>Geography_Spain</th>\n",
       "      <th>Gender_Male</th>\n",
       "    </tr>\n",
       "  </thead>\n",
       "  <tbody>\n",
       "    <tr>\n",
       "      <td>7558</td>\n",
       "      <td>-0.291607</td>\n",
       "      <td>-0.279104</td>\n",
       "      <td>-1.449791</td>\n",
       "      <td>0.511571</td>\n",
       "      <td>0.799319</td>\n",
       "      <td>0.648425</td>\n",
       "      <td>-1.037018</td>\n",
       "      <td>0.195502</td>\n",
       "      <td>0</td>\n",
       "      <td>1</td>\n",
       "      <td>0</td>\n",
       "    </tr>\n",
       "    <tr>\n",
       "      <td>2160</td>\n",
       "      <td>0.794698</td>\n",
       "      <td>-1.027330</td>\n",
       "      <td>0.154019</td>\n",
       "      <td>-1.222776</td>\n",
       "      <td>0.799319</td>\n",
       "      <td>-1.542199</td>\n",
       "      <td>0.964303</td>\n",
       "      <td>-1.388338</td>\n",
       "      <td>0</td>\n",
       "      <td>0</td>\n",
       "      <td>1</td>\n",
       "    </tr>\n",
       "    <tr>\n",
       "      <td>2574</td>\n",
       "      <td>0.153260</td>\n",
       "      <td>1.123820</td>\n",
       "      <td>1.437068</td>\n",
       "      <td>0.537841</td>\n",
       "      <td>0.799319</td>\n",
       "      <td>-1.542199</td>\n",
       "      <td>0.964303</td>\n",
       "      <td>-1.709171</td>\n",
       "      <td>1</td>\n",
       "      <td>0</td>\n",
       "      <td>0</td>\n",
       "    </tr>\n",
       "    <tr>\n",
       "      <td>8940</td>\n",
       "      <td>0.070494</td>\n",
       "      <td>-0.092047</td>\n",
       "      <td>0.795544</td>\n",
       "      <td>-1.222776</td>\n",
       "      <td>0.799319</td>\n",
       "      <td>0.648425</td>\n",
       "      <td>-1.037018</td>\n",
       "      <td>1.487245</td>\n",
       "      <td>0</td>\n",
       "      <td>0</td>\n",
       "      <td>1</td>\n",
       "    </tr>\n",
       "    <tr>\n",
       "      <td>6295</td>\n",
       "      <td>-1.191689</td>\n",
       "      <td>1.030292</td>\n",
       "      <td>-1.129029</td>\n",
       "      <td>1.010300</td>\n",
       "      <td>2.510312</td>\n",
       "      <td>-1.542199</td>\n",
       "      <td>-1.037018</td>\n",
       "      <td>-0.525218</td>\n",
       "      <td>0</td>\n",
       "      <td>1</td>\n",
       "      <td>0</td>\n",
       "    </tr>\n",
       "    <tr>\n",
       "      <td>...</td>\n",
       "      <td>...</td>\n",
       "      <td>...</td>\n",
       "      <td>...</td>\n",
       "      <td>...</td>\n",
       "      <td>...</td>\n",
       "      <td>...</td>\n",
       "      <td>...</td>\n",
       "      <td>...</td>\n",
       "      <td>...</td>\n",
       "      <td>...</td>\n",
       "      <td>...</td>\n",
       "    </tr>\n",
       "    <tr>\n",
       "      <td>2384</td>\n",
       "      <td>0.846427</td>\n",
       "      <td>0.095009</td>\n",
       "      <td>1.757830</td>\n",
       "      <td>-1.222776</td>\n",
       "      <td>0.799319</td>\n",
       "      <td>0.648425</td>\n",
       "      <td>-1.037018</td>\n",
       "      <td>0.939751</td>\n",
       "      <td>0</td>\n",
       "      <td>0</td>\n",
       "      <td>0</td>\n",
       "    </tr>\n",
       "    <tr>\n",
       "      <td>5922</td>\n",
       "      <td>-0.984774</td>\n",
       "      <td>0.469122</td>\n",
       "      <td>-0.487505</td>\n",
       "      <td>0.460806</td>\n",
       "      <td>2.510312</td>\n",
       "      <td>0.648425</td>\n",
       "      <td>-1.037018</td>\n",
       "      <td>-0.680912</td>\n",
       "      <td>0</td>\n",
       "      <td>0</td>\n",
       "      <td>0</td>\n",
       "    </tr>\n",
       "    <tr>\n",
       "      <td>3610</td>\n",
       "      <td>-0.726129</td>\n",
       "      <td>1.591461</td>\n",
       "      <td>-1.129029</td>\n",
       "      <td>0.868250</td>\n",
       "      <td>-0.911674</td>\n",
       "      <td>0.648425</td>\n",
       "      <td>-1.037018</td>\n",
       "      <td>0.121757</td>\n",
       "      <td>0</td>\n",
       "      <td>0</td>\n",
       "      <td>0</td>\n",
       "    </tr>\n",
       "    <tr>\n",
       "      <td>3127</td>\n",
       "      <td>1.301640</td>\n",
       "      <td>-0.559689</td>\n",
       "      <td>1.116306</td>\n",
       "      <td>0.609786</td>\n",
       "      <td>-0.911674</td>\n",
       "      <td>-1.542199</td>\n",
       "      <td>-1.037018</td>\n",
       "      <td>0.512958</td>\n",
       "      <td>1</td>\n",
       "      <td>0</td>\n",
       "      <td>1</td>\n",
       "    </tr>\n",
       "    <tr>\n",
       "      <td>2575</td>\n",
       "      <td>-1.026157</td>\n",
       "      <td>1.404405</td>\n",
       "      <td>0.154019</td>\n",
       "      <td>0.416609</td>\n",
       "      <td>-0.911674</td>\n",
       "      <td>0.648425</td>\n",
       "      <td>-1.037018</td>\n",
       "      <td>1.328950</td>\n",
       "      <td>1</td>\n",
       "      <td>0</td>\n",
       "      <td>1</td>\n",
       "    </tr>\n",
       "  </tbody>\n",
       "</table>\n",
       "<p>17151 rows × 11 columns</p>\n",
       "</div>"
      ],
      "text/plain": [
       "      CreditScore       Age    Tenure   Balance  NumOfProducts  HasCrCard  \\\n",
       "7558    -0.291607 -0.279104 -1.449791  0.511571       0.799319   0.648425   \n",
       "2160     0.794698 -1.027330  0.154019 -1.222776       0.799319  -1.542199   \n",
       "2574     0.153260  1.123820  1.437068  0.537841       0.799319  -1.542199   \n",
       "8940     0.070494 -0.092047  0.795544 -1.222776       0.799319   0.648425   \n",
       "6295    -1.191689  1.030292 -1.129029  1.010300       2.510312  -1.542199   \n",
       "...           ...       ...       ...       ...            ...        ...   \n",
       "2384     0.846427  0.095009  1.757830 -1.222776       0.799319   0.648425   \n",
       "5922    -0.984774  0.469122 -0.487505  0.460806       2.510312   0.648425   \n",
       "3610    -0.726129  1.591461 -1.129029  0.868250      -0.911674   0.648425   \n",
       "3127     1.301640 -0.559689  1.116306  0.609786      -0.911674  -1.542199   \n",
       "2575    -1.026157  1.404405  0.154019  0.416609      -0.911674   0.648425   \n",
       "\n",
       "      IsActiveMember  EstimatedSalary  Geography_Germany  Geography_Spain  \\\n",
       "7558       -1.037018         0.195502                  0                1   \n",
       "2160        0.964303        -1.388338                  0                0   \n",
       "2574        0.964303        -1.709171                  1                0   \n",
       "8940       -1.037018         1.487245                  0                0   \n",
       "6295       -1.037018        -0.525218                  0                1   \n",
       "...              ...              ...                ...              ...   \n",
       "2384       -1.037018         0.939751                  0                0   \n",
       "5922       -1.037018        -0.680912                  0                0   \n",
       "3610       -1.037018         0.121757                  0                0   \n",
       "3127       -1.037018         0.512958                  1                0   \n",
       "2575       -1.037018         1.328950                  1                0   \n",
       "\n",
       "      Gender_Male  \n",
       "7558            0  \n",
       "2160            1  \n",
       "2574            0  \n",
       "8940            1  \n",
       "6295            0  \n",
       "...           ...  \n",
       "2384            0  \n",
       "5922            0  \n",
       "3610            0  \n",
       "3127            1  \n",
       "2575            1  \n",
       "\n",
       "[17151 rows x 11 columns]"
      ]
     },
     "execution_count": 72,
     "metadata": {},
     "output_type": "execute_result"
    }
   ],
   "source": [
    "# Используем технику umsampling\n",
    "# Для этого разделим обучающую выборку на положительные и отрицательные ответы, после чего увеличим количество \n",
    "# положительных ответов в 10 раз\n",
    "features_zeros = features_train[target_train == 0]\n",
    "features_ones = features_train[target_train == 1]\n",
    "target_zeros = target_train[target_train==0]\n",
    "target_ones = target_train[target_train==1]\n",
    "features_upsampled = pd.concat([features_zeros] + [features_ones]*10)\n",
    "target_upsampled = pd.concat([target_zeros] + [target_ones] * 10)\n",
    "# Теперь перемешаем\n",
    "features_upsampled, target_upsampled = shuffle(features_upsampled, target_upsampled, random_state=123)"
   ]
  },
  {
   "cell_type": "code",
   "execution_count": 42,
   "metadata": {},
   "outputs": [
    {
     "data": {
      "text/plain": [
       "0.5730550284629982"
      ]
     },
     "execution_count": 42,
     "metadata": {},
     "output_type": "execute_result"
    }
   ],
   "source": [
    "# Попробуем посмотреть метрики модели Дерево решений\n",
    "tree_model2 = DecisionTreeClassifier(max_depth=7, min_samples_leaf=4, random_state=123, class_weight='balanced')\n",
    "tree_model2.fit(features_upsampled, target_upsampled)\n",
    "tree_predict2 = tree_model2.predict(features_valid)\n",
    "f1_score(target_valid, tree_predict2)"
   ]
  },
  {
   "cell_type": "code",
   "execution_count": 43,
   "metadata": {},
   "outputs": [
    {
     "data": {
      "text/plain": [
       "0.775"
      ]
     },
     "execution_count": 43,
     "metadata": {},
     "output_type": "execute_result"
    }
   ],
   "source": [
    "accuracy_score(target_valid, tree_predict2)"
   ]
  },
  {
   "cell_type": "code",
   "execution_count": 44,
   "metadata": {},
   "outputs": [
    {
     "data": {
      "text/plain": [
       "0.8380178075870308"
      ]
     },
     "execution_count": 44,
     "metadata": {},
     "output_type": "execute_result"
    }
   ],
   "source": [
    "probabilities_valid = tree_model2.predict_proba(features_valid)\n",
    "probabilities_one_valid = probabilities_valid[:, 1]\n",
    "roc_auc_score(target_valid, probabilities_one_valid)"
   ]
  },
  {
   "cell_type": "code",
   "execution_count": 45,
   "metadata": {},
   "outputs": [
    {
     "data": {
      "text/plain": [
       "0.5921325051759835"
      ]
     },
     "execution_count": 45,
     "metadata": {},
     "output_type": "execute_result"
    }
   ],
   "source": [
    "# Аналогично для Случайного леса\n",
    "forest_model2 = RandomForestClassifier(max_depth=8, min_samples_split=10, min_samples_leaf=2, n_estimators=10, random_state=123,\n",
    "                              class_weight='balanced')\n",
    "forest_model2.fit(features_upsampled, target_upsampled)\n",
    "forest_predict2 = forest_model2.predict(features_valid)\n",
    "f1_score(target_valid, forest_predict2)"
   ]
  },
  {
   "cell_type": "code",
   "execution_count": 46,
   "metadata": {},
   "outputs": [
    {
     "data": {
      "text/plain": [
       "0.803"
      ]
     },
     "execution_count": 46,
     "metadata": {},
     "output_type": "execute_result"
    }
   ],
   "source": [
    "accuracy_score(target_valid, forest_predict2)"
   ]
  },
  {
   "cell_type": "code",
   "execution_count": 47,
   "metadata": {},
   "outputs": [
    {
     "data": {
      "text/plain": [
       "0.8539724130955617"
      ]
     },
     "execution_count": 47,
     "metadata": {},
     "output_type": "execute_result"
    }
   ],
   "source": [
    "probabilities_valid = forest_model2.predict_proba(features_valid)\n",
    "probabilities_one_valid = probabilities_valid[:, 1]\n",
    "roc_auc_score(target_valid, probabilities_one_valid)"
   ]
  },
  {
   "cell_type": "code",
   "execution_count": 48,
   "metadata": {},
   "outputs": [
    {
     "data": {
      "text/plain": [
       "0.45669291338582685"
      ]
     },
     "execution_count": 48,
     "metadata": {},
     "output_type": "execute_result"
    }
   ],
   "source": [
    "# Аналогично для Логистической регрессии\n",
    "logistic_model2 = LogisticRegression(random_state=12345, solver='liblinear', class_weight='balanced')\n",
    "logistic_model2.fit(features_upsampled, target_upsampled)\n",
    "logistic_predict2 = logistic_model2.predict(features_valid)\n",
    "f1_score(target_valid, logistic_predict2)"
   ]
  },
  {
   "cell_type": "code",
   "execution_count": 49,
   "metadata": {},
   "outputs": [
    {
     "data": {
      "text/plain": [
       "0.6895"
      ]
     },
     "execution_count": 49,
     "metadata": {},
     "output_type": "execute_result"
    }
   ],
   "source": [
    "accuracy_score(target_valid, logistic_predict2)"
   ]
  },
  {
   "cell_type": "code",
   "execution_count": 50,
   "metadata": {},
   "outputs": [
    {
     "data": {
      "text/plain": [
       "0.7494373889791455"
      ]
     },
     "execution_count": 50,
     "metadata": {},
     "output_type": "execute_result"
    }
   ],
   "source": [
    "probabilities_valid = logistic_model2.predict_proba(features_valid)\n",
    "probabilities_one_valid = probabilities_valid[:, 1]\n",
    "roc_auc_score(target_valid, probabilities_one_valid)"
   ]
  },
  {
   "cell_type": "markdown",
   "metadata": {},
   "source": [
    "### Вывод:\n",
    "\n",
    "Метрики у моделей после использования техники upsampled составили:\n",
    "\n",
    "1) Дерево решений:\n",
    "\n",
    "    - accuracy изначально показатель был 0.86, после балансировки стал 0.6, финально же составил 0.77\n",
    "    \n",
    "    - f1 без изменений (0.57)\n",
    "    \n",
    "    - roc_auc 0.84 (был 0.49)\n",
    "    \n",
    "Интересный факт, когда мы добавили балансировку данных - показатель roc_auc резко сократился с 0.85 до 0.49, но благодаря техники upsampled нам удалось вернуть его на уровень близкий к исходному (0.84).\n",
    "Аналогично же и с accuracy. \n",
    "\n",
    "2) Случайный лес:\n",
    "\n",
    "    - accuracy изменился с 0.86 (после балансировки - 0.6455)  до 0.8\n",
    "    \n",
    "    - f1 без изменений 0.59\n",
    "    \n",
    "    - roc_auc изменился с 0.85 (после балансировки - 0.6) до 0.85\n",
    "    \n",
    "3) Логистическая регрессия:\n",
    "    \n",
    "    - accuracy изменился с 0.79 (после балансировки 0.57) до 0.68\n",
    "    \n",
    "    - f1 без изменений 0.45\n",
    "    \n",
    "    - roc_auc изменился с 0.63 (после балансировки - 0.72) до 0.75\n",
    "\n",
    "\n",
    "В связи с данными показателями можно сделать следующий вывод: хотя балансировка класса и позволяет нам увеличивать уровень метрики f1, но при этом после балансировки падают уровни метрики auc_roc и accuracy. Техника upsample же позволяет нам без изменений метрики f1 увеличить метрики auc_roc и accuracy до близкого к изначальному. \n",
    "\n",
    "\n"
   ]
  },
  {
   "cell_type": "code",
   "execution_count": 51,
   "metadata": {},
   "outputs": [
    {
     "data": {
      "text/html": [
       "<div>\n",
       "<style scoped>\n",
       "    .dataframe tbody tr th:only-of-type {\n",
       "        vertical-align: middle;\n",
       "    }\n",
       "\n",
       "    .dataframe tbody tr th {\n",
       "        vertical-align: top;\n",
       "    }\n",
       "\n",
       "    .dataframe thead th {\n",
       "        text-align: right;\n",
       "    }\n",
       "</style>\n",
       "<table border=\"1\" class=\"dataframe\">\n",
       "  <thead>\n",
       "    <tr style=\"text-align: right;\">\n",
       "      <th></th>\n",
       "      <th>start</th>\n",
       "      <th>after_balance</th>\n",
       "      <th>after_upsampling</th>\n",
       "    </tr>\n",
       "  </thead>\n",
       "  <tbody>\n",
       "    <tr>\n",
       "      <td>DecisionTreeClassifier</td>\n",
       "      <td>0.560</td>\n",
       "      <td>0.57</td>\n",
       "      <td>0.57</td>\n",
       "    </tr>\n",
       "    <tr>\n",
       "      <td>RandomForest</td>\n",
       "      <td>0.550</td>\n",
       "      <td>0.59</td>\n",
       "      <td>0.59</td>\n",
       "    </tr>\n",
       "    <tr>\n",
       "      <td>LogisticRegression</td>\n",
       "      <td>0.067</td>\n",
       "      <td>0.45</td>\n",
       "      <td>0.45</td>\n",
       "    </tr>\n",
       "  </tbody>\n",
       "</table>\n",
       "</div>"
      ],
      "text/plain": [
       "                        start  after_balance  after_upsampling\n",
       "DecisionTreeClassifier  0.560           0.57              0.57\n",
       "RandomForest            0.550           0.59              0.59\n",
       "LogisticRegression      0.067           0.45              0.45"
      ]
     },
     "execution_count": 51,
     "metadata": {},
     "output_type": "execute_result"
    }
   ],
   "source": [
    "# Создадим 3 сводных таблицы по разным метрикам\n",
    "data_f1 = {'start':[0.56, 0.55, 0.067], 'after_balance':[0.57, 0.59, 0.45], 'after_upsampling':[0.57, 0.59, 0.45]}\n",
    "data_accuracy = {'start':[0.86, 0.86, 0.79], 'after_balance':[0.6, 0.65, 0.57], 'after_upsampling':[0.77, 0.8, 0.68]}\n",
    "data_roc_auc = {'start':[0.85, 0.85, 0.63], 'after_balance':[0.49, 0.6, 0.72], 'after_upsampling':[0.84, 0.85, 0.75]}\n",
    "index = ['DecisionTreeClassifier', 'RandomForest', 'LogisticRegression']\n",
    "data_f1 = pd.DataFrame(data_f1, index = index )\n",
    "data_f1"
   ]
  },
  {
   "cell_type": "code",
   "execution_count": 52,
   "metadata": {},
   "outputs": [
    {
     "data": {
      "text/html": [
       "<div>\n",
       "<style scoped>\n",
       "    .dataframe tbody tr th:only-of-type {\n",
       "        vertical-align: middle;\n",
       "    }\n",
       "\n",
       "    .dataframe tbody tr th {\n",
       "        vertical-align: top;\n",
       "    }\n",
       "\n",
       "    .dataframe thead th {\n",
       "        text-align: right;\n",
       "    }\n",
       "</style>\n",
       "<table border=\"1\" class=\"dataframe\">\n",
       "  <thead>\n",
       "    <tr style=\"text-align: right;\">\n",
       "      <th></th>\n",
       "      <th>start</th>\n",
       "      <th>after_balance</th>\n",
       "      <th>after_upsampling</th>\n",
       "    </tr>\n",
       "  </thead>\n",
       "  <tbody>\n",
       "    <tr>\n",
       "      <td>DecisionTreeClassifier</td>\n",
       "      <td>0.86</td>\n",
       "      <td>0.60</td>\n",
       "      <td>0.77</td>\n",
       "    </tr>\n",
       "    <tr>\n",
       "      <td>RandomForest</td>\n",
       "      <td>0.86</td>\n",
       "      <td>0.65</td>\n",
       "      <td>0.80</td>\n",
       "    </tr>\n",
       "    <tr>\n",
       "      <td>LogisticRegression</td>\n",
       "      <td>0.79</td>\n",
       "      <td>0.57</td>\n",
       "      <td>0.68</td>\n",
       "    </tr>\n",
       "  </tbody>\n",
       "</table>\n",
       "</div>"
      ],
      "text/plain": [
       "                        start  after_balance  after_upsampling\n",
       "DecisionTreeClassifier   0.86           0.60              0.77\n",
       "RandomForest             0.86           0.65              0.80\n",
       "LogisticRegression       0.79           0.57              0.68"
      ]
     },
     "execution_count": 52,
     "metadata": {},
     "output_type": "execute_result"
    }
   ],
   "source": [
    "data_accuracy = pd.DataFrame(data_accuracy, index=index)\n",
    "data_accuracy"
   ]
  },
  {
   "cell_type": "code",
   "execution_count": 53,
   "metadata": {
    "scrolled": true
   },
   "outputs": [
    {
     "data": {
      "text/html": [
       "<div>\n",
       "<style scoped>\n",
       "    .dataframe tbody tr th:only-of-type {\n",
       "        vertical-align: middle;\n",
       "    }\n",
       "\n",
       "    .dataframe tbody tr th {\n",
       "        vertical-align: top;\n",
       "    }\n",
       "\n",
       "    .dataframe thead th {\n",
       "        text-align: right;\n",
       "    }\n",
       "</style>\n",
       "<table border=\"1\" class=\"dataframe\">\n",
       "  <thead>\n",
       "    <tr style=\"text-align: right;\">\n",
       "      <th></th>\n",
       "      <th>start</th>\n",
       "      <th>after_balance</th>\n",
       "      <th>after_upsampling</th>\n",
       "    </tr>\n",
       "  </thead>\n",
       "  <tbody>\n",
       "    <tr>\n",
       "      <td>DecisionTreeClassifier</td>\n",
       "      <td>0.85</td>\n",
       "      <td>0.49</td>\n",
       "      <td>0.84</td>\n",
       "    </tr>\n",
       "    <tr>\n",
       "      <td>RandomForest</td>\n",
       "      <td>0.85</td>\n",
       "      <td>0.60</td>\n",
       "      <td>0.85</td>\n",
       "    </tr>\n",
       "    <tr>\n",
       "      <td>LogisticRegression</td>\n",
       "      <td>0.63</td>\n",
       "      <td>0.72</td>\n",
       "      <td>0.75</td>\n",
       "    </tr>\n",
       "  </tbody>\n",
       "</table>\n",
       "</div>"
      ],
      "text/plain": [
       "                        start  after_balance  after_upsampling\n",
       "DecisionTreeClassifier   0.85           0.49              0.84\n",
       "RandomForest             0.85           0.60              0.85\n",
       "LogisticRegression       0.63           0.72              0.75"
      ]
     },
     "execution_count": 53,
     "metadata": {},
     "output_type": "execute_result"
    }
   ],
   "source": [
    "data_auc_roc = pd.DataFrame(data_roc_auc, index=index)\n",
    "data_auc_roc"
   ]
  },
  {
   "cell_type": "markdown",
   "metadata": {},
   "source": [
    "\n",
    "\n",
    "Метрики у моделей после использования техники upsampled составили:\n",
    "\n",
    "1) Дерево решений:\n",
    "\n",
    "    - accuracy изначально показатель был 0.86, после балансировки стал 0.6, финально же составил 0.77\n",
    "    \n",
    "    - f1 без изменений (0.57)\n",
    "    \n",
    "    - roc_auc 0.84, тут без изменений\n",
    "    \n",
    "2) Случайный лес:\n",
    "\n",
    "    - accuracy изменился с 0.86 (после балансировки - 0.6455)  до 0.8\n",
    "    \n",
    "    - f1 без изменений 0.59\n",
    "    \n",
    "    - roc_auc не изменился, значение составило 0.85 на всех промежутках\n",
    "    \n",
    "3) Логистическая регрессия:\n",
    "    \n",
    "    - accuracy изменился с 0.79 (после балансировки 0.57) до 0.68\n",
    "    \n",
    "    - f1 без изменений 0.45\n",
    "    \n",
    "    - roc_auc изменился с 0.63 (после балансировки - 0.75) до 0.75\n",
    "\n",
    "\n",
    "Балансировка признаков позволяет нам увеличить значения метрики f1, но в то же время падает значение метрики accuracy. Тут нам помогла техника upsampling, в результате которой показатель accuracy удалось увеличить. \n",
    "\n",
    "Итог - техника upsampling помогает нам увеличить метрику accuracy, не изменяя метрики f1 и roc_auc. А значит - использование балансировки признаков без использования техники upsampling\\downsampling лучше избежать, чтобы не потерять в качестве модели. \n"
   ]
  },
  {
   "cell_type": "code",
   "execution_count": 49,
   "metadata": {},
   "outputs": [
    {
     "data": {
      "text/html": [
       "<div>\n",
       "<style scoped>\n",
       "    .dataframe tbody tr th:only-of-type {\n",
       "        vertical-align: middle;\n",
       "    }\n",
       "\n",
       "    .dataframe tbody tr th {\n",
       "        vertical-align: top;\n",
       "    }\n",
       "\n",
       "    .dataframe thead th {\n",
       "        text-align: right;\n",
       "    }\n",
       "</style>\n",
       "<table border=\"1\" class=\"dataframe\">\n",
       "  <thead>\n",
       "    <tr style=\"text-align: right;\">\n",
       "      <th></th>\n",
       "      <th>start</th>\n",
       "      <th>after_balance</th>\n",
       "      <th>after_upsampling</th>\n",
       "    </tr>\n",
       "  </thead>\n",
       "  <tbody>\n",
       "    <tr>\n",
       "      <td>DecisionTreeClassifier</td>\n",
       "      <td>0.85</td>\n",
       "      <td>0.84</td>\n",
       "      <td>0.84</td>\n",
       "    </tr>\n",
       "    <tr>\n",
       "      <td>RandomForest</td>\n",
       "      <td>0.85</td>\n",
       "      <td>0.85</td>\n",
       "      <td>0.85</td>\n",
       "    </tr>\n",
       "    <tr>\n",
       "      <td>LogisticRegression</td>\n",
       "      <td>0.63</td>\n",
       "      <td>0.75</td>\n",
       "      <td>0.75</td>\n",
       "    </tr>\n",
       "  </tbody>\n",
       "</table>\n",
       "</div>"
      ],
      "text/plain": [
       "                        start  after_balance  after_upsampling\n",
       "DecisionTreeClassifier   0.85           0.84              0.84\n",
       "RandomForest             0.85           0.85              0.85\n",
       "LogisticRegression       0.63           0.75              0.75"
      ]
     },
     "execution_count": 49,
     "metadata": {},
     "output_type": "execute_result"
    }
   ],
   "source": [
    "data_roc_auc = {'start':[0.85, 0.85, 0.63], 'after_balance':[0.84, 0.85, 0.75], 'after_upsampling':[0.84, 0.85, 0.75]}\n",
    "index = ['DecisionTreeClassifier', 'RandomForest', 'LogisticRegression']\n",
    "data_auc_roc = pd.DataFrame(data_roc_auc, index=index)\n",
    "data_auc_roc"
   ]
  },
  {
   "cell_type": "markdown",
   "metadata": {},
   "source": [
    "<a id='id_4'></a>\n",
    "# 4. Тестирование модели"
   ]
  },
  {
   "cell_type": "markdown",
   "metadata": {},
   "source": [
    "Проверим все 3 модели на тестовой выборке. "
   ]
  },
  {
   "cell_type": "code",
   "execution_count": 93,
   "metadata": {},
   "outputs": [
    {
     "data": {
      "text/plain": [
       "0.58137347130762"
      ]
     },
     "execution_count": 93,
     "metadata": {},
     "output_type": "execute_result"
    }
   ],
   "source": [
    "# Дерево решений\n",
    "model = DecisionTreeClassifier(max_depth=7, min_samples_leaf=4, random_state=123, class_weight='balanced')\n",
    "model.fit(features_train, target_train)\n",
    "tree_predict = model.predict(features_test)\n",
    "f1_score(target_test, tree_predict)"
   ]
  },
  {
   "cell_type": "code",
   "execution_count": 94,
   "metadata": {},
   "outputs": [
    {
     "data": {
      "text/plain": [
       "0.7775"
      ]
     },
     "execution_count": 94,
     "metadata": {},
     "output_type": "execute_result"
    }
   ],
   "source": [
    "accuracy_score(target_test, tree_predict)"
   ]
  },
  {
   "cell_type": "code",
   "execution_count": 95,
   "metadata": {},
   "outputs": [
    {
     "data": {
      "text/plain": [
       "0.8441780503238294"
      ]
     },
     "execution_count": 95,
     "metadata": {},
     "output_type": "execute_result"
    }
   ],
   "source": [
    "# Проверим разницу в отличии между нашей моделью и случайной выборкой\n",
    "# Чем выше показатель - тем лучше\n",
    "probabilities_valid = model.predict_proba(features_test)\n",
    "probabilities_one_valid = probabilities_valid[:, 1]\n",
    "roc_auc_score(target_test, probabilities_one_valid)"
   ]
  },
  {
   "cell_type": "markdown",
   "metadata": {},
   "source": [
    "Выводы по дереву решеий:\n",
    "\n",
    "    - f1 составляет 0.58\n",
    "    \n",
    "    - accuracy составялет 0.78\n",
    "    \n",
    "    - auc_roc составляет 0.84 (как известно - идеальное значние 1, а значит выборка к нему стремится)"
   ]
  },
  {
   "cell_type": "code",
   "execution_count": 96,
   "metadata": {},
   "outputs": [
    {
     "data": {
      "text/plain": [
       "0.6027987082884821"
      ]
     },
     "execution_count": 96,
     "metadata": {},
     "output_type": "execute_result"
    }
   ],
   "source": [
    "# Случайный лес\n",
    "model = RandomForestClassifier(max_depth=8, min_samples_split=10, min_samples_leaf=2, n_estimators=10, random_state=123,\n",
    "                              class_weight='balanced')\n",
    "model.fit(features_train, target_train)\n",
    "forest_predict = model.predict(features_test)\n",
    "f1_score(target_test, forest_predict)"
   ]
  },
  {
   "cell_type": "code",
   "execution_count": 97,
   "metadata": {},
   "outputs": [
    {
     "data": {
      "text/plain": [
       "0.8155"
      ]
     },
     "execution_count": 97,
     "metadata": {},
     "output_type": "execute_result"
    }
   ],
   "source": [
    "accuracy_score(target_test, forest_predict)"
   ]
  },
  {
   "cell_type": "code",
   "execution_count": 98,
   "metadata": {},
   "outputs": [
    {
     "data": {
      "text/plain": [
       "0.8490634072805777"
      ]
     },
     "execution_count": 98,
     "metadata": {},
     "output_type": "execute_result"
    }
   ],
   "source": [
    "probabilities_valid = model.predict_proba(features_test)\n",
    "probabilities_one_valid = probabilities_valid[:, 1]\n",
    "roc_auc_score(target_test, probabilities_one_valid)"
   ]
  },
  {
   "cell_type": "markdown",
   "metadata": {},
   "source": [
    "Выводы по Случайному лесу:\n",
    "\n",
    "    - f1 составляет 0.60\n",
    "    \n",
    "    - accuracy составялет 0.81\n",
    "    \n",
    "    - auc_roc составляет 0.85 "
   ]
  },
  {
   "cell_type": "code",
   "execution_count": 99,
   "metadata": {},
   "outputs": [
    {
     "data": {
      "text/plain": [
       "0.5083848190644307"
      ]
     },
     "execution_count": 99,
     "metadata": {},
     "output_type": "execute_result"
    }
   ],
   "source": [
    "# Логистическая регрессия\n",
    "model = LogisticRegression(random_state=12345, solver='liblinear', class_weight='balanced')\n",
    "model.fit(features_train, target_train)\n",
    "logistic_predict = model.predict(features_test)\n",
    "f1_score(target_test, logistic_predict)"
   ]
  },
  {
   "cell_type": "code",
   "execution_count": 100,
   "metadata": {},
   "outputs": [
    {
     "data": {
      "text/plain": [
       "0.7215"
      ]
     },
     "execution_count": 100,
     "metadata": {},
     "output_type": "execute_result"
    }
   ],
   "source": [
    "accuracy_score(target_test, logistic_predict)"
   ]
  },
  {
   "cell_type": "code",
   "execution_count": 101,
   "metadata": {},
   "outputs": [
    {
     "data": {
      "text/plain": [
       "0.7922591131293579"
      ]
     },
     "execution_count": 101,
     "metadata": {},
     "output_type": "execute_result"
    }
   ],
   "source": [
    "probabilities_valid = model.predict_proba(features_test)\n",
    "probabilities_one_valid = probabilities_valid[:, 1]\n",
    "roc_auc_score(target_test, probabilities_one_valid)"
   ]
  },
  {
   "cell_type": "markdown",
   "metadata": {},
   "source": [
    "Выводы по Логистической регрессии:\n",
    "\n",
    "    - f1 составляет 0.51\n",
    "    \n",
    "    - accuracy составялет 0.72\n",
    "    \n",
    "    - auc_roc составляет 0.79"
   ]
  },
  {
   "cell_type": "markdown",
   "metadata": {},
   "source": [
    "## Вывод по пункту 4:\n",
    "\n",
    "При проверке моделей на тестовой выборке показатели f1 составили:\n",
    "\n",
    "    - Дерево решений 0.58\n",
    "    \n",
    "    - Случайный лес 0.60\n",
    "    \n",
    "    - Логистическая регрессия 0.51\n",
    "\n",
    "При проверке моделей на тестовой выборке показатели accuracy составили:\n",
    "\n",
    "    - Дерево решений 0.78\n",
    "    \n",
    "    - Случайный лес 0.81\n",
    "    \n",
    "    - Логистическая регрессия 0.72\n",
    "    \n",
    "При проверке моделей на тестовой выборке показатели auc_roc составили:\n",
    "\n",
    "    - Дерево решений 0.84\n",
    "    \n",
    "    - Случайный лес 0.85\n",
    "    \n",
    "    - Логистическая регрессия 0.79    \n",
    "    \n",
    "    \n"
   ]
  },
  {
   "cell_type": "code",
   "execution_count": 63,
   "metadata": {},
   "outputs": [
    {
     "data": {
      "text/plain": [
       "0.5860113421550094"
      ]
     },
     "execution_count": 63,
     "metadata": {},
     "output_type": "execute_result"
    }
   ],
   "source": [
    "# Проверим Дерево решений на тестовой выборке\n",
    "tree_predict3 = tree_model2.predict(features_test)\n",
    "f1_score(target_test, tree_predict3)"
   ]
  },
  {
   "cell_type": "code",
   "execution_count": 64,
   "metadata": {},
   "outputs": [
    {
     "data": {
      "text/plain": [
       "0.781"
      ]
     },
     "execution_count": 64,
     "metadata": {},
     "output_type": "execute_result"
    }
   ],
   "source": [
    "accuracy_score(target_test, tree_predict3)"
   ]
  },
  {
   "cell_type": "code",
   "execution_count": 65,
   "metadata": {},
   "outputs": [
    {
     "data": {
      "text/plain": [
       "0.843522792128837"
      ]
     },
     "execution_count": 65,
     "metadata": {},
     "output_type": "execute_result"
    }
   ],
   "source": [
    "probabilities_test = tree_model2.predict_proba(features_test)\n",
    "probabilities_one_test = probabilities_test[:, 1]\n",
    "roc_auc_score(target_test, probabilities_one_test)"
   ]
  },
  {
   "cell_type": "code",
   "execution_count": 66,
   "metadata": {},
   "outputs": [
    {
     "data": {
      "text/plain": [
       "0.6056910569105691"
      ]
     },
     "execution_count": 66,
     "metadata": {},
     "output_type": "execute_result"
    }
   ],
   "source": [
    "# Случайный лес\n",
    "forest_predict3 = forest_model2.predict(features_test)\n",
    "f1_score(target_test, forest_predict3)"
   ]
  },
  {
   "cell_type": "code",
   "execution_count": 67,
   "metadata": {},
   "outputs": [
    {
     "data": {
      "text/plain": [
       "0.806"
      ]
     },
     "execution_count": 67,
     "metadata": {},
     "output_type": "execute_result"
    }
   ],
   "source": [
    "accuracy_score(target_test, forest_predict3)"
   ]
  },
  {
   "cell_type": "code",
   "execution_count": 68,
   "metadata": {},
   "outputs": [
    {
     "data": {
      "text/plain": [
       "0.8619398124022928"
      ]
     },
     "execution_count": 68,
     "metadata": {},
     "output_type": "execute_result"
    }
   ],
   "source": [
    "probabilities_test = forest_model2.predict_proba(features_test)\n",
    "probabilities_one_test = probabilities_test[:, 1]\n",
    "roc_auc_score(target_test, probabilities_one_test)"
   ]
  },
  {
   "cell_type": "code",
   "execution_count": 69,
   "metadata": {},
   "outputs": [
    {
     "data": {
      "text/plain": [
       "0.5088339222614842"
      ]
     },
     "execution_count": 69,
     "metadata": {},
     "output_type": "execute_result"
    }
   ],
   "source": [
    "# Логистическая регрессия\n",
    "logistic_predict3 = logistic_model2.predict(features_test)\n",
    "f1_score(target_test, logistic_predict3)"
   ]
  },
  {
   "cell_type": "code",
   "execution_count": 70,
   "metadata": {},
   "outputs": [
    {
     "data": {
      "text/plain": [
       "0.722"
      ]
     },
     "execution_count": 70,
     "metadata": {},
     "output_type": "execute_result"
    }
   ],
   "source": [
    "accuracy_score(target_test, logistic_predict3)"
   ]
  },
  {
   "cell_type": "code",
   "execution_count": 71,
   "metadata": {},
   "outputs": [
    {
     "data": {
      "text/plain": [
       "0.7922436040596541"
      ]
     },
     "execution_count": 71,
     "metadata": {},
     "output_type": "execute_result"
    }
   ],
   "source": [
    "probabilities_test = logistic_model2.predict_proba(features_test)\n",
    "probabilities_one_test = probabilities_test[:, 1]\n",
    "roc_auc_score(target_test, probabilities_one_test)"
   ]
  },
  {
   "cell_type": "markdown",
   "metadata": {},
   "source": [
    "### Вывод:\n",
    "\n",
    "При проверке моделей на тестовой выборке после техники upsampling показатели f1 составили:\n",
    "\n",
    "    - Дерево решений 0.58\n",
    "\n",
    "    - Случайный лес 0.60\n",
    "\n",
    "    - Логистическая регрессия 0.51\n",
    "\n",
    "При проверке моделей на тестовой выборке после техники upsampling показатели accuracy составили:\n",
    "\n",
    "    - Дерево решений 0.78\n",
    "\n",
    "    - Случайный лес 0.81\n",
    "\n",
    "    - Логистическая регрессия 0.72\n",
    "\n",
    "При проверке моделей на тестовой выборке после техники upsampling показатели auc_roc составили:\n",
    "\n",
    "    - Дерево решений 0.84\n",
    "\n",
    "    - Случайный лес 0.85\n",
    "\n",
    "    - Логистическая регрессия 0.75    "
   ]
  },
  {
   "cell_type": "code",
   "execution_count": 73,
   "metadata": {},
   "outputs": [
    {
     "name": "stdout",
     "output_type": "stream",
     "text": [
      "<class 'pandas.core.frame.DataFrame'>\n",
      "Int64Index: 17151 entries, 7558 to 2575\n",
      "Data columns (total 11 columns):\n",
      "CreditScore          17151 non-null float64\n",
      "Age                  17151 non-null float64\n",
      "Tenure               17151 non-null float64\n",
      "Balance              17151 non-null float64\n",
      "NumOfProducts        17151 non-null float64\n",
      "HasCrCard            17151 non-null float64\n",
      "IsActiveMember       17151 non-null float64\n",
      "EstimatedSalary      17151 non-null float64\n",
      "Geography_Germany    17151 non-null uint8\n",
      "Geography_Spain      17151 non-null uint8\n",
      "Gender_Male          17151 non-null uint8\n",
      "dtypes: float64(8), uint8(3)\n",
      "memory usage: 1.2 MB\n"
     ]
    },
    {
     "data": {
      "text/html": [
       "<div>\n",
       "<style scoped>\n",
       "    .dataframe tbody tr th:only-of-type {\n",
       "        vertical-align: middle;\n",
       "    }\n",
       "\n",
       "    .dataframe tbody tr th {\n",
       "        vertical-align: top;\n",
       "    }\n",
       "\n",
       "    .dataframe thead th {\n",
       "        text-align: right;\n",
       "    }\n",
       "</style>\n",
       "<table border=\"1\" class=\"dataframe\">\n",
       "  <thead>\n",
       "    <tr style=\"text-align: right;\">\n",
       "      <th></th>\n",
       "      <th>CreditScore</th>\n",
       "      <th>Age</th>\n",
       "      <th>Tenure</th>\n",
       "      <th>Balance</th>\n",
       "      <th>NumOfProducts</th>\n",
       "      <th>HasCrCard</th>\n",
       "      <th>IsActiveMember</th>\n",
       "      <th>EstimatedSalary</th>\n",
       "      <th>Geography_Germany</th>\n",
       "      <th>Geography_Spain</th>\n",
       "      <th>Gender_Male</th>\n",
       "    </tr>\n",
       "  </thead>\n",
       "  <tbody>\n",
       "    <tr>\n",
       "      <td>7558</td>\n",
       "      <td>-0.291607</td>\n",
       "      <td>-0.279104</td>\n",
       "      <td>-1.449791</td>\n",
       "      <td>0.511571</td>\n",
       "      <td>0.799319</td>\n",
       "      <td>0.648425</td>\n",
       "      <td>-1.037018</td>\n",
       "      <td>0.195502</td>\n",
       "      <td>0</td>\n",
       "      <td>1</td>\n",
       "      <td>0</td>\n",
       "    </tr>\n",
       "    <tr>\n",
       "      <td>2160</td>\n",
       "      <td>0.794698</td>\n",
       "      <td>-1.027330</td>\n",
       "      <td>0.154019</td>\n",
       "      <td>-1.222776</td>\n",
       "      <td>0.799319</td>\n",
       "      <td>-1.542199</td>\n",
       "      <td>0.964303</td>\n",
       "      <td>-1.388338</td>\n",
       "      <td>0</td>\n",
       "      <td>0</td>\n",
       "      <td>1</td>\n",
       "    </tr>\n",
       "    <tr>\n",
       "      <td>2574</td>\n",
       "      <td>0.153260</td>\n",
       "      <td>1.123820</td>\n",
       "      <td>1.437068</td>\n",
       "      <td>0.537841</td>\n",
       "      <td>0.799319</td>\n",
       "      <td>-1.542199</td>\n",
       "      <td>0.964303</td>\n",
       "      <td>-1.709171</td>\n",
       "      <td>1</td>\n",
       "      <td>0</td>\n",
       "      <td>0</td>\n",
       "    </tr>\n",
       "    <tr>\n",
       "      <td>8940</td>\n",
       "      <td>0.070494</td>\n",
       "      <td>-0.092047</td>\n",
       "      <td>0.795544</td>\n",
       "      <td>-1.222776</td>\n",
       "      <td>0.799319</td>\n",
       "      <td>0.648425</td>\n",
       "      <td>-1.037018</td>\n",
       "      <td>1.487245</td>\n",
       "      <td>0</td>\n",
       "      <td>0</td>\n",
       "      <td>1</td>\n",
       "    </tr>\n",
       "    <tr>\n",
       "      <td>6295</td>\n",
       "      <td>-1.191689</td>\n",
       "      <td>1.030292</td>\n",
       "      <td>-1.129029</td>\n",
       "      <td>1.010300</td>\n",
       "      <td>2.510312</td>\n",
       "      <td>-1.542199</td>\n",
       "      <td>-1.037018</td>\n",
       "      <td>-0.525218</td>\n",
       "      <td>0</td>\n",
       "      <td>1</td>\n",
       "      <td>0</td>\n",
       "    </tr>\n",
       "    <tr>\n",
       "      <td>...</td>\n",
       "      <td>...</td>\n",
       "      <td>...</td>\n",
       "      <td>...</td>\n",
       "      <td>...</td>\n",
       "      <td>...</td>\n",
       "      <td>...</td>\n",
       "      <td>...</td>\n",
       "      <td>...</td>\n",
       "      <td>...</td>\n",
       "      <td>...</td>\n",
       "      <td>...</td>\n",
       "    </tr>\n",
       "    <tr>\n",
       "      <td>2384</td>\n",
       "      <td>0.846427</td>\n",
       "      <td>0.095009</td>\n",
       "      <td>1.757830</td>\n",
       "      <td>-1.222776</td>\n",
       "      <td>0.799319</td>\n",
       "      <td>0.648425</td>\n",
       "      <td>-1.037018</td>\n",
       "      <td>0.939751</td>\n",
       "      <td>0</td>\n",
       "      <td>0</td>\n",
       "      <td>0</td>\n",
       "    </tr>\n",
       "    <tr>\n",
       "      <td>5922</td>\n",
       "      <td>-0.984774</td>\n",
       "      <td>0.469122</td>\n",
       "      <td>-0.487505</td>\n",
       "      <td>0.460806</td>\n",
       "      <td>2.510312</td>\n",
       "      <td>0.648425</td>\n",
       "      <td>-1.037018</td>\n",
       "      <td>-0.680912</td>\n",
       "      <td>0</td>\n",
       "      <td>0</td>\n",
       "      <td>0</td>\n",
       "    </tr>\n",
       "    <tr>\n",
       "      <td>3610</td>\n",
       "      <td>-0.726129</td>\n",
       "      <td>1.591461</td>\n",
       "      <td>-1.129029</td>\n",
       "      <td>0.868250</td>\n",
       "      <td>-0.911674</td>\n",
       "      <td>0.648425</td>\n",
       "      <td>-1.037018</td>\n",
       "      <td>0.121757</td>\n",
       "      <td>0</td>\n",
       "      <td>0</td>\n",
       "      <td>0</td>\n",
       "    </tr>\n",
       "    <tr>\n",
       "      <td>3127</td>\n",
       "      <td>1.301640</td>\n",
       "      <td>-0.559689</td>\n",
       "      <td>1.116306</td>\n",
       "      <td>0.609786</td>\n",
       "      <td>-0.911674</td>\n",
       "      <td>-1.542199</td>\n",
       "      <td>-1.037018</td>\n",
       "      <td>0.512958</td>\n",
       "      <td>1</td>\n",
       "      <td>0</td>\n",
       "      <td>1</td>\n",
       "    </tr>\n",
       "    <tr>\n",
       "      <td>2575</td>\n",
       "      <td>-1.026157</td>\n",
       "      <td>1.404405</td>\n",
       "      <td>0.154019</td>\n",
       "      <td>0.416609</td>\n",
       "      <td>-0.911674</td>\n",
       "      <td>0.648425</td>\n",
       "      <td>-1.037018</td>\n",
       "      <td>1.328950</td>\n",
       "      <td>1</td>\n",
       "      <td>0</td>\n",
       "      <td>1</td>\n",
       "    </tr>\n",
       "  </tbody>\n",
       "</table>\n",
       "<p>17151 rows × 11 columns</p>\n",
       "</div>"
      ],
      "text/plain": [
       "      CreditScore       Age    Tenure   Balance  NumOfProducts  HasCrCard  \\\n",
       "7558    -0.291607 -0.279104 -1.449791  0.511571       0.799319   0.648425   \n",
       "2160     0.794698 -1.027330  0.154019 -1.222776       0.799319  -1.542199   \n",
       "2574     0.153260  1.123820  1.437068  0.537841       0.799319  -1.542199   \n",
       "8940     0.070494 -0.092047  0.795544 -1.222776       0.799319   0.648425   \n",
       "6295    -1.191689  1.030292 -1.129029  1.010300       2.510312  -1.542199   \n",
       "...           ...       ...       ...       ...            ...        ...   \n",
       "2384     0.846427  0.095009  1.757830 -1.222776       0.799319   0.648425   \n",
       "5922    -0.984774  0.469122 -0.487505  0.460806       2.510312   0.648425   \n",
       "3610    -0.726129  1.591461 -1.129029  0.868250      -0.911674   0.648425   \n",
       "3127     1.301640 -0.559689  1.116306  0.609786      -0.911674  -1.542199   \n",
       "2575    -1.026157  1.404405  0.154019  0.416609      -0.911674   0.648425   \n",
       "\n",
       "      IsActiveMember  EstimatedSalary  Geography_Germany  Geography_Spain  \\\n",
       "7558       -1.037018         0.195502                  0                1   \n",
       "2160        0.964303        -1.388338                  0                0   \n",
       "2574        0.964303        -1.709171                  1                0   \n",
       "8940       -1.037018         1.487245                  0                0   \n",
       "6295       -1.037018        -0.525218                  0                1   \n",
       "...              ...              ...                ...              ...   \n",
       "2384       -1.037018         0.939751                  0                0   \n",
       "5922       -1.037018        -0.680912                  0                0   \n",
       "3610       -1.037018         0.121757                  0                0   \n",
       "3127       -1.037018         0.512958                  1                0   \n",
       "2575       -1.037018         1.328950                  1                0   \n",
       "\n",
       "      Gender_Male  \n",
       "7558            0  \n",
       "2160            1  \n",
       "2574            0  \n",
       "8940            1  \n",
       "6295            0  \n",
       "...           ...  \n",
       "2384            0  \n",
       "5922            0  \n",
       "3610            0  \n",
       "3127            1  \n",
       "2575            1  \n",
       "\n",
       "[17151 rows x 11 columns]"
      ]
     },
     "execution_count": 73,
     "metadata": {},
     "output_type": "execute_result"
    }
   ],
   "source": [
    "# Проверим корректность признаков\n",
    "features_upsampled.info()\n",
    "features_upsampled"
   ]
  },
  {
   "cell_type": "code",
   "execution_count": 83,
   "metadata": {},
   "outputs": [
    {
     "data": {
      "text/plain": [
       "(17151,)"
      ]
     },
     "execution_count": 83,
     "metadata": {},
     "output_type": "execute_result"
    }
   ],
   "source": [
    "target_upsampled.shape"
   ]
  },
  {
   "cell_type": "markdown",
   "metadata": {},
   "source": [
    "Как можно увидеть - features_upsampled - признаки, которые были обработаны техниками масштабирования и upsampling.\n",
    "Обучим этими признаками модели, которые создадим заново."
   ]
  },
  {
   "cell_type": "code",
   "execution_count": 77,
   "metadata": {},
   "outputs": [
    {
     "name": "stdout",
     "output_type": "stream",
     "text": [
      "<class 'pandas.core.frame.DataFrame'>\n",
      "Int64Index: 2000 entries, 1314 to 7718\n",
      "Data columns (total 11 columns):\n",
      "CreditScore          2000 non-null float64\n",
      "Age                  2000 non-null float64\n",
      "Tenure               2000 non-null float64\n",
      "Balance              2000 non-null float64\n",
      "NumOfProducts        2000 non-null float64\n",
      "HasCrCard            2000 non-null float64\n",
      "IsActiveMember       2000 non-null float64\n",
      "EstimatedSalary      2000 non-null float64\n",
      "Geography_Germany    2000 non-null uint8\n",
      "Geography_Spain      2000 non-null uint8\n",
      "Gender_Male          2000 non-null uint8\n",
      "dtypes: float64(8), uint8(3)\n",
      "memory usage: 146.5 KB\n"
     ]
    },
    {
     "data": {
      "text/html": [
       "<div>\n",
       "<style scoped>\n",
       "    .dataframe tbody tr th:only-of-type {\n",
       "        vertical-align: middle;\n",
       "    }\n",
       "\n",
       "    .dataframe tbody tr th {\n",
       "        vertical-align: top;\n",
       "    }\n",
       "\n",
       "    .dataframe thead th {\n",
       "        text-align: right;\n",
       "    }\n",
       "</style>\n",
       "<table border=\"1\" class=\"dataframe\">\n",
       "  <thead>\n",
       "    <tr style=\"text-align: right;\">\n",
       "      <th></th>\n",
       "      <th>CreditScore</th>\n",
       "      <th>Age</th>\n",
       "      <th>Tenure</th>\n",
       "      <th>Balance</th>\n",
       "      <th>NumOfProducts</th>\n",
       "      <th>HasCrCard</th>\n",
       "      <th>IsActiveMember</th>\n",
       "      <th>EstimatedSalary</th>\n",
       "      <th>Geography_Germany</th>\n",
       "      <th>Geography_Spain</th>\n",
       "      <th>Gender_Male</th>\n",
       "    </tr>\n",
       "  </thead>\n",
       "  <tbody>\n",
       "    <tr>\n",
       "      <td>1314</td>\n",
       "      <td>0.256718</td>\n",
       "      <td>1.404405</td>\n",
       "      <td>-0.808267</td>\n",
       "      <td>-1.222776</td>\n",
       "      <td>-0.911674</td>\n",
       "      <td>0.648425</td>\n",
       "      <td>-1.037018</td>\n",
       "      <td>0.860057</td>\n",
       "      <td>0</td>\n",
       "      <td>0</td>\n",
       "      <td>1</td>\n",
       "    </tr>\n",
       "    <tr>\n",
       "      <td>2588</td>\n",
       "      <td>0.939538</td>\n",
       "      <td>-0.653217</td>\n",
       "      <td>0.154019</td>\n",
       "      <td>-1.222776</td>\n",
       "      <td>-0.911674</td>\n",
       "      <td>0.648425</td>\n",
       "      <td>0.964303</td>\n",
       "      <td>-0.606411</td>\n",
       "      <td>0</td>\n",
       "      <td>0</td>\n",
       "      <td>1</td>\n",
       "    </tr>\n",
       "    <tr>\n",
       "      <td>6512</td>\n",
       "      <td>-1.688286</td>\n",
       "      <td>-1.401443</td>\n",
       "      <td>0.795544</td>\n",
       "      <td>0.904219</td>\n",
       "      <td>0.799319</td>\n",
       "      <td>0.648425</td>\n",
       "      <td>0.964303</td>\n",
       "      <td>-0.022714</td>\n",
       "      <td>0</td>\n",
       "      <td>0</td>\n",
       "      <td>1</td>\n",
       "    </tr>\n",
       "    <tr>\n",
       "      <td>6109</td>\n",
       "      <td>-0.715784</td>\n",
       "      <td>-1.214387</td>\n",
       "      <td>-0.487505</td>\n",
       "      <td>0.450121</td>\n",
       "      <td>-0.911674</td>\n",
       "      <td>0.648425</td>\n",
       "      <td>0.964303</td>\n",
       "      <td>1.464615</td>\n",
       "      <td>1</td>\n",
       "      <td>0</td>\n",
       "      <td>0</td>\n",
       "    </tr>\n",
       "    <tr>\n",
       "      <td>2259</td>\n",
       "      <td>0.370521</td>\n",
       "      <td>0.188537</td>\n",
       "      <td>-0.166743</td>\n",
       "      <td>0.839367</td>\n",
       "      <td>0.799319</td>\n",
       "      <td>0.648425</td>\n",
       "      <td>-1.037018</td>\n",
       "      <td>1.517910</td>\n",
       "      <td>0</td>\n",
       "      <td>0</td>\n",
       "      <td>0</td>\n",
       "    </tr>\n",
       "    <tr>\n",
       "      <td>...</td>\n",
       "      <td>...</td>\n",
       "      <td>...</td>\n",
       "      <td>...</td>\n",
       "      <td>...</td>\n",
       "      <td>...</td>\n",
       "      <td>...</td>\n",
       "      <td>...</td>\n",
       "      <td>...</td>\n",
       "      <td>...</td>\n",
       "      <td>...</td>\n",
       "      <td>...</td>\n",
       "    </tr>\n",
       "    <tr>\n",
       "      <td>4112</td>\n",
       "      <td>0.515362</td>\n",
       "      <td>-0.840273</td>\n",
       "      <td>1.437068</td>\n",
       "      <td>-1.222776</td>\n",
       "      <td>-0.911674</td>\n",
       "      <td>0.648425</td>\n",
       "      <td>0.964303</td>\n",
       "      <td>1.299385</td>\n",
       "      <td>0</td>\n",
       "      <td>0</td>\n",
       "      <td>0</td>\n",
       "    </tr>\n",
       "    <tr>\n",
       "      <td>2055</td>\n",
       "      <td>-1.874509</td>\n",
       "      <td>-0.092047</td>\n",
       "      <td>1.437068</td>\n",
       "      <td>0.585418</td>\n",
       "      <td>-0.911674</td>\n",
       "      <td>-1.542199</td>\n",
       "      <td>-1.037018</td>\n",
       "      <td>-1.521632</td>\n",
       "      <td>1</td>\n",
       "      <td>0</td>\n",
       "      <td>1</td>\n",
       "    </tr>\n",
       "    <tr>\n",
       "      <td>2307</td>\n",
       "      <td>-0.415757</td>\n",
       "      <td>1.684990</td>\n",
       "      <td>0.474781</td>\n",
       "      <td>0.479388</td>\n",
       "      <td>0.799319</td>\n",
       "      <td>-1.542199</td>\n",
       "      <td>0.964303</td>\n",
       "      <td>1.500825</td>\n",
       "      <td>1</td>\n",
       "      <td>0</td>\n",
       "      <td>1</td>\n",
       "    </tr>\n",
       "    <tr>\n",
       "      <td>6502</td>\n",
       "      <td>-0.405411</td>\n",
       "      <td>0.095009</td>\n",
       "      <td>-0.808267</td>\n",
       "      <td>0.780880</td>\n",
       "      <td>-0.911674</td>\n",
       "      <td>0.648425</td>\n",
       "      <td>-1.037018</td>\n",
       "      <td>-0.115580</td>\n",
       "      <td>0</td>\n",
       "      <td>0</td>\n",
       "      <td>0</td>\n",
       "    </tr>\n",
       "    <tr>\n",
       "      <td>7718</td>\n",
       "      <td>0.929193</td>\n",
       "      <td>1.965574</td>\n",
       "      <td>-1.449791</td>\n",
       "      <td>0.496737</td>\n",
       "      <td>0.799319</td>\n",
       "      <td>-1.542199</td>\n",
       "      <td>-1.037018</td>\n",
       "      <td>-1.278846</td>\n",
       "      <td>0</td>\n",
       "      <td>0</td>\n",
       "      <td>0</td>\n",
       "    </tr>\n",
       "  </tbody>\n",
       "</table>\n",
       "<p>2000 rows × 11 columns</p>\n",
       "</div>"
      ],
      "text/plain": [
       "      CreditScore       Age    Tenure   Balance  NumOfProducts  HasCrCard  \\\n",
       "1314     0.256718  1.404405 -0.808267 -1.222776      -0.911674   0.648425   \n",
       "2588     0.939538 -0.653217  0.154019 -1.222776      -0.911674   0.648425   \n",
       "6512    -1.688286 -1.401443  0.795544  0.904219       0.799319   0.648425   \n",
       "6109    -0.715784 -1.214387 -0.487505  0.450121      -0.911674   0.648425   \n",
       "2259     0.370521  0.188537 -0.166743  0.839367       0.799319   0.648425   \n",
       "...           ...       ...       ...       ...            ...        ...   \n",
       "4112     0.515362 -0.840273  1.437068 -1.222776      -0.911674   0.648425   \n",
       "2055    -1.874509 -0.092047  1.437068  0.585418      -0.911674  -1.542199   \n",
       "2307    -0.415757  1.684990  0.474781  0.479388       0.799319  -1.542199   \n",
       "6502    -0.405411  0.095009 -0.808267  0.780880      -0.911674   0.648425   \n",
       "7718     0.929193  1.965574 -1.449791  0.496737       0.799319  -1.542199   \n",
       "\n",
       "      IsActiveMember  EstimatedSalary  Geography_Germany  Geography_Spain  \\\n",
       "1314       -1.037018         0.860057                  0                0   \n",
       "2588        0.964303        -0.606411                  0                0   \n",
       "6512        0.964303        -0.022714                  0                0   \n",
       "6109        0.964303         1.464615                  1                0   \n",
       "2259       -1.037018         1.517910                  0                0   \n",
       "...              ...              ...                ...              ...   \n",
       "4112        0.964303         1.299385                  0                0   \n",
       "2055       -1.037018        -1.521632                  1                0   \n",
       "2307        0.964303         1.500825                  1                0   \n",
       "6502       -1.037018        -0.115580                  0                0   \n",
       "7718       -1.037018        -1.278846                  0                0   \n",
       "\n",
       "      Gender_Male  \n",
       "1314            1  \n",
       "2588            1  \n",
       "6512            1  \n",
       "6109            0  \n",
       "2259            0  \n",
       "...           ...  \n",
       "4112            0  \n",
       "2055            1  \n",
       "2307            1  \n",
       "6502            0  \n",
       "7718            0  \n",
       "\n",
       "[2000 rows x 11 columns]"
      ]
     },
     "execution_count": 77,
     "metadata": {},
     "output_type": "execute_result"
    }
   ],
   "source": [
    "features_test.info()\n",
    "features_test"
   ]
  },
  {
   "cell_type": "code",
   "execution_count": 74,
   "metadata": {},
   "outputs": [
    {
     "data": {
      "text/plain": [
       "0.5860113421550094"
      ]
     },
     "execution_count": 74,
     "metadata": {},
     "output_type": "execute_result"
    }
   ],
   "source": [
    "# Дерево решений (обучим его заново)\n",
    "model = DecisionTreeClassifier(max_depth=7, min_samples_leaf=4, random_state=123, class_weight='balanced')\n",
    "model.fit(features_upsampled, target_upsampled)\n",
    "predict = model.predict(features_test)\n",
    "f1_score(target_test, predict)"
   ]
  },
  {
   "cell_type": "code",
   "execution_count": 84,
   "metadata": {},
   "outputs": [
    {
     "data": {
      "text/plain": [
       "0.781"
      ]
     },
     "execution_count": 84,
     "metadata": {},
     "output_type": "execute_result"
    }
   ],
   "source": [
    "accuracy_score(target_test, predict)"
   ]
  },
  {
   "cell_type": "code",
   "execution_count": 85,
   "metadata": {},
   "outputs": [
    {
     "data": {
      "text/plain": [
       "0.843522792128837"
      ]
     },
     "execution_count": 85,
     "metadata": {},
     "output_type": "execute_result"
    }
   ],
   "source": [
    "probabilities_test = model.predict_proba(features_test)\n",
    "probabilities_one_test = probabilities_test[:, 1]\n",
    "roc_auc_score(target_test, probabilities_one_test)"
   ]
  },
  {
   "cell_type": "code",
   "execution_count": 86,
   "metadata": {},
   "outputs": [
    {
     "data": {
      "text/plain": [
       "0.58137347130762"
      ]
     },
     "execution_count": 86,
     "metadata": {},
     "output_type": "execute_result"
    }
   ],
   "source": [
    "# Дерево решений без upsampling \n",
    "model = DecisionTreeClassifier(max_depth=7, min_samples_leaf=4, random_state=123, class_weight='balanced')\n",
    "model.fit(features_train, target_train)\n",
    "predict = model.predict(features_test)\n",
    "f1_score(target_test, predict)"
   ]
  },
  {
   "cell_type": "code",
   "execution_count": 87,
   "metadata": {},
   "outputs": [
    {
     "data": {
      "text/plain": [
       "0.7775"
      ]
     },
     "execution_count": 87,
     "metadata": {},
     "output_type": "execute_result"
    }
   ],
   "source": [
    "accuracy_score(target_test, predict)"
   ]
  },
  {
   "cell_type": "code",
   "execution_count": 88,
   "metadata": {},
   "outputs": [
    {
     "data": {
      "text/plain": [
       "0.8441780503238294"
      ]
     },
     "execution_count": 88,
     "metadata": {},
     "output_type": "execute_result"
    }
   ],
   "source": [
    "probabilities_test = model.predict_proba(features_test)\n",
    "probabilities_one_test = probabilities_test[:, 1]\n",
    "roc_auc_score(target_test, probabilities_one_test)"
   ]
  },
  {
   "cell_type": "markdown",
   "metadata": {},
   "source": [
    "### Вывод:\n",
    "На примере Дерева решений мы можем убедиться, что изначально данные были корректными, просто разница между метриками на выборках с апсемплингом и без него очень мизерная, что при округлении до двух сотых - её практически не видно. \n",
    "\n",
    "На примере метрик:\n",
    "    \n",
    "    - f1 0.5860113421550094 и 0.58137347130762\n",
    "    \n",
    "    - accuracy 0.781 и 0.7775\n",
    "    \n",
    "    - roc_auc 0.843522792128837 и 0.8441780503238294"
   ]
  },
  {
   "cell_type": "markdown",
   "metadata": {},
   "source": [
    "<a id='id_1'></a>\n",
    "# 5. Общий вывод:\n",
    "\n",
    "Наиболее подходящей моделью является Случайный лес. Его показатели составили:\n",
    "    \n",
    "    - f1 равен 0.6\n",
    "    \n",
    "    - accuracy равно 0.81\n",
    "    \n",
    "    - auc_roc равен 0.85\n",
    "    \n",
    "Случайные лес лидирует по всем показателям, а значит точность ответов, а так же отношение точности и полноты у данной модели самые высокие. Высокий уровень auc_roc говорит так же о маленькой зависимости от случайной модели. \n",
    "\n",
    "Модель Дерево решений подходит нам чуть меньше (f1 0.58, accuracy 0.78, auc_roc 0.84). Разница со Случайным лесом сравнительно маленькая, а значит, как известно из теории - модель Дерево решений наиболее быстрое, и если возникнут проблемы со скоростью обработки данных моделью Случайный лес - модель Дерево решений так же подойдет, но со сравнительно небольшой потерей качества. \n",
    "Но по условиям задачи f1 должен быть выше 0.58, а значит модель Дерево решений в контексте данной задачи нам не подходит. \n",
    "\n",
    "Модель Логистическая регрессия проигрываем по всем параметрам и отвергается нами.\n",
    "\n",
    "___Вывод - подходит только модель Случайный лес___. "
   ]
  }
 ],
 "metadata": {
  "kernelspec": {
   "display_name": "Python 3",
   "language": "python",
   "name": "python3"
  },
  "language_info": {
   "codemirror_mode": {
    "name": "ipython",
    "version": 3
   },
   "file_extension": ".py",
   "mimetype": "text/x-python",
   "name": "python",
   "nbconvert_exporter": "python",
   "pygments_lexer": "ipython3",
   "version": "3.7.8"
  },
  "toc": {
   "base_numbering": 1,
   "nav_menu": {},
   "number_sections": true,
   "sideBar": true,
   "skip_h1_title": true,
   "title_cell": "Table of Contents",
   "title_sidebar": "Contents",
   "toc_cell": false,
   "toc_position": {},
   "toc_section_display": true,
   "toc_window_display": false
  }
 },
 "nbformat": 4,
 "nbformat_minor": 2
}