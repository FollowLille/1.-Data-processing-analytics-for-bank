{
 "cells": [
  {
   "cell_type": "markdown",
   "metadata": {},
   "source": [
    "## Описание проекта\n",
    "\n",
    "Компания «Чётенькое такси» собрала исторические данные о заказах такси в аэропортах. Чтобы привлекать больше водителей в период пиковой нагрузки, нужно спрогнозировать количество заказов такси на следующий час. Постройте модель для такого предсказания.\n",
    "\n",
    "Значение метрики *RMSE* на тестовой выборке должно быть не больше 48.\n",
    "\n",
    "### Инструкция по выполнению проекта\n",
    "\n",
    "1. Загрузите данные и выполните их ресемплирование по одному часу.\n",
    "2. Проанализируйте данные.\n",
    "3. Обучите разные модели с различными гиперпараметрами. Сделайте тестовую выборку размером 10% от исходных данных.\n",
    "4. Проверьте данные на тестовой выборке и сделайте выводы.\n",
    "\n",
    "### Описание данных\n",
    "\n",
    "Данные лежат в файле `taxi.csv`. Количество заказов находится в столбце '*num_orders*' (от англ. *number of orders*, «число заказов»)."
   ]
  },
  {
   "cell_type": "markdown",
   "metadata": {},
   "source": [
    "# План работы:\n",
    "\n",
    "1) [Подготовка.](#id_1)\n",
    "\n",
    "2) [Анализ.](#id_2)\n",
    "\n",
    "3) [Подбор гиперпараметров.](#id_3)\n",
    "\n",
    "4) [Проверка моделей, общий вывод.](#id_4)"
   ]
  },
  {
   "cell_type": "markdown",
   "metadata": {},
   "source": [
    "<a id='id_1'></a>\n",
    "# 1. Подготовка"
   ]
  },
  {
   "cell_type": "code",
   "execution_count": 1,
   "metadata": {},
   "outputs": [],
   "source": [
    "# Загружаем все необходимые библиотеки\n",
    "import pandas as pd\n",
    "import numpy as np\n",
    "from sklearn.model_selection import train_test_split\n",
    "from sklearn.linear_model import LinearRegression\n",
    "from catboost import CatBoostRegressor\n",
    "from sklearn.tree import DecisionTreeRegressor\n",
    "from sklearn.ensemble import RandomForestRegressor\n",
    "from sklearn.metrics import mean_squared_error"
   ]
  },
  {
   "cell_type": "code",
   "execution_count": 2,
   "metadata": {},
   "outputs": [
    {
     "name": "stdout",
     "output_type": "stream",
     "text": [
      "<class 'pandas.core.frame.DataFrame'>\n",
      "DatetimeIndex: 26496 entries, 2018-03-01 00:00:00 to 2018-08-31 23:50:00\n",
      "Data columns (total 1 columns):\n",
      "num_orders    26496 non-null int64\n",
      "dtypes: int64(1)\n",
      "memory usage: 414.0 KB\n"
     ]
    }
   ],
   "source": [
    "# Загружаем данные\n",
    "data = pd.read_csv('/datasets/taxi.csv', index_col=[0], parse_dates=[0])\n",
    "data.sort_index(inplace=True)\n",
    "data.info()"
   ]
  },
  {
   "cell_type": "code",
   "execution_count": 3,
   "metadata": {},
   "outputs": [
    {
     "name": "stdout",
     "output_type": "stream",
     "text": [
      "<class 'pandas.core.frame.DataFrame'>\n",
      "DatetimeIndex: 4416 entries, 2018-03-01 00:00:00 to 2018-08-31 23:00:00\n",
      "Freq: H\n",
      "Data columns (total 1 columns):\n",
      "num_orders    4416 non-null int64\n",
      "dtypes: int64(1)\n",
      "memory usage: 69.0 KB\n"
     ]
    }
   ],
   "source": [
    "# Итого у нас 26496 значений от 1 марта до 31 августа (сезон весна-лето)\n",
    "# Для удобства объединим значения в периоды 1 час\n",
    "data = data.resample('1H').sum()\n",
    "data.info()"
   ]
  },
  {
   "cell_type": "markdown",
   "metadata": {},
   "source": [
    "<a id='id_2'></a>\n",
    "# 2. Анализ"
   ]
  },
  {
   "cell_type": "code",
   "execution_count": 4,
   "metadata": {},
   "outputs": [
    {
     "name": "stdout",
     "output_type": "stream",
     "text": [
      "<class 'pandas.core.frame.DataFrame'>\n",
      "DatetimeIndex: 4416 entries, 2018-03-01 00:00:00 to 2018-08-31 23:00:00\n",
      "Freq: H\n",
      "Data columns (total 1 columns):\n",
      "num_orders    4416 non-null int64\n",
      "dtypes: int64(1)\n",
      "memory usage: 69.0 KB\n"
     ]
    },
    {
     "data": {
      "text/html": [
       "<div>\n",
       "<style scoped>\n",
       "    .dataframe tbody tr th:only-of-type {\n",
       "        vertical-align: middle;\n",
       "    }\n",
       "\n",
       "    .dataframe tbody tr th {\n",
       "        vertical-align: top;\n",
       "    }\n",
       "\n",
       "    .dataframe thead th {\n",
       "        text-align: right;\n",
       "    }\n",
       "</style>\n",
       "<table border=\"1\" class=\"dataframe\">\n",
       "  <thead>\n",
       "    <tr style=\"text-align: right;\">\n",
       "      <th></th>\n",
       "      <th>num_orders</th>\n",
       "    </tr>\n",
       "    <tr>\n",
       "      <th>datetime</th>\n",
       "      <th></th>\n",
       "    </tr>\n",
       "  </thead>\n",
       "  <tbody>\n",
       "    <tr>\n",
       "      <td>2018-03-01 00:00:00</td>\n",
       "      <td>124</td>\n",
       "    </tr>\n",
       "    <tr>\n",
       "      <td>2018-03-01 01:00:00</td>\n",
       "      <td>85</td>\n",
       "    </tr>\n",
       "    <tr>\n",
       "      <td>2018-03-01 02:00:00</td>\n",
       "      <td>71</td>\n",
       "    </tr>\n",
       "    <tr>\n",
       "      <td>2018-03-01 03:00:00</td>\n",
       "      <td>66</td>\n",
       "    </tr>\n",
       "    <tr>\n",
       "      <td>2018-03-01 04:00:00</td>\n",
       "      <td>43</td>\n",
       "    </tr>\n",
       "  </tbody>\n",
       "</table>\n",
       "</div>"
      ],
      "text/plain": [
       "                     num_orders\n",
       "datetime                       \n",
       "2018-03-01 00:00:00         124\n",
       "2018-03-01 01:00:00          85\n",
       "2018-03-01 02:00:00          71\n",
       "2018-03-01 03:00:00          66\n",
       "2018-03-01 04:00:00          43"
      ]
     },
     "execution_count": 4,
     "metadata": {},
     "output_type": "execute_result"
    }
   ],
   "source": [
    "data.info()\n",
    "data.head(5)"
   ]
  },
  {
   "cell_type": "markdown",
   "metadata": {},
   "source": [
    "Итого у нас 4393 значения. Временные промежутки - 1 час. Данные идут от 1 марта до 31 августа.\n",
    "Создадим график для последующего анализа."
   ]
  },
  {
   "cell_type": "code",
   "execution_count": 5,
   "metadata": {},
   "outputs": [
    {
     "data": {
      "text/plain": [
       "<matplotlib.axes._subplots.AxesSubplot at 0x7fc50e73fed0>"
      ]
     },
     "execution_count": 5,
     "metadata": {},
     "output_type": "execute_result"
    },
    {
     "data": {
      "image/png": "[encoded data removed]",
      "text/plain": [
       "<Figure size 432x288 with 1 Axes>"
      ]
     },
     "metadata": {
      "needs_background": "light"
     },
     "output_type": "display_data"
    }
   ],
   "source": [
    "data.plot()"
   ]
  },
  {
   "cell_type": "code",
   "execution_count": 6,
   "metadata": {},
   "outputs": [
    {
     "data": {
      "text/plain": [
       "Int64Index([2, 2, 2, 2, 2, 2, 2, 2, 2, 2, 2, 2, 2, 2, 2, 2, 2, 2, 2, 2, 2, 2,\n",
       "            2, 2],\n",
       "           dtype='int64', name='datetime')"
      ]
     },
     "execution_count": 6,
     "metadata": {},
     "output_type": "execute_result"
    },
    {
     "data": {
      "image/png": "[encoded data removed]",
      "text/plain": [
       "<Figure size 432x288 with 1 Axes>"
      ]
     },
     "metadata": {
      "needs_background": "light"
     },
     "output_type": "display_data"
    }
   ],
   "source": [
    "# Количество заказов с каждым месяцем увеличивается, но если смотреть внутри промежутков - количество заказов скачет\n",
    "# Попробуем сделать срез\n",
    "data['2018-03-14':'2018-03-31'].plot()\n",
    "data['2018-03-14'].index.dayofweek\n"
   ]
  },
  {
   "cell_type": "markdown",
   "metadata": {},
   "source": [
    "14 марта - среда. Как можно заметить - в течении недели с понедельника по пятницу количество заказов растет (самый пик выпадает на пятницу), после чего виден спад заказов к выходным."
   ]
  },
  {
   "cell_type": "markdown",
   "metadata": {},
   "source": [
    "<a id='id_3'></a>\n",
    "# 3. Обучение"
   ]
  },
  {
   "cell_type": "code",
   "execution_count": 7,
   "metadata": {},
   "outputs": [],
   "source": [
    "# Для начала создадим признаки, при помощи которых мы сможем обучить модель.\n",
    "data['month'] = data.index.month\n",
    "data['day'] = data.index.day\n",
    "data['hour'] = data.index.hour\n",
    "data['dayofweek'] = data.index.dayofweek\n",
    "\n",
    "for lag in range(1, 4):\n",
    "    data['lag_{}'.format(lag)] = data['num_orders'].shift(lag)\n",
    "data['rolling_mean'] = data['num_orders'].shift().rolling(4).mean()\n",
    "train, test = train_test_split(data, shuffle=False, test_size=0.1)\n",
    "train = train.dropna()\n",
    "    \n",
    "features_train = train.drop(['num_orders'], axis=1)\n",
    "target_train = train['num_orders']\n",
    "    \n",
    "features_test = test.drop(['num_orders'], axis=1)\n",
    "target_test = test['num_orders']"
   ]
  },
  {
   "cell_type": "code",
   "execution_count": null,
   "metadata": {},
   "outputs": [],
   "source": []
  },
  {
   "cell_type": "markdown",
   "metadata": {},
   "source": [
    "## 3.1 LinearRegression"
   ]
  },
  {
   "cell_type": "code",
   "execution_count": 8,
   "metadata": {},
   "outputs": [
    {
     "data": {
      "text/plain": [
       "30.500374252442192"
      ]
     },
     "execution_count": 8,
     "metadata": {},
     "output_type": "execute_result"
    }
   ],
   "source": [
    "linear = LinearRegression()\n",
    "linear.fit(features_train, target_train)\n",
    "linear_predict = linear.predict(features_train)\n",
    "RMSE = mean_squared_error(target_train, linear_predict)**0.5\n",
    "RMSE"
   ]
  },
  {
   "cell_type": "markdown",
   "metadata": {},
   "source": [
    "## 3.2 CatBoost"
   ]
  },
  {
   "cell_type": "code",
   "execution_count": 9,
   "metadata": {},
   "outputs": [
    {
     "name": "stdout",
     "output_type": "stream",
     "text": [
      "0:\tlearn: 38.1253179\ttotal: 49.6ms\tremaining: 6.54s\n",
      "1:\tlearn: 37.5982130\ttotal: 51.7ms\tremaining: 3.39s\n",
      "2:\tlearn: 37.1253851\ttotal: 53.7ms\tremaining: 2.33s\n",
      "3:\tlearn: 36.6685172\ttotal: 55.5ms\tremaining: 1.79s\n",
      "4:\tlearn: 36.2210685\ttotal: 57.5ms\tremaining: 1.47s\n",
      "5:\tlearn: 35.7460890\ttotal: 67.3ms\tremaining: 1.42s\n",
      "6:\tlearn: 35.2666070\ttotal: 69.3ms\tremaining: 1.25s\n",
      "7:\tlearn: 34.9167243\ttotal: 71.1ms\tremaining: 1.11s\n",
      "8:\tlearn: 34.5843621\ttotal: 75.1ms\tremaining: 1.03s\n",
      "9:\tlearn: 34.2614992\ttotal: 77.8ms\tremaining: 957ms\n",
      "10:\tlearn: 33.8378601\ttotal: 84.9ms\tremaining: 941ms\n",
      "11:\tlearn: 33.4983146\ttotal: 166ms\tremaining: 1.67s\n",
      "12:\tlearn: 33.1633616\ttotal: 168ms\tremaining: 1.55s\n",
      "13:\tlearn: 32.8135355\ttotal: 170ms\tremaining: 1.44s\n",
      "14:\tlearn: 32.4844819\ttotal: 173ms\tremaining: 1.36s\n",
      "15:\tlearn: 32.1788539\ttotal: 180ms\tremaining: 1.31s\n",
      "16:\tlearn: 31.9415086\ttotal: 263ms\tremaining: 1.79s\n",
      "17:\tlearn: 31.6455152\ttotal: 265ms\tremaining: 1.69s\n",
      "18:\tlearn: 31.3816153\ttotal: 267ms\tremaining: 1.6s\n",
      "19:\tlearn: 31.0884003\ttotal: 269ms\tremaining: 1.52s\n",
      "20:\tlearn: 30.8103361\ttotal: 276ms\tremaining: 1.47s\n",
      "21:\tlearn: 30.5709029\ttotal: 283ms\tremaining: 1.43s\n",
      "22:\tlearn: 30.3425375\ttotal: 360ms\tremaining: 1.72s\n",
      "23:\tlearn: 30.0831634\ttotal: 362ms\tremaining: 1.64s\n",
      "24:\tlearn: 29.8585410\ttotal: 364ms\tremaining: 1.57s\n",
      "25:\tlearn: 29.6590113\ttotal: 366ms\tremaining: 1.5s\n",
      "26:\tlearn: 29.4445198\ttotal: 373ms\tremaining: 1.46s\n",
      "27:\tlearn: 29.2919600\ttotal: 457ms\tremaining: 1.71s\n",
      "28:\tlearn: 29.1004001\ttotal: 460ms\tremaining: 1.65s\n",
      "29:\tlearn: 28.8943689\ttotal: 463ms\tremaining: 1.59s\n",
      "30:\tlearn: 28.7235090\ttotal: 464ms\tremaining: 1.53s\n",
      "31:\tlearn: 28.5568225\ttotal: 466ms\tremaining: 1.47s\n",
      "32:\tlearn: 28.4103755\ttotal: 554ms\tremaining: 1.68s\n",
      "33:\tlearn: 28.2636974\ttotal: 555ms\tremaining: 1.62s\n",
      "34:\tlearn: 28.1511581\ttotal: 557ms\tremaining: 1.56s\n",
      "35:\tlearn: 27.9833305\ttotal: 559ms\tremaining: 1.51s\n",
      "36:\tlearn: 27.8200823\ttotal: 561ms\tremaining: 1.46s\n",
      "37:\tlearn: 27.6797402\ttotal: 563ms\tremaining: 1.41s\n",
      "38:\tlearn: 27.5573142\ttotal: 651ms\tremaining: 1.57s\n",
      "39:\tlearn: 27.4394598\ttotal: 653ms\tremaining: 1.52s\n",
      "40:\tlearn: 27.3120396\ttotal: 655ms\tremaining: 1.47s\n",
      "41:\tlearn: 27.2028129\ttotal: 661ms\tremaining: 1.43s\n",
      "42:\tlearn: 27.0657980\ttotal: 665ms\tremaining: 1.39s\n",
      "43:\tlearn: 26.9644894\ttotal: 749ms\tremaining: 1.51s\n",
      "44:\tlearn: 26.8484924\ttotal: 751ms\tremaining: 1.47s\n",
      "45:\tlearn: 26.7139175\ttotal: 753ms\tremaining: 1.42s\n",
      "46:\tlearn: 26.6350489\ttotal: 755ms\tremaining: 1.38s\n",
      "47:\tlearn: 26.5232855\ttotal: 757ms\tremaining: 1.34s\n",
      "48:\tlearn: 26.4230224\ttotal: 846ms\tremaining: 1.45s\n",
      "49:\tlearn: 26.3329548\ttotal: 848ms\tremaining: 1.41s\n",
      "50:\tlearn: 26.2335354\ttotal: 850ms\tremaining: 1.37s\n",
      "51:\tlearn: 26.1584197\ttotal: 852ms\tremaining: 1.33s\n",
      "52:\tlearn: 26.0948725\ttotal: 856ms\tremaining: 1.29s\n",
      "53:\tlearn: 26.0216904\ttotal: 944ms\tremaining: 1.38s\n",
      "54:\tlearn: 25.9447082\ttotal: 946ms\tremaining: 1.34s\n",
      "55:\tlearn: 25.8764431\ttotal: 947ms\tremaining: 1.3s\n",
      "56:\tlearn: 25.8168264\ttotal: 949ms\tremaining: 1.26s\n",
      "57:\tlearn: 25.7492678\ttotal: 951ms\tremaining: 1.23s\n",
      "58:\tlearn: 25.6829358\ttotal: 953ms\tremaining: 1.2s\n",
      "59:\tlearn: 25.6123776\ttotal: 1.04s\tremaining: 1.26s\n",
      "60:\tlearn: 25.5457500\ttotal: 1.04s\tremaining: 1.23s\n",
      "61:\tlearn: 25.4714856\ttotal: 1.04s\tremaining: 1.2s\n",
      "62:\tlearn: 25.4193149\ttotal: 1.05s\tremaining: 1.16s\n",
      "63:\tlearn: 25.3427158\ttotal: 1.05s\tremaining: 1.13s\n",
      "64:\tlearn: 25.2890301\ttotal: 1.05s\tremaining: 1.1s\n",
      "65:\tlearn: 25.2330977\ttotal: 1.14s\tremaining: 1.16s\n",
      "66:\tlearn: 25.1638005\ttotal: 1.14s\tremaining: 1.12s\n",
      "67:\tlearn: 25.1112814\ttotal: 1.14s\tremaining: 1.09s\n",
      "68:\tlearn: 25.0795679\ttotal: 1.14s\tremaining: 1.06s\n",
      "69:\tlearn: 25.0258366\ttotal: 1.15s\tremaining: 1.03s\n",
      "70:\tlearn: 24.9795809\ttotal: 1.23s\tremaining: 1.08s\n",
      "71:\tlearn: 24.9684479\ttotal: 1.24s\tremaining: 1.05s\n",
      "72:\tlearn: 24.9126749\ttotal: 1.24s\tremaining: 1.02s\n",
      "73:\tlearn: 24.8618788\ttotal: 1.24s\tremaining: 988ms\n",
      "74:\tlearn: 24.8093100\ttotal: 1.24s\tremaining: 960ms\n",
      "75:\tlearn: 24.7583015\ttotal: 1.24s\tremaining: 932ms\n",
      "76:\tlearn: 24.7024899\ttotal: 1.33s\tremaining: 969ms\n",
      "77:\tlearn: 24.6594698\ttotal: 1.33s\tremaining: 941ms\n",
      "78:\tlearn: 24.6315221\ttotal: 1.33s\tremaining: 913ms\n",
      "79:\tlearn: 24.5818010\ttotal: 1.34s\tremaining: 886ms\n",
      "80:\tlearn: 24.5396848\ttotal: 1.34s\tremaining: 860ms\n",
      "81:\tlearn: 24.4938018\ttotal: 1.34s\tremaining: 835ms\n",
      "82:\tlearn: 24.4517428\ttotal: 1.43s\tremaining: 861ms\n",
      "83:\tlearn: 24.4110653\ttotal: 1.43s\tremaining: 835ms\n",
      "84:\tlearn: 24.3748025\ttotal: 1.43s\tremaining: 810ms\n",
      "85:\tlearn: 24.3495891\ttotal: 1.44s\tremaining: 784ms\n",
      "86:\tlearn: 24.3073118\ttotal: 1.44s\tremaining: 760ms\n",
      "87:\tlearn: 24.2522311\ttotal: 1.44s\tremaining: 736ms\n",
      "88:\tlearn: 24.1919081\ttotal: 1.45s\tremaining: 715ms\n",
      "89:\tlearn: 24.1467195\ttotal: 1.53s\tremaining: 729ms\n",
      "90:\tlearn: 24.1012753\ttotal: 1.53s\tremaining: 706ms\n",
      "91:\tlearn: 24.0748431\ttotal: 1.53s\tremaining: 683ms\n",
      "92:\tlearn: 24.0696394\ttotal: 1.53s\tremaining: 660ms\n",
      "93:\tlearn: 24.0499640\ttotal: 1.54s\tremaining: 639ms\n",
      "94:\tlearn: 24.0216278\ttotal: 1.62s\tremaining: 650ms\n",
      "95:\tlearn: 23.9880644\ttotal: 1.63s\tremaining: 627ms\n",
      "96:\tlearn: 23.9765173\ttotal: 1.63s\tremaining: 605ms\n",
      "97:\tlearn: 23.9463580\ttotal: 1.63s\tremaining: 583ms\n",
      "98:\tlearn: 23.9347103\ttotal: 1.63s\tremaining: 561ms\n",
      "99:\tlearn: 23.9307027\ttotal: 1.64s\tremaining: 541ms\n",
      "100:\tlearn: 23.9239495\ttotal: 1.72s\tremaining: 545ms\n",
      "101:\tlearn: 23.9193738\ttotal: 1.72s\tremaining: 524ms\n",
      "102:\tlearn: 23.9069946\ttotal: 1.73s\tremaining: 503ms\n",
      "103:\tlearn: 23.8538757\ttotal: 1.73s\tremaining: 482ms\n",
      "104:\tlearn: 23.8384867\ttotal: 1.74s\tremaining: 464ms\n",
      "105:\tlearn: 23.7770782\ttotal: 1.82s\tremaining: 463ms\n",
      "106:\tlearn: 23.7562734\ttotal: 1.82s\tremaining: 443ms\n",
      "107:\tlearn: 23.7441737\ttotal: 1.82s\tremaining: 422ms\n",
      "108:\tlearn: 23.6908382\ttotal: 1.82s\tremaining: 402ms\n",
      "109:\tlearn: 23.6710980\ttotal: 1.83s\tremaining: 382ms\n",
      "110:\tlearn: 23.6598780\ttotal: 1.84s\tremaining: 365ms\n",
      "111:\tlearn: 23.6279333\ttotal: 1.91s\tremaining: 359ms\n",
      "112:\tlearn: 23.5894650\ttotal: 1.92s\tremaining: 339ms\n",
      "113:\tlearn: 23.5851593\ttotal: 1.92s\tremaining: 320ms\n",
      "114:\tlearn: 23.5799701\ttotal: 1.92s\tremaining: 300ms\n",
      "115:\tlearn: 23.5485128\ttotal: 2.01s\tremaining: 294ms\n",
      "116:\tlearn: 23.5026426\ttotal: 2.01s\tremaining: 275ms\n",
      "117:\tlearn: 23.4638098\ttotal: 2.01s\tremaining: 256ms\n",
      "118:\tlearn: 23.4517529\ttotal: 2.02s\tremaining: 237ms\n",
      "119:\tlearn: 23.4103420\ttotal: 2.02s\tremaining: 219ms\n",
      "120:\tlearn: 23.3798436\ttotal: 2.1s\tremaining: 209ms\n",
      "121:\tlearn: 23.3624675\ttotal: 2.11s\tremaining: 190ms\n",
      "122:\tlearn: 23.3341303\ttotal: 2.11s\tremaining: 171ms\n",
      "123:\tlearn: 23.2863892\ttotal: 2.11s\tremaining: 153ms\n",
      "124:\tlearn: 23.2824556\ttotal: 2.11s\tremaining: 135ms\n",
      "125:\tlearn: 23.2687471\ttotal: 2.12s\tremaining: 118ms\n",
      "126:\tlearn: 23.2504014\ttotal: 2.2s\tremaining: 104ms\n",
      "127:\tlearn: 23.2329051\ttotal: 2.2s\tremaining: 86.1ms\n",
      "128:\tlearn: 23.2053810\ttotal: 2.21s\tremaining: 68.4ms\n",
      "129:\tlearn: 23.1952495\ttotal: 2.21s\tremaining: 50.9ms\n",
      "130:\tlearn: 23.1623289\ttotal: 2.21s\tremaining: 33.7ms\n",
      "131:\tlearn: 23.1297076\ttotal: 2.22s\tremaining: 16.8ms\n",
      "132:\tlearn: 23.1009631\ttotal: 2.3s\tremaining: 0us\n"
     ]
    },
    {
     "data": {
      "text/plain": [
       "23.100963067322716"
      ]
     },
     "execution_count": 9,
     "metadata": {},
     "output_type": "execute_result"
    }
   ],
   "source": [
    "cat=CatBoostRegressor(iterations=133)\n",
    "cat.fit(features_train, target_train)\n",
    "predict=cat.predict(features_train)\n",
    "RMSE=mean_squared_error(target_train, predict)**0.5\n",
    "RMSE"
   ]
  },
  {
   "cell_type": "code",
   "execution_count": 10,
   "metadata": {},
   "outputs": [
    {
     "name": "stdout",
     "output_type": "stream",
     "text": [
      "0:\tlearn: 38.1179885\ttotal: 103ms\tremaining: 13.6s\n",
      "1:\tlearn: 37.5937766\ttotal: 122ms\tremaining: 7.97s\n",
      "2:\tlearn: 37.0657038\ttotal: 215ms\tremaining: 9.31s\n",
      "3:\tlearn: 36.6094539\ttotal: 307ms\tremaining: 9.9s\n",
      "4:\tlearn: 36.0734963\ttotal: 408ms\tremaining: 10.5s\n",
      "5:\tlearn: 35.5847894\ttotal: 500ms\tremaining: 10.6s\n",
      "6:\tlearn: 35.1191560\ttotal: 513ms\tremaining: 9.23s\n",
      "7:\tlearn: 34.7169580\ttotal: 610ms\tremaining: 9.53s\n",
      "8:\tlearn: 34.2560787\ttotal: 700ms\tremaining: 9.64s\n",
      "9:\tlearn: 33.8052477\ttotal: 714ms\tremaining: 8.78s\n",
      "10:\tlearn: 33.3836593\ttotal: 808ms\tremaining: 8.96s\n",
      "11:\tlearn: 32.9728657\ttotal: 906ms\tremaining: 9.14s\n",
      "12:\tlearn: 32.5820773\ttotal: 1s\tremaining: 9.25s\n",
      "13:\tlearn: 32.2221280\ttotal: 1.09s\tremaining: 9.31s\n",
      "14:\tlearn: 31.9284644\ttotal: 1.19s\tremaining: 9.36s\n",
      "15:\tlearn: 31.5785348\ttotal: 1.21s\tremaining: 8.82s\n",
      "16:\tlearn: 31.2653492\ttotal: 1.3s\tremaining: 8.89s\n",
      "17:\tlearn: 30.9835721\ttotal: 1.4s\tremaining: 8.94s\n",
      "18:\tlearn: 30.6680381\ttotal: 1.5s\tremaining: 8.98s\n",
      "19:\tlearn: 30.3698592\ttotal: 1.5s\tremaining: 8.48s\n",
      "20:\tlearn: 30.0863149\ttotal: 1.6s\tremaining: 8.53s\n",
      "21:\tlearn: 29.7808105\ttotal: 1.69s\tremaining: 8.55s\n",
      "22:\tlearn: 29.5143471\ttotal: 1.79s\tremaining: 8.55s\n",
      "23:\tlearn: 29.2399665\ttotal: 1.8s\tremaining: 8.18s\n",
      "24:\tlearn: 28.9747147\ttotal: 1.9s\tremaining: 8.19s\n",
      "25:\tlearn: 28.7441890\ttotal: 1.99s\tremaining: 8.21s\n",
      "26:\tlearn: 28.5172056\ttotal: 2.09s\tremaining: 8.21s\n",
      "27:\tlearn: 28.2772710\ttotal: 2.18s\tremaining: 8.18s\n",
      "28:\tlearn: 28.0426090\ttotal: 2.28s\tremaining: 8.17s\n",
      "29:\tlearn: 27.7920344\ttotal: 2.29s\tremaining: 7.88s\n",
      "30:\tlearn: 27.5793237\ttotal: 2.39s\tremaining: 7.87s\n",
      "31:\tlearn: 27.3654884\ttotal: 2.49s\tremaining: 7.85s\n",
      "32:\tlearn: 27.1779985\ttotal: 2.58s\tremaining: 7.81s\n",
      "33:\tlearn: 26.9664744\ttotal: 2.59s\tremaining: 7.54s\n",
      "34:\tlearn: 26.7863701\ttotal: 2.69s\tremaining: 7.53s\n",
      "35:\tlearn: 26.6480213\ttotal: 2.79s\tremaining: 7.51s\n",
      "36:\tlearn: 26.4792912\ttotal: 2.88s\tremaining: 7.48s\n",
      "37:\tlearn: 26.3201819\ttotal: 2.97s\tremaining: 7.43s\n",
      "38:\tlearn: 26.1493667\ttotal: 3.07s\tremaining: 7.4s\n",
      "39:\tlearn: 25.9866377\ttotal: 3.1s\tremaining: 7.21s\n",
      "40:\tlearn: 25.8273419\ttotal: 3.2s\tremaining: 7.17s\n",
      "41:\tlearn: 25.6877570\ttotal: 3.28s\tremaining: 7.11s\n",
      "42:\tlearn: 25.5602886\ttotal: 3.38s\tremaining: 7.07s\n",
      "43:\tlearn: 25.4337301\ttotal: 3.48s\tremaining: 7.04s\n",
      "44:\tlearn: 25.3205459\ttotal: 3.58s\tremaining: 7s\n",
      "45:\tlearn: 25.2468449\ttotal: 3.58s\tremaining: 6.77s\n",
      "46:\tlearn: 25.1269930\ttotal: 3.67s\tremaining: 6.72s\n",
      "47:\tlearn: 24.9894772\ttotal: 3.78s\tremaining: 6.69s\n",
      "48:\tlearn: 24.8838972\ttotal: 3.79s\tremaining: 6.49s\n",
      "49:\tlearn: 24.7610438\ttotal: 3.88s\tremaining: 6.44s\n",
      "50:\tlearn: 24.6459737\ttotal: 3.97s\tremaining: 6.39s\n",
      "51:\tlearn: 24.5381890\ttotal: 4.07s\tremaining: 6.34s\n",
      "52:\tlearn: 24.4084694\ttotal: 4.16s\tremaining: 6.28s\n",
      "53:\tlearn: 24.2883473\ttotal: 4.18s\tremaining: 6.11s\n",
      "54:\tlearn: 24.1691918\ttotal: 4.28s\tremaining: 6.06s\n",
      "55:\tlearn: 24.0508726\ttotal: 4.37s\tremaining: 6.01s\n",
      "56:\tlearn: 23.9291077\ttotal: 4.47s\tremaining: 5.96s\n",
      "57:\tlearn: 23.7991440\ttotal: 4.56s\tremaining: 5.9s\n",
      "58:\tlearn: 23.7048941\ttotal: 4.58s\tremaining: 5.74s\n",
      "59:\tlearn: 23.6097730\ttotal: 4.59s\tremaining: 5.59s\n",
      "60:\tlearn: 23.5130512\ttotal: 4.69s\tremaining: 5.54s\n",
      "61:\tlearn: 23.4135474\ttotal: 4.79s\tremaining: 5.48s\n",
      "62:\tlearn: 23.3208294\ttotal: 4.88s\tremaining: 5.42s\n",
      "63:\tlearn: 23.2234799\ttotal: 4.98s\tremaining: 5.36s\n",
      "64:\tlearn: 23.1248815\ttotal: 4.99s\tremaining: 5.22s\n",
      "65:\tlearn: 23.0544969\ttotal: 5.09s\tremaining: 5.17s\n",
      "66:\tlearn: 22.9958547\ttotal: 5.18s\tremaining: 5.11s\n",
      "67:\tlearn: 22.9179236\ttotal: 5.28s\tremaining: 5.04s\n",
      "68:\tlearn: 22.8368683\ttotal: 5.29s\tremaining: 4.91s\n",
      "69:\tlearn: 22.7751860\ttotal: 5.39s\tremaining: 4.85s\n",
      "70:\tlearn: 22.7161199\ttotal: 5.48s\tremaining: 4.79s\n",
      "71:\tlearn: 22.6180066\ttotal: 5.58s\tremaining: 4.72s\n",
      "72:\tlearn: 22.5377960\ttotal: 5.67s\tremaining: 4.66s\n",
      "73:\tlearn: 22.4805273\ttotal: 5.77s\tremaining: 4.6s\n",
      "74:\tlearn: 22.4133268\ttotal: 5.78s\tremaining: 4.47s\n",
      "75:\tlearn: 22.3404910\ttotal: 5.88s\tremaining: 4.41s\n",
      "76:\tlearn: 22.2815965\ttotal: 5.97s\tremaining: 4.34s\n",
      "77:\tlearn: 22.2325055\ttotal: 5.99s\tremaining: 4.22s\n",
      "78:\tlearn: 22.1689667\ttotal: 6.08s\tremaining: 4.15s\n",
      "79:\tlearn: 22.1185046\ttotal: 6.17s\tremaining: 4.09s\n",
      "80:\tlearn: 22.0625601\ttotal: 6.26s\tremaining: 4.02s\n",
      "81:\tlearn: 22.0032677\ttotal: 6.28s\tremaining: 3.9s\n",
      "82:\tlearn: 21.9322723\ttotal: 6.38s\tremaining: 3.84s\n",
      "83:\tlearn: 21.8794529\ttotal: 6.47s\tremaining: 3.78s\n",
      "84:\tlearn: 21.8376869\ttotal: 6.57s\tremaining: 3.71s\n",
      "85:\tlearn: 21.7916412\ttotal: 6.67s\tremaining: 3.64s\n",
      "86:\tlearn: 21.7608701\ttotal: 6.76s\tremaining: 3.57s\n",
      "87:\tlearn: 21.7091618\ttotal: 6.77s\tremaining: 3.46s\n",
      "88:\tlearn: 21.6786202\ttotal: 6.87s\tremaining: 3.4s\n",
      "89:\tlearn: 21.6177149\ttotal: 6.96s\tremaining: 3.33s\n",
      "90:\tlearn: 21.5663927\ttotal: 7.05s\tremaining: 3.26s\n",
      "91:\tlearn: 21.5216780\ttotal: 7.07s\tremaining: 3.15s\n",
      "92:\tlearn: 21.4606811\ttotal: 7.17s\tremaining: 3.08s\n",
      "93:\tlearn: 21.4157659\ttotal: 7.26s\tremaining: 3.01s\n",
      "94:\tlearn: 21.3674641\ttotal: 7.36s\tremaining: 2.94s\n",
      "95:\tlearn: 21.3000468\ttotal: 7.37s\tremaining: 2.84s\n",
      "96:\tlearn: 21.2490254\ttotal: 7.47s\tremaining: 2.77s\n",
      "97:\tlearn: 21.2149119\ttotal: 7.57s\tremaining: 2.7s\n",
      "98:\tlearn: 21.1660140\ttotal: 7.66s\tremaining: 2.63s\n",
      "99:\tlearn: 21.1329711\ttotal: 7.76s\tremaining: 2.56s\n",
      "100:\tlearn: 21.1021440\ttotal: 7.85s\tremaining: 2.49s\n",
      "101:\tlearn: 21.0940567\ttotal: 7.85s\tremaining: 2.39s\n",
      "102:\tlearn: 21.0493693\ttotal: 7.95s\tremaining: 2.31s\n",
      "103:\tlearn: 21.0066974\ttotal: 7.96s\tremaining: 2.22s\n",
      "104:\tlearn: 20.9646079\ttotal: 8.05s\tremaining: 2.15s\n",
      "105:\tlearn: 20.9317370\ttotal: 8.15s\tremaining: 2.08s\n",
      "106:\tlearn: 20.8850473\ttotal: 8.24s\tremaining: 2s\n",
      "107:\tlearn: 20.8415230\ttotal: 8.34s\tremaining: 1.93s\n",
      "108:\tlearn: 20.8007682\ttotal: 8.43s\tremaining: 1.86s\n",
      "109:\tlearn: 20.7685919\ttotal: 8.45s\tremaining: 1.77s\n",
      "110:\tlearn: 20.7321610\ttotal: 8.54s\tremaining: 1.69s\n",
      "111:\tlearn: 20.6793337\ttotal: 8.63s\tremaining: 1.62s\n",
      "112:\tlearn: 20.6330401\ttotal: 8.73s\tremaining: 1.54s\n",
      "113:\tlearn: 20.5894784\ttotal: 8.74s\tremaining: 1.46s\n",
      "114:\tlearn: 20.5372608\ttotal: 8.84s\tremaining: 1.38s\n",
      "115:\tlearn: 20.4975879\ttotal: 8.93s\tremaining: 1.31s\n",
      "116:\tlearn: 20.4672553\ttotal: 9.04s\tremaining: 1.24s\n",
      "117:\tlearn: 20.4305006\ttotal: 9.12s\tremaining: 1.16s\n",
      "118:\tlearn: 20.3946571\ttotal: 9.14s\tremaining: 1.07s\n",
      "119:\tlearn: 20.3615637\ttotal: 9.16s\tremaining: 992ms\n",
      "120:\tlearn: 20.3292167\ttotal: 9.26s\tremaining: 918ms\n",
      "121:\tlearn: 20.3257083\ttotal: 9.27s\tremaining: 835ms\n",
      "122:\tlearn: 20.2702549\ttotal: 9.35s\tremaining: 760ms\n",
      "123:\tlearn: 20.2382305\ttotal: 9.45s\tremaining: 686ms\n",
      "124:\tlearn: 20.2349388\ttotal: 9.45s\tremaining: 605ms\n",
      "125:\tlearn: 20.2013370\ttotal: 9.54s\tremaining: 530ms\n",
      "126:\tlearn: 20.1648491\ttotal: 9.64s\tremaining: 455ms\n",
      "127:\tlearn: 20.1455630\ttotal: 9.65s\tremaining: 377ms\n",
      "128:\tlearn: 20.1091589\ttotal: 9.75s\tremaining: 302ms\n",
      "129:\tlearn: 20.0743027\ttotal: 9.85s\tremaining: 227ms\n",
      "130:\tlearn: 20.0560136\ttotal: 9.94s\tremaining: 152ms\n",
      "131:\tlearn: 20.0321132\ttotal: 10s\tremaining: 76ms\n",
      "132:\tlearn: 20.0203686\ttotal: 10.1s\tremaining: 0us\n"
     ]
    },
    {
     "data": {
      "text/plain": [
       "20.02036860896065"
      ]
     },
     "execution_count": 10,
     "metadata": {},
     "output_type": "execute_result"
    }
   ],
   "source": [
    "# Оставляем значение 133\n",
    "cat=CatBoostRegressor(iterations=133, depth=11)\n",
    "cat.fit(features_train, target_train)\n",
    "predict=cat.predict(features_train)\n",
    "RMSE=mean_squared_error(target_train, predict)**0.5\n",
    "RMSE"
   ]
  },
  {
   "cell_type": "code",
   "execution_count": 11,
   "metadata": {},
   "outputs": [
    {
     "name": "stdout",
     "output_type": "stream",
     "text": [
      "0:\tlearn: 38.1179885\ttotal: 16.8ms\tremaining: 2.22s\n",
      "1:\tlearn: 37.5937766\ttotal: 75ms\tremaining: 4.91s\n",
      "2:\tlearn: 37.0657038\ttotal: 170ms\tremaining: 7.37s\n",
      "3:\tlearn: 36.6094539\ttotal: 263ms\tremaining: 8.47s\n",
      "4:\tlearn: 36.0734963\ttotal: 358ms\tremaining: 9.16s\n",
      "5:\tlearn: 35.5847894\ttotal: 375ms\tremaining: 7.95s\n",
      "6:\tlearn: 35.1191560\ttotal: 470ms\tremaining: 8.46s\n",
      "7:\tlearn: 34.7169580\ttotal: 568ms\tremaining: 8.87s\n",
      "8:\tlearn: 34.2560787\ttotal: 660ms\tremaining: 9.09s\n",
      "9:\tlearn: 33.8052477\ttotal: 757ms\tremaining: 9.31s\n",
      "10:\tlearn: 33.3836593\ttotal: 773ms\tremaining: 8.57s\n",
      "11:\tlearn: 32.9728657\ttotal: 868ms\tremaining: 8.75s\n",
      "12:\tlearn: 32.5820773\ttotal: 964ms\tremaining: 8.9s\n",
      "13:\tlearn: 32.2221280\ttotal: 1.06s\tremaining: 8.98s\n",
      "14:\tlearn: 31.9284644\ttotal: 1.15s\tremaining: 9.08s\n",
      "15:\tlearn: 31.5785348\ttotal: 1.25s\tremaining: 9.14s\n",
      "16:\tlearn: 31.2653492\ttotal: 1.27s\tremaining: 8.64s\n",
      "17:\tlearn: 30.9835721\ttotal: 1.37s\tremaining: 8.75s\n",
      "18:\tlearn: 30.6680381\ttotal: 1.46s\tremaining: 8.78s\n",
      "19:\tlearn: 30.3698592\ttotal: 1.55s\tremaining: 8.77s\n",
      "20:\tlearn: 30.0863149\ttotal: 1.57s\tremaining: 8.36s\n",
      "21:\tlearn: 29.7808105\ttotal: 1.66s\tremaining: 8.38s\n",
      "22:\tlearn: 29.5143471\ttotal: 1.76s\tremaining: 8.42s\n",
      "23:\tlearn: 29.2399665\ttotal: 1.86s\tremaining: 8.44s\n",
      "24:\tlearn: 28.9747147\ttotal: 1.95s\tremaining: 8.44s\n",
      "25:\tlearn: 28.7441890\ttotal: 2.04s\tremaining: 8.41s\n",
      "26:\tlearn: 28.5172056\ttotal: 2.06s\tremaining: 8.09s\n",
      "27:\tlearn: 28.2772710\ttotal: 2.16s\tremaining: 8.09s\n",
      "28:\tlearn: 28.0426090\ttotal: 2.25s\tremaining: 8.09s\n",
      "29:\tlearn: 27.7920344\ttotal: 2.35s\tremaining: 8.07s\n",
      "30:\tlearn: 27.5793237\ttotal: 2.44s\tremaining: 8.04s\n",
      "31:\tlearn: 27.3654884\ttotal: 2.54s\tremaining: 8.01s\n",
      "32:\tlearn: 27.1779985\ttotal: 2.64s\tremaining: 7.99s\n",
      "33:\tlearn: 26.9664744\ttotal: 2.65s\tremaining: 7.73s\n",
      "34:\tlearn: 26.7863701\ttotal: 2.75s\tremaining: 7.71s\n",
      "35:\tlearn: 26.6480213\ttotal: 2.85s\tremaining: 7.68s\n",
      "36:\tlearn: 26.4792912\ttotal: 2.94s\tremaining: 7.64s\n",
      "37:\tlearn: 26.3201819\ttotal: 3.03s\tremaining: 7.59s\n",
      "38:\tlearn: 26.1493667\ttotal: 3.05s\tremaining: 7.36s\n",
      "39:\tlearn: 25.9866377\ttotal: 3.14s\tremaining: 7.31s\n",
      "40:\tlearn: 25.8273419\ttotal: 3.24s\tremaining: 7.27s\n",
      "41:\tlearn: 25.6877570\ttotal: 3.34s\tremaining: 7.23s\n",
      "42:\tlearn: 25.5602886\ttotal: 3.43s\tremaining: 7.18s\n",
      "43:\tlearn: 25.4337301\ttotal: 3.44s\tremaining: 6.97s\n",
      "44:\tlearn: 25.3205459\ttotal: 3.54s\tremaining: 6.92s\n",
      "45:\tlearn: 25.2468449\ttotal: 3.54s\tremaining: 6.7s\n",
      "46:\tlearn: 25.1269930\ttotal: 3.64s\tremaining: 6.66s\n",
      "47:\tlearn: 24.9894772\ttotal: 3.74s\tremaining: 6.62s\n",
      "48:\tlearn: 24.8838972\ttotal: 3.83s\tremaining: 6.56s\n",
      "49:\tlearn: 24.7610438\ttotal: 3.92s\tremaining: 6.51s\n",
      "50:\tlearn: 24.6459737\ttotal: 3.94s\tremaining: 6.34s\n",
      "51:\tlearn: 24.5381890\ttotal: 4.04s\tremaining: 6.29s\n",
      "52:\tlearn: 24.4084694\ttotal: 4.13s\tremaining: 6.23s\n",
      "53:\tlearn: 24.2883473\ttotal: 4.22s\tremaining: 6.17s\n",
      "54:\tlearn: 24.1691918\ttotal: 4.24s\tremaining: 6.01s\n",
      "55:\tlearn: 24.0508726\ttotal: 4.33s\tremaining: 5.96s\n",
      "56:\tlearn: 23.9291077\ttotal: 4.43s\tremaining: 5.9s\n",
      "57:\tlearn: 23.7991440\ttotal: 4.52s\tremaining: 5.84s\n",
      "58:\tlearn: 23.7048941\ttotal: 4.54s\tremaining: 5.69s\n",
      "59:\tlearn: 23.6097730\ttotal: 4.63s\tremaining: 5.63s\n",
      "60:\tlearn: 23.5130512\ttotal: 4.73s\tremaining: 5.58s\n",
      "61:\tlearn: 23.4135474\ttotal: 4.82s\tremaining: 5.52s\n",
      "62:\tlearn: 23.3208294\ttotal: 4.92s\tremaining: 5.46s\n",
      "63:\tlearn: 23.2234799\ttotal: 5.01s\tremaining: 5.4s\n",
      "64:\tlearn: 23.1248815\ttotal: 5.03s\tremaining: 5.26s\n",
      "65:\tlearn: 23.0544969\ttotal: 5.12s\tremaining: 5.2s\n",
      "66:\tlearn: 22.9958547\ttotal: 5.22s\tremaining: 5.14s\n",
      "67:\tlearn: 22.9179236\ttotal: 5.32s\tremaining: 5.08s\n",
      "68:\tlearn: 22.8368683\ttotal: 5.41s\tremaining: 5.01s\n",
      "69:\tlearn: 22.7751860\ttotal: 5.42s\tremaining: 4.88s\n",
      "70:\tlearn: 22.7161199\ttotal: 5.52s\tremaining: 4.82s\n",
      "71:\tlearn: 22.6180066\ttotal: 5.61s\tremaining: 4.75s\n",
      "72:\tlearn: 22.5377960\ttotal: 5.71s\tremaining: 4.69s\n",
      "73:\tlearn: 22.4805273\ttotal: 5.81s\tremaining: 4.63s\n",
      "74:\tlearn: 22.4133268\ttotal: 5.9s\tremaining: 4.56s\n",
      "75:\tlearn: 22.3404910\ttotal: 5.92s\tremaining: 4.44s\n",
      "76:\tlearn: 22.2815965\ttotal: 6.01s\tremaining: 4.37s\n",
      "77:\tlearn: 22.2325055\ttotal: 6.11s\tremaining: 4.31s\n",
      "78:\tlearn: 22.1689667\ttotal: 6.21s\tremaining: 4.24s\n",
      "79:\tlearn: 22.1185046\ttotal: 6.3s\tremaining: 4.17s\n",
      "80:\tlearn: 22.0625601\ttotal: 6.32s\tremaining: 4.05s\n",
      "81:\tlearn: 22.0032677\ttotal: 6.41s\tremaining: 3.99s\n",
      "82:\tlearn: 21.9322723\ttotal: 6.51s\tremaining: 3.92s\n",
      "83:\tlearn: 21.8794529\ttotal: 6.6s\tremaining: 3.85s\n",
      "84:\tlearn: 21.8376869\ttotal: 6.69s\tremaining: 3.78s\n",
      "85:\tlearn: 21.7916412\ttotal: 6.71s\tremaining: 3.67s\n",
      "86:\tlearn: 21.7608701\ttotal: 6.81s\tremaining: 3.6s\n",
      "87:\tlearn: 21.7091618\ttotal: 6.9s\tremaining: 3.53s\n",
      "88:\tlearn: 21.6786202\ttotal: 7s\tremaining: 3.46s\n",
      "89:\tlearn: 21.6177149\ttotal: 7.09s\tremaining: 3.39s\n",
      "90:\tlearn: 21.5663927\ttotal: 7.19s\tremaining: 3.32s\n",
      "91:\tlearn: 21.5216780\ttotal: 7.21s\tremaining: 3.21s\n",
      "92:\tlearn: 21.4606811\ttotal: 7.3s\tremaining: 3.14s\n",
      "93:\tlearn: 21.4157659\ttotal: 7.4s\tremaining: 3.07s\n",
      "94:\tlearn: 21.3674641\ttotal: 7.5s\tremaining: 3s\n",
      "95:\tlearn: 21.3000468\ttotal: 7.59s\tremaining: 2.92s\n",
      "96:\tlearn: 21.2490254\ttotal: 7.68s\tremaining: 2.85s\n",
      "97:\tlearn: 21.2149119\ttotal: 7.7s\tremaining: 2.75s\n",
      "98:\tlearn: 21.1660140\ttotal: 7.79s\tremaining: 2.68s\n",
      "99:\tlearn: 21.1329711\ttotal: 7.89s\tremaining: 2.6s\n",
      "100:\tlearn: 21.1021440\ttotal: 7.99s\tremaining: 2.53s\n",
      "101:\tlearn: 21.0940567\ttotal: 7.99s\tremaining: 2.43s\n",
      "102:\tlearn: 21.0493693\ttotal: 8.09s\tremaining: 2.35s\n",
      "103:\tlearn: 21.0066974\ttotal: 8.18s\tremaining: 2.28s\n",
      "104:\tlearn: 20.9646079\ttotal: 8.19s\tremaining: 2.19s\n",
      "105:\tlearn: 20.9317370\ttotal: 8.29s\tremaining: 2.11s\n",
      "106:\tlearn: 20.8850473\ttotal: 8.38s\tremaining: 2.04s\n",
      "107:\tlearn: 20.8415230\ttotal: 8.48s\tremaining: 1.96s\n",
      "108:\tlearn: 20.8007682\ttotal: 8.49s\tremaining: 1.87s\n",
      "109:\tlearn: 20.7685919\ttotal: 8.59s\tremaining: 1.79s\n",
      "110:\tlearn: 20.7321610\ttotal: 8.68s\tremaining: 1.72s\n",
      "111:\tlearn: 20.6793337\ttotal: 8.78s\tremaining: 1.65s\n",
      "112:\tlearn: 20.6330401\ttotal: 8.79s\tremaining: 1.56s\n",
      "113:\tlearn: 20.5894784\ttotal: 8.89s\tremaining: 1.48s\n",
      "114:\tlearn: 20.5372608\ttotal: 8.98s\tremaining: 1.41s\n",
      "115:\tlearn: 20.4975879\ttotal: 9.08s\tremaining: 1.33s\n",
      "116:\tlearn: 20.4672553\ttotal: 9.17s\tremaining: 1.25s\n",
      "117:\tlearn: 20.4305006\ttotal: 9.19s\tremaining: 1.17s\n",
      "118:\tlearn: 20.3946571\ttotal: 9.21s\tremaining: 1.08s\n",
      "119:\tlearn: 20.3615637\ttotal: 9.3s\tremaining: 1.01s\n",
      "120:\tlearn: 20.3292167\ttotal: 9.4s\tremaining: 932ms\n",
      "121:\tlearn: 20.3257083\ttotal: 9.4s\tremaining: 848ms\n",
      "122:\tlearn: 20.2702549\ttotal: 9.5s\tremaining: 773ms\n",
      "123:\tlearn: 20.2382305\ttotal: 9.59s\tremaining: 696ms\n",
      "124:\tlearn: 20.2349388\ttotal: 9.6s\tremaining: 614ms\n",
      "125:\tlearn: 20.2013370\ttotal: 9.69s\tremaining: 538ms\n",
      "126:\tlearn: 20.1648491\ttotal: 9.71s\tremaining: 459ms\n",
      "127:\tlearn: 20.1455630\ttotal: 9.8s\tremaining: 383ms\n",
      "128:\tlearn: 20.1091589\ttotal: 9.9s\tremaining: 307ms\n",
      "129:\tlearn: 20.0743027\ttotal: 9.99s\tremaining: 231ms\n",
      "130:\tlearn: 20.0560136\ttotal: 10.1s\tremaining: 154ms\n",
      "131:\tlearn: 20.0321132\ttotal: 10.2s\tremaining: 77.1ms\n",
      "132:\tlearn: 20.0203686\ttotal: 10.2s\tremaining: 0us\n"
     ]
    },
    {
     "data": {
      "text/plain": [
       "<catboost.core.CatBoostRegressor at 0x7fc50b72bb10>"
      ]
     },
     "execution_count": 11,
     "metadata": {},
     "output_type": "execute_result"
    }
   ],
   "source": [
    "# Создаем модель\n",
    "cat=CatBoostRegressor(iterations=133, depth=11)\n",
    "cat.fit(features_train, target_train)"
   ]
  },
  {
   "cell_type": "markdown",
   "metadata": {},
   "source": [
    "## 3.3 RandomForest"
   ]
  },
  {
   "cell_type": "code",
   "execution_count": 12,
   "metadata": {},
   "outputs": [],
   "source": [
    "import warnings\n",
    "warnings.filterwarnings('ignore')"
   ]
  },
  {
   "cell_type": "code",
   "execution_count": 13,
   "metadata": {},
   "outputs": [
    {
     "name": "stdout",
     "output_type": "stream",
     "text": [
      "1 - 33.947429837962176\n",
      "2 - 30.275546348420228\n",
      "3 - 27.632387633909257\n",
      "4 - 25.987808306636943\n",
      "5 - 24.354604531740378\n",
      "6 - 22.747160724124935\n",
      "7 - 21.256686834743167\n",
      "8 - 19.28838528364317\n",
      "9 - 18.145460847943408\n",
      "10 - 15.754765680995886\n"
     ]
    }
   ],
   "source": [
    "for depth in range(1, 11):\n",
    "    model = RandomForestRegressor(max_depth=depth)\n",
    "    model.fit(features_train, target_train)\n",
    "    predict = model.predict(features_train)\n",
    "    accuracy=mean_squared_error(target_train, predict)**0.5\n",
    "    print(depth, '-', accuracy)"
   ]
  },
  {
   "cell_type": "code",
   "execution_count": 14,
   "metadata": {},
   "outputs": [
    {
     "name": "stdout",
     "output_type": "stream",
     "text": [
      "1 - 21.286609466825844\n",
      "2 - 19.217261013258454\n",
      "3 - 18.067972378381075\n",
      "4 - 17.830100796670873\n",
      "5 - 16.728764526911377\n",
      "6 - 17.113254879616683\n",
      "7 - 16.34262120205445\n",
      "8 - 16.484147697615\n",
      "9 - 16.25786620414227\n",
      "10 - 16.118144831184658\n"
     ]
    }
   ],
   "source": [
    "# Лучшее значение - 10\n",
    "for est in range (1, 11):\n",
    "    model = RandomForestRegressor(max_depth=10, n_estimators=est)\n",
    "    model.fit(features_train, target_train)\n",
    "    predict = model.predict(features_train)\n",
    "    accuracy=mean_squared_error(target_train, predict)**0.5\n",
    "    print(est, '-', accuracy)"
   ]
  },
  {
   "cell_type": "code",
   "execution_count": 15,
   "metadata": {},
   "outputs": [
    {
     "data": {
      "text/plain": [
       "RandomForestRegressor(bootstrap=True, criterion='mse', max_depth=10,\n",
       "                      max_features='auto', max_leaf_nodes=None,\n",
       "                      min_impurity_decrease=0.0, min_impurity_split=None,\n",
       "                      min_samples_leaf=1, min_samples_split=2,\n",
       "                      min_weight_fraction_leaf=0.0, n_estimators=9, n_jobs=None,\n",
       "                      oob_score=False, random_state=None, verbose=0,\n",
       "                      warm_start=False)"
      ]
     },
     "execution_count": 15,
     "metadata": {},
     "output_type": "execute_result"
    }
   ],
   "source": [
    "# Создаем модель\n",
    "rf = RandomForestRegressor(max_depth=10, n_estimators=9)\n",
    "rf.fit(features_train, target_train)"
   ]
  },
  {
   "cell_type": "markdown",
   "metadata": {},
   "source": [
    "## 3.4 DecisionTreeRagressor"
   ]
  },
  {
   "cell_type": "code",
   "execution_count": 16,
   "metadata": {},
   "outputs": [
    {
     "name": "stdout",
     "output_type": "stream",
     "text": [
      "1 - 34.34816644089159\n",
      "2 - 31.625617705529177\n",
      "3 - 28.608011548483763\n",
      "4 - 27.052447860082438\n",
      "5 - 25.198928426030296\n",
      "6 - 23.42518314632451\n",
      "7 - 21.940677194412032\n",
      "8 - 20.181463437446606\n",
      "9 - 18.48947235879837\n",
      "10 - 16.571430424193032\n"
     ]
    }
   ],
   "source": [
    "for depth in range(1, 11):\n",
    "    model = DecisionTreeRegressor(max_depth=depth)\n",
    "    model.fit(features_train, target_train)\n",
    "    predict = model.predict(features_train)\n",
    "    accuracy=mean_squared_error(target_train, predict)**0.5\n",
    "    print(depth, '-', accuracy)"
   ]
  },
  {
   "cell_type": "code",
   "execution_count": 17,
   "metadata": {},
   "outputs": [
    {
     "name": "stdout",
     "output_type": "stream",
     "text": [
      "2 - 16.571430424193032\n",
      "3 - 16.647167186086126\n",
      "4 - 17.11021360411464\n",
      "5 - 17.207919549461728\n",
      "6 - 17.280189557413497\n",
      "7 - 17.474709728845195\n",
      "8 - 17.643454714459104\n",
      "9 - 17.804085385602384\n",
      "10 - 17.978117366089016\n"
     ]
    }
   ],
   "source": [
    "for split in range(2, 11):\n",
    "    model = DecisionTreeRegressor(max_depth=10, min_samples_split=split)\n",
    "    model.fit(features_train, target_train)\n",
    "    predict = model.predict(features_train)\n",
    "    accuracy=mean_squared_error(target_train, predict)**0.5\n",
    "    print(split, '-', accuracy)"
   ]
  },
  {
   "cell_type": "code",
   "execution_count": 18,
   "metadata": {},
   "outputs": [
    {
     "data": {
      "text/plain": [
       "DecisionTreeRegressor(criterion='mse', max_depth=10, max_features=None,\n",
       "                      max_leaf_nodes=None, min_impurity_decrease=0.0,\n",
       "                      min_impurity_split=None, min_samples_leaf=1,\n",
       "                      min_samples_split=2, min_weight_fraction_leaf=0.0,\n",
       "                      presort=False, random_state=None, splitter='best')"
      ]
     },
     "execution_count": 18,
     "metadata": {},
     "output_type": "execute_result"
    }
   ],
   "source": [
    "dt = DecisionTreeRegressor(max_depth = 10, min_samples_split=2)\n",
    "dt.fit(features_train, target_train)"
   ]
  },
  {
   "cell_type": "markdown",
   "metadata": {},
   "source": [
    "<a id='id_4'></a>\n",
    "# 4. Тестирование"
   ]
  },
  {
   "cell_type": "code",
   "execution_count": 19,
   "metadata": {},
   "outputs": [
    {
     "data": {
      "text/plain": [
       "52.574506853736935"
      ]
     },
     "execution_count": 19,
     "metadata": {},
     "output_type": "execute_result"
    }
   ],
   "source": [
    "# Создадим модель\n",
    "linear = LinearRegression()\n",
    "linear.fit(features_train, target_train)\n",
    "predict = linear.predict(features_test)\n",
    "RMSE = mean_squared_error(target_test, predict)**0.5\n",
    "RMSE"
   ]
  },
  {
   "cell_type": "code",
   "execution_count": 20,
   "metadata": {},
   "outputs": [
    {
     "data": {
      "text/plain": [
       "54.489821739450335"
      ]
     },
     "execution_count": 20,
     "metadata": {},
     "output_type": "execute_result"
    }
   ],
   "source": [
    "# CatBoost\n",
    "cat_predict = cat.predict(features_test)\n",
    "RMSE = mean_squared_error(target_test, cat_predict)**0.5\n",
    "RMSE"
   ]
  },
  {
   "cell_type": "code",
   "execution_count": 21,
   "metadata": {},
   "outputs": [
    {
     "data": {
      "text/plain": [
       "47.05789923122764"
      ]
     },
     "execution_count": 21,
     "metadata": {},
     "output_type": "execute_result"
    }
   ],
   "source": [
    "# RandomForest\n",
    "rf_predict = rf.predict(features_test)\n",
    "RMSE = mean_squared_error(target_test, rf_predict)**0.5\n",
    "RMSE"
   ]
  },
  {
   "cell_type": "code",
   "execution_count": 22,
   "metadata": {},
   "outputs": [
    {
     "data": {
      "text/plain": [
       "50.66662260006675"
      ]
     },
     "execution_count": 22,
     "metadata": {},
     "output_type": "execute_result"
    }
   ],
   "source": [
    "# DecisionTree\n",
    "dt_predict = dt.predict(features_test)\n",
    "RMSE = mean_squared_error(target_test, dt_predict)**0.5\n",
    "RMSE"
   ]
  },
  {
   "cell_type": "code",
   "execution_count": 23,
   "metadata": {},
   "outputs": [
    {
     "data": {
      "text/html": [
       "<div>\n",
       "<style scoped>\n",
       "    .dataframe tbody tr th:only-of-type {\n",
       "        vertical-align: middle;\n",
       "    }\n",
       "\n",
       "    .dataframe tbody tr th {\n",
       "        vertical-align: top;\n",
       "    }\n",
       "\n",
       "    .dataframe thead th {\n",
       "        text-align: right;\n",
       "    }\n",
       "</style>\n",
       "<table border=\"1\" class=\"dataframe\">\n",
       "  <thead>\n",
       "    <tr style=\"text-align: right;\">\n",
       "      <th></th>\n",
       "      <th>RMSE</th>\n",
       "    </tr>\n",
       "  </thead>\n",
       "  <tbody>\n",
       "    <tr>\n",
       "      <td>LinearRegressor</td>\n",
       "      <td>8.5</td>\n",
       "    </tr>\n",
       "    <tr>\n",
       "      <td>CatBoost</td>\n",
       "      <td>9.3</td>\n",
       "    </tr>\n",
       "    <tr>\n",
       "      <td>RandomForest</td>\n",
       "      <td>8.9</td>\n",
       "    </tr>\n",
       "    <tr>\n",
       "      <td>DecisionTree</td>\n",
       "      <td>10.9</td>\n",
       "    </tr>\n",
       "  </tbody>\n",
       "</table>\n",
       "</div>"
      ],
      "text/plain": [
       "                 RMSE\n",
       "LinearRegressor   8.5\n",
       "CatBoost          9.3\n",
       "RandomForest      8.9\n",
       "DecisionTree     10.9"
      ]
     },
     "execution_count": 23,
     "metadata": {},
     "output_type": "execute_result"
    }
   ],
   "source": [
    "# Создадим таблицу\n",
    "results = {'RMSE':[8.5, 9.3, 8.9, 10.9]}\n",
    "index = ['LinearRegressor', 'CatBoost', 'RandomForest', 'DecisionTree']\n",
    "all_results = pd.DataFrame(results, index=index)\n",
    "all_results"
   ]
  },
  {
   "cell_type": "markdown",
   "metadata": {},
   "source": [
    "Итак, все модели созданы и проверены на тестовой выборке. Не смотря на разницу в предсказаниях, метрика RMSE (корень из среднего квадратного отклонения) составляет максимум 11 (по заданию необходимо не более 48), а значит все модели в условиях данной задачи нам вполне подходит.\n",
    "\n",
    "Самый низкий показатель ошибки у Линейной регрессии (8.5), далее идет СлучайныйЛес (8.9). КэтБуст и Древо решений составялют 9.3 и 10.9 соответственно и в качестве проигрывают, а значит использовать мы будем линейную регрессию."
   ]
  },
  {
   "cell_type": "code",
   "execution_count": 28,
   "metadata": {},
   "outputs": [
    {
     "data": {
      "image/png": "[encoded data removed]",
      "text/plain": [
       "<Figure size 432x576 with 2 Axes>"
      ]
     },
     "metadata": {
      "needs_background": "light"
     },
     "output_type": "display_data"
    }
   ],
   "source": [
    "# Проверим сезонность\n",
    "data2 = pd.read_csv('/datasets/taxi.csv', index_col=[0], parse_dates=[0])\n",
    "data2 = data2.resample('1H').sum()\n",
    "from statsmodels.tsa.seasonal import seasonal_decompose\n",
    "import matplotlib.pyplot as plt\n",
    "seasonal = seasonal_decompose(data2) \n",
    "plt.figure(figsize=(6, 8))\n",
    "plt.subplot(311)\n",
    "seasonal.trend.plot(ax=plt.gca())\n",
    "plt.title('Trend')\n",
    "plt.subplot(312)\n",
    "seasonal.resid.plot(ax=plt.gca()) \n",
    "plt.title('Residuals')\n",
    "plt.tight_layout()\n",
    "plt.show()"
   ]
  },
  {
   "cell_type": "markdown",
   "metadata": {},
   "source": [
    "Т.к. период у нас всего весна-лето - вычислить сезонность нет возможности. Зато можно отследить трендовость. Как можно заметить по графику - количество заказов у нас непрерывно растет. А значит можно сделать два вывода: либо количество заказов в аэропорты увеличивается непрерывно (без привязки к сезону), либо люди к лету и началу осени летают куда чаще, чем весной (а возможно и зимой количество заказов падает). Но чтобы проверить второй вывод - нам нужно данные хотя бы периодом один год, а в идеале и несколько лет, чтобы понять сезонность. \n",
    "Так же есть некоторые аномально большие значения в определенные дни (возможно, как уже обсуждалось ранее, это могли быть праздничные дни)."
   ]
  },
  {
   "cell_type": "markdown",
   "metadata": {},
   "source": [
    "## 2. График факт/предсказание"
   ]
  },
  {
   "cell_type": "code",
   "execution_count": 76,
   "metadata": {},
   "outputs": [
    {
     "data": {
      "text/html": [
       "<div>\n",
       "<style scoped>\n",
       "    .dataframe tbody tr th:only-of-type {\n",
       "        vertical-align: middle;\n",
       "    }\n",
       "\n",
       "    .dataframe tbody tr th {\n",
       "        vertical-align: top;\n",
       "    }\n",
       "\n",
       "    .dataframe thead th {\n",
       "        text-align: right;\n",
       "    }\n",
       "</style>\n",
       "<table border=\"1\" class=\"dataframe\">\n",
       "  <thead>\n",
       "    <tr style=\"text-align: right;\">\n",
       "      <th></th>\n",
       "      <th>0</th>\n",
       "    </tr>\n",
       "    <tr>\n",
       "      <th>datetime</th>\n",
       "      <th></th>\n",
       "    </tr>\n",
       "  </thead>\n",
       "  <tbody>\n",
       "    <tr>\n",
       "      <td>2018-08-14 00:00:00</td>\n",
       "      <td>203.407407</td>\n",
       "    </tr>\n",
       "    <tr>\n",
       "      <td>2018-08-14 01:00:00</td>\n",
       "      <td>120.292853</td>\n",
       "    </tr>\n",
       "    <tr>\n",
       "      <td>2018-08-14 02:00:00</td>\n",
       "      <td>149.502251</td>\n",
       "    </tr>\n",
       "    <tr>\n",
       "      <td>2018-08-14 03:00:00</td>\n",
       "      <td>165.301099</td>\n",
       "    </tr>\n",
       "    <tr>\n",
       "      <td>2018-08-14 04:00:00</td>\n",
       "      <td>145.873723</td>\n",
       "    </tr>\n",
       "    <tr>\n",
       "      <td>...</td>\n",
       "      <td>...</td>\n",
       "    </tr>\n",
       "    <tr>\n",
       "      <td>2018-08-20 19:00:00</td>\n",
       "      <td>104.696933</td>\n",
       "    </tr>\n",
       "    <tr>\n",
       "      <td>2018-08-20 20:00:00</td>\n",
       "      <td>110.873742</td>\n",
       "    </tr>\n",
       "    <tr>\n",
       "      <td>2018-08-20 21:00:00</td>\n",
       "      <td>119.445563</td>\n",
       "    </tr>\n",
       "    <tr>\n",
       "      <td>2018-08-20 22:00:00</td>\n",
       "      <td>141.482194</td>\n",
       "    </tr>\n",
       "    <tr>\n",
       "      <td>2018-08-20 23:00:00</td>\n",
       "      <td>135.744098</td>\n",
       "    </tr>\n",
       "  </tbody>\n",
       "</table>\n",
       "<p>168 rows × 1 columns</p>\n",
       "</div>"
      ],
      "text/plain": [
       "                              0\n",
       "datetime                       \n",
       "2018-08-14 00:00:00  203.407407\n",
       "2018-08-14 01:00:00  120.292853\n",
       "2018-08-14 02:00:00  149.502251\n",
       "2018-08-14 03:00:00  165.301099\n",
       "2018-08-14 04:00:00  145.873723\n",
       "...                         ...\n",
       "2018-08-20 19:00:00  104.696933\n",
       "2018-08-20 20:00:00  110.873742\n",
       "2018-08-20 21:00:00  119.445563\n",
       "2018-08-20 22:00:00  141.482194\n",
       "2018-08-20 23:00:00  135.744098\n",
       "\n",
       "[168 rows x 1 columns]"
      ]
     },
     "execution_count": 76,
     "metadata": {},
     "output_type": "execute_result"
    }
   ],
   "source": [
    "# Возьмем период - 1 неделя\n",
    "features_test2 = features_test['2018-08-14':'2018-08-20']\n",
    "target_test2=target_test['2018-08-14':'2018-08-20']\n",
    "rf_predict2 = rf.predict(features_test2)\n",
    "rf_predict2 = pd.DataFrame(rf_predict2, index=target_test2.index)\n",
    "rf_predict2"
   ]
  },
  {
   "cell_type": "code",
   "execution_count": 77,
   "metadata": {},
   "outputs": [
    {
     "data": {
      "image/png": "[encoded data removed]",
      "text/plain": [
       "<Figure size 432x288 with 1 Axes>"
      ]
     },
     "metadata": {
      "needs_background": "light"
     },
     "output_type": "display_data"
    },
    {
     "data": {
      "image/png": "[encoded data removed]",
      "text/plain": [
       "<Figure size 576x432 with 1 Axes>"
      ]
     },
     "metadata": {
      "needs_background": "light"
     },
     "output_type": "display_data"
    }
   ],
   "source": [
    "plt.subplots()\n",
    "fig, ax = plt.subplots(figsize=(8, 6))\n",
    "fig.suptitle('Сравнение предсказаний и целевого признака', fontsize=15)\n",
    "ax.plot(rf_predict2, label='Предсказания', color='red')\n",
    "ax.plot(target_test2, color='green', label='Целевой признак')\n",
    "plt.legend(loc=\"upper left\", title=\"Данные\", frameon=False)\n",
    "plt.show()"
   ]
  },
  {
   "cell_type": "markdown",
   "metadata": {},
   "source": [
    "В целом, можно сказать что модель подбирает среднее количество заказов, но при этом очень часто не дотягивает до максимальных значений в час. Так же модель не предсказывает аномально большие значения, а значит как рекомендация - всегда иметь несколько машмн в запасе, т.к. модель по пиковым знаениям отстает от целевых признаков."
   ]
  },
  {
   "cell_type": "markdown",
   "metadata": {},
   "source": [
    "## 3. Выводы"
   ]
  },
  {
   "cell_type": "code",
   "execution_count": 30,
   "metadata": {},
   "outputs": [
    {
     "data": {
      "text/html": [
       "<div>\n",
       "<style scoped>\n",
       "    .dataframe tbody tr th:only-of-type {\n",
       "        vertical-align: middle;\n",
       "    }\n",
       "\n",
       "    .dataframe tbody tr th {\n",
       "        vertical-align: top;\n",
       "    }\n",
       "\n",
       "    .dataframe thead th {\n",
       "        text-align: right;\n",
       "    }\n",
       "</style>\n",
       "<table border=\"1\" class=\"dataframe\">\n",
       "  <thead>\n",
       "    <tr style=\"text-align: right;\">\n",
       "      <th></th>\n",
       "      <th>RMSE</th>\n",
       "    </tr>\n",
       "  </thead>\n",
       "  <tbody>\n",
       "    <tr>\n",
       "      <td>LinearRegressor</td>\n",
       "      <td>52.6</td>\n",
       "    </tr>\n",
       "    <tr>\n",
       "      <td>CatBoost</td>\n",
       "      <td>54.5</td>\n",
       "    </tr>\n",
       "    <tr>\n",
       "      <td>RandomForest</td>\n",
       "      <td>47.0</td>\n",
       "    </tr>\n",
       "    <tr>\n",
       "      <td>DecisionTree</td>\n",
       "      <td>50.7</td>\n",
       "    </tr>\n",
       "  </tbody>\n",
       "</table>\n",
       "</div>"
      ],
      "text/plain": [
       "                 RMSE\n",
       "LinearRegressor  52.6\n",
       "CatBoost         54.5\n",
       "RandomForest     47.0\n",
       "DecisionTree     50.7"
      ]
     },
     "execution_count": 30,
     "metadata": {},
     "output_type": "execute_result"
    }
   ],
   "source": [
    "# Исправленные данные\n",
    "results = {'RMSE':[52.6, 54.5, 47, 50.7]}\n",
    "index = ['LinearRegressor', 'CatBoost', 'RandomForest', 'DecisionTree']\n",
    "all_results = pd.DataFrame(results, index=index)\n",
    "all_results"
   ]
  },
  {
   "cell_type": "markdown",
   "metadata": {},
   "source": [
    "По условиям задачи нам подходит только СлучайныйЛес (значения метрики RMSE составляет 47, это единственное значение, попадающее в допустимый диапозон). Разница в ошибках не такая уж и большая, она варьируется от 47 до 55. Лидер - Случайный лес."
   ]
  },
  {
   "cell_type": "code",
   "execution_count": null,
   "metadata": {},
   "outputs": [],
   "source": []
  }
 ],
 "metadata": {
  "kernelspec": {
   "display_name": "Python 3",
   "language": "python",
   "name": "python3"
  },
  "language_info": {
   "codemirror_mode": {
    "name": "ipython",
    "version": 3
   },
   "file_extension": ".py",
   "mimetype": "text/x-python",
   "name": "python",
   "nbconvert_exporter": "python",
   "pygments_lexer": "ipython3",
   "version": "3.7.8"
  },
  "toc": {
   "base_numbering": 1,
   "nav_menu": {},
   "number_sections": true,
   "sideBar": true,
   "skip_h1_title": true,
   "title_cell": "Table of Contents",
   "title_sidebar": "Contents",
   "toc_cell": false,
   "toc_position": {},
   "toc_section_display": true,
   "toc_window_display": false
  }
 },
 "nbformat": 4,
 "nbformat_minor": 2
}